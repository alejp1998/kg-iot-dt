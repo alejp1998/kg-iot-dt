{
 "cells": [
  {
   "cell_type": "markdown",
   "metadata": {},
   "source": [
    "# Similarity / Distance between Devices"
   ]
  },
  {
   "cell_type": "code",
   "execution_count": 16,
   "metadata": {},
   "outputs": [],
   "source": [
    "from aux import *\n",
    "\n",
    "import pandas as pd\n",
    "import numpy as np\n",
    "\n",
    "from stumpy import mass\n",
    "from thefuzz import fuzz\n",
    "from joblib import Parallel, delayed\n",
    "from datetime import datetime, timedelta\n",
    "\n",
    "import json\n",
    "\n",
    "import plotly.graph_objects as go\n",
    "import plotly.io as pio\n",
    "pio.templates.default = \"plotly_white\"\n",
    "import matplotlib.pyplot as plt\n",
    "plt.style.use('default')"
   ]
  },
  {
   "cell_type": "code",
   "execution_count": 17,
   "metadata": {},
   "outputs": [],
   "source": [
    "#Available colors\n",
    "colors = [\n",
    "    '#1f77b4',  # muted blue\n",
    "    '#ff7f0e',  # safety orange\n",
    "    '#2ca02c',  # cooked asparagus green\n",
    "    '#d62728',  # brick red\n",
    "    '#9467bd',  # muted purple\n",
    "    '#8c564b',  # chestnut brown\n",
    "    '#e377c2',  # raspberry yogurt pink\n",
    "    '#7f7f7f',  # middle gray\n",
    "    '#bcbd22',  # curry yellow-green\n",
    "    '#17becf'   # blue-teal\n",
    "]"
   ]
  },
  {
   "cell_type": "markdown",
   "metadata": {},
   "source": [
    "## Devices SDF definitions"
   ]
  },
  {
   "cell_type": "markdown",
   "metadata": {},
   "source": [
    "### Adapt SDF definition data for analysis"
   ]
  },
  {
   "cell_type": "code",
   "execution_count": 18,
   "metadata": {},
   "outputs": [],
   "source": [
    "# Load SDF files to compare\n",
    "sdf_manager = SDFManager(path='../iot/sdf/')\n",
    "sdfs, sdfs_dfs = sdf_manager.get_all_sdfs()\n",
    "# Join sdf dfs into a single DataFrame\n",
    "sdfs_df = pd.concat([value for key, value in sdfs_dfs.items()]).reset_index()"
   ]
  },
  {
   "cell_type": "code",
   "execution_count": 19,
   "metadata": {},
   "outputs": [
    {
     "data": {
      "text/html": [
       "<div>\n",
       "<style scoped>\n",
       "    .dataframe tbody tr th:only-of-type {\n",
       "        vertical-align: middle;\n",
       "    }\n",
       "\n",
       "    .dataframe tbody tr th {\n",
       "        vertical-align: top;\n",
       "    }\n",
       "\n",
       "    .dataframe thead th {\n",
       "        text-align: right;\n",
       "    }\n",
       "</style>\n",
       "<table border=\"1\" class=\"dataframe\">\n",
       "  <thead>\n",
       "    <tr style=\"text-align: right;\">\n",
       "      <th></th>\n",
       "      <th>thing_desc</th>\n",
       "      <th>obj</th>\n",
       "      <th>obj_desc</th>\n",
       "      <th>prop</th>\n",
       "      <th>prop_desc</th>\n",
       "      <th>prop_type</th>\n",
       "      <th>prop_unit</th>\n",
       "    </tr>\n",
       "  </thead>\n",
       "  <tbody>\n",
       "  </tbody>\n",
       "</table>\n",
       "</div>"
      ],
      "text/plain": [
       "Empty DataFrame\n",
       "Columns: [thing_desc, obj, obj_desc, prop, prop_desc, prop_type, prop_unit]\n",
       "Index: []"
      ]
     },
     "execution_count": 19,
     "metadata": {},
     "output_type": "execute_result"
    }
   ],
   "source": [
    "# Air Quality SDF DATAFRAME\n",
    "sdfs_df[sdfs_df.thing=='AirQualityModified'].iloc[:,2:].reset_index(drop=True)"
   ]
  },
  {
   "cell_type": "markdown",
   "metadata": {},
   "source": [
    "## Devices data"
   ]
  },
  {
   "cell_type": "markdown",
   "metadata": {},
   "source": [
    "### Load devices data"
   ]
  },
  {
   "cell_type": "code",
   "execution_count": 66,
   "metadata": {},
   "outputs": [],
   "source": [
    "# Read devices data samples from JSON\n",
    "with open('devices.json', 'r') as f: devices = json.load(f)"
   ]
  },
  {
   "cell_type": "markdown",
   "metadata": {},
   "source": [
    "### Adapt devices data for analysis"
   ]
  },
  {
   "cell_type": "code",
   "execution_count": 67,
   "metadata": {},
   "outputs": [],
   "source": [
    "# Build devices dataframe\n",
    "rows = []\n",
    "for dev_uuid, dev in devices.items() :\n",
    "    # Dev row initialization\n",
    "    row = {\n",
    "        'uuid': dev_uuid,\n",
    "        'class' : dev['class'],\n",
    "        'integ': dev['integrated'],\n",
    "        'period': dev['period']\n",
    "    }\n",
    "        \n",
    "    # Create a row for each module attribute with a column for each value in the buffer\n",
    "    for mod_name, attribs_dic in dev['modules'].items() :\n",
    "        row['mod'] = mod_name\n",
    "        for attrib_name, values in attribs_dic.items() :\n",
    "            row['attrib'] = attrib_name\n",
    "            for i, val in enumerate(values) : row[f'v{i+1}'] = val\n",
    "            rows.append(row.copy())\n",
    "\n",
    "# Build devices dataframe\n",
    "devs_df = pd.DataFrame(rows)"
   ]
  },
  {
   "cell_type": "markdown",
   "metadata": {},
   "source": [
    "## Similarity Analysis\n",
    "Given an unknown device, determine the 5 closest devices according to SDF definition similarity, and then choose the closest device by including the buffered data. \n",
    "\n",
    "**Possible algorithm**\n",
    "\n",
    "    Given an unknown device(thing) module(object) attribute(property), find 5 closest thing-object-property tuples according to SDF definition.\n",
    "\n",
    "    Then, for each unknown module attribute, determine which attribute resembles the most to it of those in the 5 closest devices, and vote this device UUID as the candidate to be the closest.\n",
    "\n",
    "    Finally, the device that has the most attribute votes is chosen as the closest device."
   ]
  },
  {
   "cell_type": "code",
   "execution_count": 68,
   "metadata": {},
   "outputs": [],
   "source": [
    "# Value columns names\n",
    "val_cols = devs_df.columns[6:]\n",
    "\n",
    "# Turn booleans into integers and cast all data to float\n",
    "devs_df[val_cols] = devs_df[val_cols].replace('False',0).replace('True',1)\n",
    "devs_df[val_cols] = devs_df[val_cols].astype(float)"
   ]
  },
  {
   "cell_type": "code",
   "execution_count": 69,
   "metadata": {},
   "outputs": [
    {
     "data": {
      "text/html": [
       "<div>\n",
       "<style scoped>\n",
       "    .dataframe tbody tr th:only-of-type {\n",
       "        vertical-align: middle;\n",
       "    }\n",
       "\n",
       "    .dataframe tbody tr th {\n",
       "        vertical-align: top;\n",
       "    }\n",
       "\n",
       "    .dataframe thead th {\n",
       "        text-align: right;\n",
       "    }\n",
       "</style>\n",
       "<table border=\"1\" class=\"dataframe\">\n",
       "  <thead>\n",
       "    <tr style=\"text-align: right;\">\n",
       "      <th></th>\n",
       "      <th>uuid</th>\n",
       "      <th>class</th>\n",
       "      <th>integ</th>\n",
       "      <th>period</th>\n",
       "      <th>mod</th>\n",
       "      <th>attrib</th>\n",
       "      <th>v1</th>\n",
       "      <th>v2</th>\n",
       "      <th>v3</th>\n",
       "      <th>v4</th>\n",
       "      <th>...</th>\n",
       "      <th>v46</th>\n",
       "      <th>v47</th>\n",
       "      <th>v48</th>\n",
       "      <th>v49</th>\n",
       "      <th>v50</th>\n",
       "      <th>v51</th>\n",
       "      <th>v52</th>\n",
       "      <th>v53</th>\n",
       "      <th>v54</th>\n",
       "      <th>v55</th>\n",
       "    </tr>\n",
       "  </thead>\n",
       "  <tbody>\n",
       "  </tbody>\n",
       "</table>\n",
       "<p>0 rows × 61 columns</p>\n",
       "</div>"
      ],
      "text/plain": [
       "Empty DataFrame\n",
       "Columns: [uuid, class, integ, period, mod, attrib, v1, v2, v3, v4, v5, v6, v7, v8, v9, v10, v11, v12, v13, v14, v15, v16, v17, v18, v19, v20, v21, v22, v23, v24, v25, v26, v27, v28, v29, v30, v31, v32, v33, v34, v35, v36, v37, v38, v39, v40, v41, v42, v43, v44, v45, v46, v47, v48, v49, v50, v51, v52, v53, v54, v55]\n",
       "Index: []\n",
       "\n",
       "[0 rows x 61 columns]"
      ]
     },
     "execution_count": 69,
     "metadata": {},
     "output_type": "execute_result"
    }
   ],
   "source": [
    "# Air Quality Modified DEVICES DATAFRAME\n",
    "devs_df[devs_df['class']=='AirQualityModified']"
   ]
  },
  {
   "cell_type": "code",
   "execution_count": 70,
   "metadata": {},
   "outputs": [],
   "source": [
    "# Unknown class\n",
    "dev_class = 'AirQualityModified'"
   ]
  },
  {
   "cell_type": "code",
   "execution_count": 71,
   "metadata": {},
   "outputs": [],
   "source": [
    "# Compute voting results df\n",
    "def calc_voting_result_df(votes) :\n",
    "    total_vote_sdf = {}\n",
    "    for vote in votes:\n",
    "        for candidate, score in vote.items() :\n",
    "            if candidate not in total_vote_sdf :\n",
    "                total_vote_sdf[candidate] = score\n",
    "            else :\n",
    "                total_vote_sdf[candidate] += score\n",
    "\n",
    "    return pd.DataFrame(total_vote_sdf.items(),columns=['candidate','score']).sort_values(by='score',ascending=False)"
   ]
  },
  {
   "cell_type": "markdown",
   "metadata": {},
   "source": [
    "### Determine closest devices by SDF comparison\n",
    "\n",
    "String similarity of the fields:\n",
    "- Thing and its description\n",
    "- Object and its description\n",
    "- Property and its description"
   ]
  },
  {
   "cell_type": "code",
   "execution_count": 72,
   "metadata": {},
   "outputs": [],
   "source": [
    "noninteg_class = sdfs_df[sdfs_df.thing == dev_class]\n",
    "integ_classes = sdfs_df[sdfs_df.thing != dev_class]"
   ]
  },
  {
   "cell_type": "code",
   "execution_count": 73,
   "metadata": {},
   "outputs": [],
   "source": [
    "# Define distance functions\n",
    "def calc_str_dist(descs, row):\n",
    "    return fuzz.ratio(descs,row['prop'] + ' ' + row['prop_desc'])\n",
    "\n",
    "# Compute closest classes by comparing SDF descriptions\n",
    "def get_closest_classes(noninteg_class,integ_classes,i,score=3) :\n",
    "    # Create local copies and compare only rows with same data type\n",
    "    noninteg_class_row = noninteg_class.iloc[i].copy()\n",
    "    integ_classes = integ_classes[integ_classes.prop_type==noninteg_class_row['prop_type']].copy()\n",
    "\n",
    "    # Build non integrated row text description\n",
    "    non_integ_class_row_desc = noninteg_class_row['prop'] + ' ' + noninteg_class_row['prop_desc']\n",
    "\n",
    "    # Calc string distances to each other integrated row text description\n",
    "    integ_classes['str_dist'] = integ_classes.apply(lambda x: calc_str_dist(non_integ_class_row_desc,x), axis=1)\n",
    "    closest_things = integ_classes[['thing','obj','prop','str_dist']].sort_values(by='str_dist',ascending=False)\n",
    "\n",
    "    # Give points based on closeness\n",
    "    vote = {}\n",
    "    for row in closest_things.itertuples() :\n",
    "        if score == 0 : break\n",
    "        if row.thing in vote : continue\n",
    "        vote[row.thing] = score\n",
    "        score -= 1\n",
    "\n",
    "    return vote"
   ]
  },
  {
   "cell_type": "code",
   "execution_count": 74,
   "metadata": {},
   "outputs": [
    {
     "data": {
      "text/html": [
       "<div>\n",
       "<style scoped>\n",
       "    .dataframe tbody tr th:only-of-type {\n",
       "        vertical-align: middle;\n",
       "    }\n",
       "\n",
       "    .dataframe tbody tr th {\n",
       "        vertical-align: top;\n",
       "    }\n",
       "\n",
       "    .dataframe thead th {\n",
       "        text-align: right;\n",
       "    }\n",
       "</style>\n",
       "<table border=\"1\" class=\"dataframe\">\n",
       "  <thead>\n",
       "    <tr style=\"text-align: right;\">\n",
       "      <th></th>\n",
       "      <th>candidate</th>\n",
       "      <th>score</th>\n",
       "    </tr>\n",
       "  </thead>\n",
       "  <tbody>\n",
       "  </tbody>\n",
       "</table>\n",
       "</div>"
      ],
      "text/plain": [
       "Empty DataFrame\n",
       "Columns: [candidate, score]\n",
       "Index: []"
      ]
     },
     "execution_count": 74,
     "metadata": {},
     "output_type": "execute_result"
    }
   ],
   "source": [
    "# Compute Top 5 closest SDF classes\n",
    "votes = (Parallel(n_jobs=12)(delayed(get_closest_classes)(noninteg_class,integ_classes,i) for i in range(noninteg_class.shape[0])))\n",
    "voting_result_df = calc_voting_result_df(votes)\n",
    "closest_classes = voting_result_df.candidate.iloc[0:5].tolist()\n",
    "voting_result_df"
   ]
  },
  {
   "cell_type": "markdown",
   "metadata": {},
   "source": [
    "### Compare AirQuality Devices"
   ]
  },
  {
   "cell_type": "code",
   "execution_count": 75,
   "metadata": {},
   "outputs": [],
   "source": [
    "# Select data to plot\n",
    "dev1_uuid = 'indoors_airquality'\n",
    "dev1_df = devs_df[devs_df.uuid == dev1_uuid]\n",
    "dev1_timestamps = [datetime.strptime(timestamp,\"%Y-%m-%dT%H:%M:%S.%f\") for timestamp in devices[dev1_uuid]['timestamps']]\n",
    "\n",
    "dev2_uuid = 'outdoors_airquality'\n",
    "dev2_df = devs_df[devs_df.uuid == dev2_uuid]\n",
    "dev2_timestamps = [datetime.strptime(timestamp,\"%Y-%m-%dT%H:%M:%S.%f\") for timestamp in devices[dev2_uuid]['timestamps']]\n",
    "\n",
    "#dev3_uuid = 'indoors_airqualitysimp'\n",
    "#dev3_df = devs_df[devs_df.uuid == dev3_uuid]\n",
    "#dev3_timestamps = [datetime.strptime(timestamp,\"%Y-%m-%dT%H:%M:%S.%f\") for timestamp in devices[dev3_uuid]['timestamps']]\n",
    "\n",
    "devs = [dev1_df,dev2_df]\n",
    "ts = [dev1_timestamps,dev2_timestamps]"
   ]
  },
  {
   "cell_type": "code",
   "execution_count": 76,
   "metadata": {},
   "outputs": [
    {
     "data": {
      "application/vnd.plotly.v1+json": {
       "config": {
        "plotlyServerURL": "https://plot.ly"
       },
       "data": [
        {
         "mode": "lines",
         "name": "indoors_airquality/temperature_sensor/temperature",
         "type": "scatter",
         "x": [
          "2022-12-26T19:05:51.147173",
          "2022-12-26T19:05:51.147173",
          "2022-12-26T19:05:53.150399",
          "2022-12-26T19:05:55.154377",
          "2022-12-26T19:05:57.157932",
          "2022-12-26T19:05:59.160837",
          "2022-12-26T19:06:01.164592",
          "2022-12-26T19:06:03.167504",
          "2022-12-26T19:06:05.171622",
          "2022-12-26T19:06:07.174460",
          "2022-12-26T19:06:09.177950",
          "2022-12-26T19:06:11.181359",
          "2022-12-26T19:06:13.184855",
          "2022-12-26T19:06:15.188156",
          "2022-12-26T19:06:17.190494",
          "2022-12-26T19:06:19.194754",
          "2022-12-26T19:06:21.197044",
          "2022-12-26T19:06:23.200617",
          "2022-12-26T19:06:25.203312",
          "2022-12-26T19:06:27.206424",
          "2022-12-26T19:06:29.209782",
          "2022-12-26T19:06:31.211242",
          "2022-12-26T19:06:33.214574",
          "2022-12-26T19:06:35.218391",
          "2022-12-26T19:06:37.221926",
          "2022-12-26T19:06:39.225452",
          "2022-12-26T19:06:41.227237",
          "2022-12-26T19:06:43.230502",
          "2022-12-26T19:06:45.233964",
          "2022-12-26T19:06:47.237112",
          "2022-12-26T19:06:49.239683",
          "2022-12-26T19:06:51.242420",
          "2022-12-26T19:06:53.245288",
          "2022-12-26T19:06:55.248110",
          "2022-12-26T19:06:57.251684",
          "2022-12-26T19:06:59.254589",
          "2022-12-26T19:07:01.257435",
          "2022-12-26T19:07:03.258372",
          "2022-12-26T19:07:05.261044",
          "2022-12-26T19:07:07.263875",
          "2022-12-26T19:07:09.266718",
          "2022-12-26T19:07:11.269490",
          "2022-12-26T19:07:13.272330",
          "2022-12-26T19:07:15.274431",
          "2022-12-26T19:07:17.278764",
          "2022-12-26T19:07:19.282434",
          "2022-12-26T19:07:21.286621",
          "2022-12-26T19:07:23.291245",
          "2022-12-26T19:07:25.294423",
          "2022-12-26T19:07:27.297294",
          "2022-12-26T19:07:29.300155",
          "2022-12-26T19:07:31.302641",
          "2022-12-26T19:07:33.305109"
         ],
         "y": [
          19.954675712675876,
          19.926035936611985,
          19.905448195526834,
          19.781293023756202,
          19.657476556233288,
          19.601461654366968,
          19.56178443639586,
          19.631390122576697,
          19.537639079641693,
          19.434703425146,
          19.438822300964524,
          19.383365824340753,
          19.342470074239202,
          19.207315992347656,
          19.16425621209218,
          19.211743462591677,
          19.247734829171133,
          19.43079244414526,
          19.543770071306508,
          19.485872434635056,
          19.65590093911739,
          19.608671332532847,
          19.584260290496122,
          19.573872341316623,
          19.4663605831894,
          19.613619110859062,
          19.788359288718514,
          19.64338337273945,
          19.66354341309691,
          19.59666572123379,
          19.80471651754148,
          19.915440425423895,
          19.922676357007646,
          19.73998117733939,
          19.74459845276117,
          19.621816494235464,
          19.698067460298937,
          19.60105419633429,
          19.533701703627937,
          19.564644955899432,
          19.540269111964637,
          19.55820317588334,
          19.411066415473243,
          19.45052340830362,
          19.53447317576616,
          19.60720328194345,
          19.61740197406967,
          19.56719240819157,
          19.45871663469508,
          19.519107163429922,
          19.551487187558685,
          19.554234219326876,
          null,
          null,
          null
         ]
        },
        {
         "mode": "lines",
         "name": "indoors_airquality/humidity_sensor/humidity",
         "type": "scatter",
         "x": [
          "2022-12-26T19:05:51.147173",
          "2022-12-26T19:05:51.147173",
          "2022-12-26T19:05:53.150399",
          "2022-12-26T19:05:55.154377",
          "2022-12-26T19:05:57.157932",
          "2022-12-26T19:05:59.160837",
          "2022-12-26T19:06:01.164592",
          "2022-12-26T19:06:03.167504",
          "2022-12-26T19:06:05.171622",
          "2022-12-26T19:06:07.174460",
          "2022-12-26T19:06:09.177950",
          "2022-12-26T19:06:11.181359",
          "2022-12-26T19:06:13.184855",
          "2022-12-26T19:06:15.188156",
          "2022-12-26T19:06:17.190494",
          "2022-12-26T19:06:19.194754",
          "2022-12-26T19:06:21.197044",
          "2022-12-26T19:06:23.200617",
          "2022-12-26T19:06:25.203312",
          "2022-12-26T19:06:27.206424",
          "2022-12-26T19:06:29.209782",
          "2022-12-26T19:06:31.211242",
          "2022-12-26T19:06:33.214574",
          "2022-12-26T19:06:35.218391",
          "2022-12-26T19:06:37.221926",
          "2022-12-26T19:06:39.225452",
          "2022-12-26T19:06:41.227237",
          "2022-12-26T19:06:43.230502",
          "2022-12-26T19:06:45.233964",
          "2022-12-26T19:06:47.237112",
          "2022-12-26T19:06:49.239683",
          "2022-12-26T19:06:51.242420",
          "2022-12-26T19:06:53.245288",
          "2022-12-26T19:06:55.248110",
          "2022-12-26T19:06:57.251684",
          "2022-12-26T19:06:59.254589",
          "2022-12-26T19:07:01.257435",
          "2022-12-26T19:07:03.258372",
          "2022-12-26T19:07:05.261044",
          "2022-12-26T19:07:07.263875",
          "2022-12-26T19:07:09.266718",
          "2022-12-26T19:07:11.269490",
          "2022-12-26T19:07:13.272330",
          "2022-12-26T19:07:15.274431",
          "2022-12-26T19:07:17.278764",
          "2022-12-26T19:07:19.282434",
          "2022-12-26T19:07:21.286621",
          "2022-12-26T19:07:23.291245",
          "2022-12-26T19:07:25.294423",
          "2022-12-26T19:07:27.297294",
          "2022-12-26T19:07:29.300155",
          "2022-12-26T19:07:31.302641",
          "2022-12-26T19:07:33.305109"
         ],
         "y": [
          24.961002827814205,
          25.150130074909473,
          25.089893185069,
          25.253011901058347,
          24.955225692348094,
          24.82547135751063,
          24.801532470418362,
          24.9309019310744,
          24.844131515086577,
          24.62343707301224,
          24.60235676564728,
          24.613138540493583,
          24.713093281822385,
          24.53080804377256,
          24.362796258795598,
          24.089481662761017,
          24.263546228494715,
          23.99913858716715,
          23.93012615289909,
          24.114997487020304,
          24.17091584793296,
          24.050251950026773,
          24.069330451095578,
          24.209556197686414,
          24.200627920961708,
          24.33699719254945,
          24.243949118026418,
          24.26825935563345,
          24.21094185638351,
          24.363876210419182,
          24.41870148477523,
          24.46501463512728,
          24.392888088471636,
          24.449747678634644,
          24.54176512115773,
          24.568499049828095,
          24.61217213597323,
          24.670377602100487,
          24.458782073503023,
          24.340802228815665,
          24.291048381417955,
          24.068220412650476,
          23.877266169792733,
          23.946722566308235,
          23.904972585324078,
          23.928048381743746,
          24.000378949421787,
          23.79984714816036,
          23.776029254240395,
          23.646573275948466,
          23.632060762929967,
          23.83355590597449,
          null,
          null,
          null
         ]
        },
        {
         "mode": "lines",
         "name": "outdoors_airquality/temperature_sensor/temperature",
         "type": "scatter",
         "x": [
          "2022-12-26T19:05:51.761516",
          "2022-12-26T19:05:51.761516",
          "2022-12-26T19:05:53.764544",
          "2022-12-26T19:05:55.767133",
          "2022-12-26T19:05:57.770657",
          "2022-12-26T19:05:59.773509",
          "2022-12-26T19:06:01.776291",
          "2022-12-26T19:06:03.779095",
          "2022-12-26T19:06:05.782034",
          "2022-12-26T19:06:07.784707",
          "2022-12-26T19:06:09.787978",
          "2022-12-26T19:06:11.790691",
          "2022-12-26T19:06:13.793515",
          "2022-12-26T19:06:15.794436",
          "2022-12-26T19:06:17.795466",
          "2022-12-26T19:06:19.798125",
          "2022-12-26T19:06:21.801082",
          "2022-12-26T19:06:23.804136",
          "2022-12-26T19:06:25.806519",
          "2022-12-26T19:06:27.810210",
          "2022-12-26T19:06:29.815634",
          "2022-12-26T19:06:31.819236",
          "2022-12-26T19:06:33.822966",
          "2022-12-26T19:06:35.826394",
          "2022-12-26T19:06:37.829152",
          "2022-12-26T19:06:39.831961",
          "2022-12-26T19:06:41.834451",
          "2022-12-26T19:06:43.836353",
          "2022-12-26T19:06:45.839942",
          "2022-12-26T19:06:47.843911",
          "2022-12-26T19:06:49.845281",
          "2022-12-26T19:06:51.848763",
          "2022-12-26T19:06:53.852507",
          "2022-12-26T19:06:55.855408",
          "2022-12-26T19:06:57.858967",
          "2022-12-26T19:06:59.862551",
          "2022-12-26T19:07:01.864103",
          "2022-12-26T19:07:03.865580",
          "2022-12-26T19:07:05.869817",
          "2022-12-26T19:07:07.873379",
          "2022-12-26T19:07:09.876204",
          "2022-12-26T19:07:11.878296",
          "2022-12-26T19:07:13.881764",
          "2022-12-26T19:07:15.885532",
          "2022-12-26T19:07:17.889079",
          "2022-12-26T19:07:19.890446",
          "2022-12-26T19:07:21.894086",
          "2022-12-26T19:07:23.897805",
          "2022-12-26T19:07:25.901410",
          "2022-12-26T19:07:27.904927",
          "2022-12-26T19:07:29.907922",
          "2022-12-26T19:07:31.910883",
          "2022-12-26T19:07:33.914496"
         ],
         "y": [
          9.998890509621791,
          10.03425177721928,
          10.110562165336418,
          10.023680929848325,
          10.028817874242009,
          10.003213324543973,
          9.993535311978626,
          9.99195625706428,
          10.012779936832649,
          10.036968967771141,
          10.018425070318772,
          10.030623978418863,
          9.974430321581636,
          9.941279097238025,
          9.955619438365737,
          9.911417016027038,
          9.869798873312794,
          9.863160672416548,
          9.811903884269537,
          9.764210645186614,
          9.705207434576776,
          9.70802240422068,
          9.726405635524829,
          9.761082853167549,
          9.762948217752347,
          9.660807606070838,
          9.623389148788664,
          9.608237147584381,
          9.629423503582089,
          9.611995213172516,
          9.580146800133006,
          9.56899175859326,
          9.617267811849112,
          9.619864220962281,
          9.69040517904365,
          9.71985032029523,
          9.758274757351412,
          9.763287117216825,
          9.727575266318054,
          9.734825860384133,
          9.757395691719767,
          9.763215702125773,
          9.727623917268078,
          9.866720588630637,
          9.71885275979118,
          9.695320029180904,
          9.645325682003799,
          9.625370273031846,
          9.620689756653714,
          9.614275618683457,
          9.63747412235296,
          9.646082310174435,
          null,
          null,
          null
         ]
        },
        {
         "mode": "lines",
         "name": "outdoors_airquality/humidity_sensor/humidity",
         "type": "scatter",
         "x": [
          "2022-12-26T19:05:51.761516",
          "2022-12-26T19:05:51.761516",
          "2022-12-26T19:05:53.764544",
          "2022-12-26T19:05:55.767133",
          "2022-12-26T19:05:57.770657",
          "2022-12-26T19:05:59.773509",
          "2022-12-26T19:06:01.776291",
          "2022-12-26T19:06:03.779095",
          "2022-12-26T19:06:05.782034",
          "2022-12-26T19:06:07.784707",
          "2022-12-26T19:06:09.787978",
          "2022-12-26T19:06:11.790691",
          "2022-12-26T19:06:13.793515",
          "2022-12-26T19:06:15.794436",
          "2022-12-26T19:06:17.795466",
          "2022-12-26T19:06:19.798125",
          "2022-12-26T19:06:21.801082",
          "2022-12-26T19:06:23.804136",
          "2022-12-26T19:06:25.806519",
          "2022-12-26T19:06:27.810210",
          "2022-12-26T19:06:29.815634",
          "2022-12-26T19:06:31.819236",
          "2022-12-26T19:06:33.822966",
          "2022-12-26T19:06:35.826394",
          "2022-12-26T19:06:37.829152",
          "2022-12-26T19:06:39.831961",
          "2022-12-26T19:06:41.834451",
          "2022-12-26T19:06:43.836353",
          "2022-12-26T19:06:45.839942",
          "2022-12-26T19:06:47.843911",
          "2022-12-26T19:06:49.845281",
          "2022-12-26T19:06:51.848763",
          "2022-12-26T19:06:53.852507",
          "2022-12-26T19:06:55.855408",
          "2022-12-26T19:06:57.858967",
          "2022-12-26T19:06:59.862551",
          "2022-12-26T19:07:01.864103",
          "2022-12-26T19:07:03.865580",
          "2022-12-26T19:07:05.869817",
          "2022-12-26T19:07:07.873379",
          "2022-12-26T19:07:09.876204",
          "2022-12-26T19:07:11.878296",
          "2022-12-26T19:07:13.881764",
          "2022-12-26T19:07:15.885532",
          "2022-12-26T19:07:17.889079",
          "2022-12-26T19:07:19.890446",
          "2022-12-26T19:07:21.894086",
          "2022-12-26T19:07:23.897805",
          "2022-12-26T19:07:25.901410",
          "2022-12-26T19:07:27.904927",
          "2022-12-26T19:07:29.907922",
          "2022-12-26T19:07:31.910883",
          "2022-12-26T19:07:33.914496"
         ],
         "y": [
          49.78239170014015,
          50.00538351706755,
          50.230013406614596,
          50.350671595500074,
          50.420127770963774,
          50.51717099058711,
          50.35424955396595,
          50.346387278344324,
          50.13875079365105,
          50.150503711785376,
          50.45546493537071,
          50.31899789981505,
          50.2475227074153,
          50.19952655858118,
          50.14062633679485,
          50.137971242547465,
          50.2033308350178,
          50.11523300254791,
          50.137688707539866,
          50.564777514261735,
          50.894050920880005,
          50.923144068748876,
          51.038166098204584,
          50.940188660999254,
          51.131970648360074,
          50.847703138987775,
          50.659332537928876,
          50.63324709734623,
          50.4991015439895,
          50.77329281038284,
          50.48138415711316,
          50.21044974740902,
          50.55643562443041,
          50.55557443384647,
          50.62667751507469,
          50.45923542459627,
          50.260994595003716,
          50.43622091857356,
          50.328334370717975,
          50.81371196654985,
          50.829909518221186,
          50.76771862261555,
          50.729945010462345,
          50.631549466980104,
          50.76041927582384,
          50.68747809511446,
          51.01488782629589,
          50.97273678220699,
          51.177130493666226,
          50.95160001284466,
          50.66002172020098,
          51.093040107239425,
          null,
          null,
          null
         ]
        }
       ],
       "layout": {
        "legend": {
         "x": 0.55,
         "xanchor": "left",
         "y": 0.8,
         "yanchor": "top"
        },
        "template": {
         "data": {
          "bar": [
           {
            "error_x": {
             "color": "#2a3f5f"
            },
            "error_y": {
             "color": "#2a3f5f"
            },
            "marker": {
             "line": {
              "color": "white",
              "width": 0.5
             },
             "pattern": {
              "fillmode": "overlay",
              "size": 10,
              "solidity": 0.2
             }
            },
            "type": "bar"
           }
          ],
          "barpolar": [
           {
            "marker": {
             "line": {
              "color": "white",
              "width": 0.5
             },
             "pattern": {
              "fillmode": "overlay",
              "size": 10,
              "solidity": 0.2
             }
            },
            "type": "barpolar"
           }
          ],
          "carpet": [
           {
            "aaxis": {
             "endlinecolor": "#2a3f5f",
             "gridcolor": "#C8D4E3",
             "linecolor": "#C8D4E3",
             "minorgridcolor": "#C8D4E3",
             "startlinecolor": "#2a3f5f"
            },
            "baxis": {
             "endlinecolor": "#2a3f5f",
             "gridcolor": "#C8D4E3",
             "linecolor": "#C8D4E3",
             "minorgridcolor": "#C8D4E3",
             "startlinecolor": "#2a3f5f"
            },
            "type": "carpet"
           }
          ],
          "choropleth": [
           {
            "colorbar": {
             "outlinewidth": 0,
             "ticks": ""
            },
            "type": "choropleth"
           }
          ],
          "contour": [
           {
            "colorbar": {
             "outlinewidth": 0,
             "ticks": ""
            },
            "colorscale": [
             [
              0,
              "#0d0887"
             ],
             [
              0.1111111111111111,
              "#46039f"
             ],
             [
              0.2222222222222222,
              "#7201a8"
             ],
             [
              0.3333333333333333,
              "#9c179e"
             ],
             [
              0.4444444444444444,
              "#bd3786"
             ],
             [
              0.5555555555555556,
              "#d8576b"
             ],
             [
              0.6666666666666666,
              "#ed7953"
             ],
             [
              0.7777777777777778,
              "#fb9f3a"
             ],
             [
              0.8888888888888888,
              "#fdca26"
             ],
             [
              1,
              "#f0f921"
             ]
            ],
            "type": "contour"
           }
          ],
          "contourcarpet": [
           {
            "colorbar": {
             "outlinewidth": 0,
             "ticks": ""
            },
            "type": "contourcarpet"
           }
          ],
          "heatmap": [
           {
            "colorbar": {
             "outlinewidth": 0,
             "ticks": ""
            },
            "colorscale": [
             [
              0,
              "#0d0887"
             ],
             [
              0.1111111111111111,
              "#46039f"
             ],
             [
              0.2222222222222222,
              "#7201a8"
             ],
             [
              0.3333333333333333,
              "#9c179e"
             ],
             [
              0.4444444444444444,
              "#bd3786"
             ],
             [
              0.5555555555555556,
              "#d8576b"
             ],
             [
              0.6666666666666666,
              "#ed7953"
             ],
             [
              0.7777777777777778,
              "#fb9f3a"
             ],
             [
              0.8888888888888888,
              "#fdca26"
             ],
             [
              1,
              "#f0f921"
             ]
            ],
            "type": "heatmap"
           }
          ],
          "heatmapgl": [
           {
            "colorbar": {
             "outlinewidth": 0,
             "ticks": ""
            },
            "colorscale": [
             [
              0,
              "#0d0887"
             ],
             [
              0.1111111111111111,
              "#46039f"
             ],
             [
              0.2222222222222222,
              "#7201a8"
             ],
             [
              0.3333333333333333,
              "#9c179e"
             ],
             [
              0.4444444444444444,
              "#bd3786"
             ],
             [
              0.5555555555555556,
              "#d8576b"
             ],
             [
              0.6666666666666666,
              "#ed7953"
             ],
             [
              0.7777777777777778,
              "#fb9f3a"
             ],
             [
              0.8888888888888888,
              "#fdca26"
             ],
             [
              1,
              "#f0f921"
             ]
            ],
            "type": "heatmapgl"
           }
          ],
          "histogram": [
           {
            "marker": {
             "pattern": {
              "fillmode": "overlay",
              "size": 10,
              "solidity": 0.2
             }
            },
            "type": "histogram"
           }
          ],
          "histogram2d": [
           {
            "colorbar": {
             "outlinewidth": 0,
             "ticks": ""
            },
            "colorscale": [
             [
              0,
              "#0d0887"
             ],
             [
              0.1111111111111111,
              "#46039f"
             ],
             [
              0.2222222222222222,
              "#7201a8"
             ],
             [
              0.3333333333333333,
              "#9c179e"
             ],
             [
              0.4444444444444444,
              "#bd3786"
             ],
             [
              0.5555555555555556,
              "#d8576b"
             ],
             [
              0.6666666666666666,
              "#ed7953"
             ],
             [
              0.7777777777777778,
              "#fb9f3a"
             ],
             [
              0.8888888888888888,
              "#fdca26"
             ],
             [
              1,
              "#f0f921"
             ]
            ],
            "type": "histogram2d"
           }
          ],
          "histogram2dcontour": [
           {
            "colorbar": {
             "outlinewidth": 0,
             "ticks": ""
            },
            "colorscale": [
             [
              0,
              "#0d0887"
             ],
             [
              0.1111111111111111,
              "#46039f"
             ],
             [
              0.2222222222222222,
              "#7201a8"
             ],
             [
              0.3333333333333333,
              "#9c179e"
             ],
             [
              0.4444444444444444,
              "#bd3786"
             ],
             [
              0.5555555555555556,
              "#d8576b"
             ],
             [
              0.6666666666666666,
              "#ed7953"
             ],
             [
              0.7777777777777778,
              "#fb9f3a"
             ],
             [
              0.8888888888888888,
              "#fdca26"
             ],
             [
              1,
              "#f0f921"
             ]
            ],
            "type": "histogram2dcontour"
           }
          ],
          "mesh3d": [
           {
            "colorbar": {
             "outlinewidth": 0,
             "ticks": ""
            },
            "type": "mesh3d"
           }
          ],
          "parcoords": [
           {
            "line": {
             "colorbar": {
              "outlinewidth": 0,
              "ticks": ""
             }
            },
            "type": "parcoords"
           }
          ],
          "pie": [
           {
            "automargin": true,
            "type": "pie"
           }
          ],
          "scatter": [
           {
            "fillpattern": {
             "fillmode": "overlay",
             "size": 10,
             "solidity": 0.2
            },
            "type": "scatter"
           }
          ],
          "scatter3d": [
           {
            "line": {
             "colorbar": {
              "outlinewidth": 0,
              "ticks": ""
             }
            },
            "marker": {
             "colorbar": {
              "outlinewidth": 0,
              "ticks": ""
             }
            },
            "type": "scatter3d"
           }
          ],
          "scattercarpet": [
           {
            "marker": {
             "colorbar": {
              "outlinewidth": 0,
              "ticks": ""
             }
            },
            "type": "scattercarpet"
           }
          ],
          "scattergeo": [
           {
            "marker": {
             "colorbar": {
              "outlinewidth": 0,
              "ticks": ""
             }
            },
            "type": "scattergeo"
           }
          ],
          "scattergl": [
           {
            "marker": {
             "colorbar": {
              "outlinewidth": 0,
              "ticks": ""
             }
            },
            "type": "scattergl"
           }
          ],
          "scattermapbox": [
           {
            "marker": {
             "colorbar": {
              "outlinewidth": 0,
              "ticks": ""
             }
            },
            "type": "scattermapbox"
           }
          ],
          "scatterpolar": [
           {
            "marker": {
             "colorbar": {
              "outlinewidth": 0,
              "ticks": ""
             }
            },
            "type": "scatterpolar"
           }
          ],
          "scatterpolargl": [
           {
            "marker": {
             "colorbar": {
              "outlinewidth": 0,
              "ticks": ""
             }
            },
            "type": "scatterpolargl"
           }
          ],
          "scatterternary": [
           {
            "marker": {
             "colorbar": {
              "outlinewidth": 0,
              "ticks": ""
             }
            },
            "type": "scatterternary"
           }
          ],
          "surface": [
           {
            "colorbar": {
             "outlinewidth": 0,
             "ticks": ""
            },
            "colorscale": [
             [
              0,
              "#0d0887"
             ],
             [
              0.1111111111111111,
              "#46039f"
             ],
             [
              0.2222222222222222,
              "#7201a8"
             ],
             [
              0.3333333333333333,
              "#9c179e"
             ],
             [
              0.4444444444444444,
              "#bd3786"
             ],
             [
              0.5555555555555556,
              "#d8576b"
             ],
             [
              0.6666666666666666,
              "#ed7953"
             ],
             [
              0.7777777777777778,
              "#fb9f3a"
             ],
             [
              0.8888888888888888,
              "#fdca26"
             ],
             [
              1,
              "#f0f921"
             ]
            ],
            "type": "surface"
           }
          ],
          "table": [
           {
            "cells": {
             "fill": {
              "color": "#EBF0F8"
             },
             "line": {
              "color": "white"
             }
            },
            "header": {
             "fill": {
              "color": "#C8D4E3"
             },
             "line": {
              "color": "white"
             }
            },
            "type": "table"
           }
          ]
         },
         "layout": {
          "annotationdefaults": {
           "arrowcolor": "#2a3f5f",
           "arrowhead": 0,
           "arrowwidth": 1
          },
          "autotypenumbers": "strict",
          "coloraxis": {
           "colorbar": {
            "outlinewidth": 0,
            "ticks": ""
           }
          },
          "colorscale": {
           "diverging": [
            [
             0,
             "#8e0152"
            ],
            [
             0.1,
             "#c51b7d"
            ],
            [
             0.2,
             "#de77ae"
            ],
            [
             0.3,
             "#f1b6da"
            ],
            [
             0.4,
             "#fde0ef"
            ],
            [
             0.5,
             "#f7f7f7"
            ],
            [
             0.6,
             "#e6f5d0"
            ],
            [
             0.7,
             "#b8e186"
            ],
            [
             0.8,
             "#7fbc41"
            ],
            [
             0.9,
             "#4d9221"
            ],
            [
             1,
             "#276419"
            ]
           ],
           "sequential": [
            [
             0,
             "#0d0887"
            ],
            [
             0.1111111111111111,
             "#46039f"
            ],
            [
             0.2222222222222222,
             "#7201a8"
            ],
            [
             0.3333333333333333,
             "#9c179e"
            ],
            [
             0.4444444444444444,
             "#bd3786"
            ],
            [
             0.5555555555555556,
             "#d8576b"
            ],
            [
             0.6666666666666666,
             "#ed7953"
            ],
            [
             0.7777777777777778,
             "#fb9f3a"
            ],
            [
             0.8888888888888888,
             "#fdca26"
            ],
            [
             1,
             "#f0f921"
            ]
           ],
           "sequentialminus": [
            [
             0,
             "#0d0887"
            ],
            [
             0.1111111111111111,
             "#46039f"
            ],
            [
             0.2222222222222222,
             "#7201a8"
            ],
            [
             0.3333333333333333,
             "#9c179e"
            ],
            [
             0.4444444444444444,
             "#bd3786"
            ],
            [
             0.5555555555555556,
             "#d8576b"
            ],
            [
             0.6666666666666666,
             "#ed7953"
            ],
            [
             0.7777777777777778,
             "#fb9f3a"
            ],
            [
             0.8888888888888888,
             "#fdca26"
            ],
            [
             1,
             "#f0f921"
            ]
           ]
          },
          "colorway": [
           "#636efa",
           "#EF553B",
           "#00cc96",
           "#ab63fa",
           "#FFA15A",
           "#19d3f3",
           "#FF6692",
           "#B6E880",
           "#FF97FF",
           "#FECB52"
          ],
          "font": {
           "color": "#2a3f5f"
          },
          "geo": {
           "bgcolor": "white",
           "lakecolor": "white",
           "landcolor": "white",
           "showlakes": true,
           "showland": true,
           "subunitcolor": "#C8D4E3"
          },
          "hoverlabel": {
           "align": "left"
          },
          "hovermode": "closest",
          "mapbox": {
           "style": "light"
          },
          "paper_bgcolor": "white",
          "plot_bgcolor": "white",
          "polar": {
           "angularaxis": {
            "gridcolor": "#EBF0F8",
            "linecolor": "#EBF0F8",
            "ticks": ""
           },
           "bgcolor": "white",
           "radialaxis": {
            "gridcolor": "#EBF0F8",
            "linecolor": "#EBF0F8",
            "ticks": ""
           }
          },
          "scene": {
           "xaxis": {
            "backgroundcolor": "white",
            "gridcolor": "#DFE8F3",
            "gridwidth": 2,
            "linecolor": "#EBF0F8",
            "showbackground": true,
            "ticks": "",
            "zerolinecolor": "#EBF0F8"
           },
           "yaxis": {
            "backgroundcolor": "white",
            "gridcolor": "#DFE8F3",
            "gridwidth": 2,
            "linecolor": "#EBF0F8",
            "showbackground": true,
            "ticks": "",
            "zerolinecolor": "#EBF0F8"
           },
           "zaxis": {
            "backgroundcolor": "white",
            "gridcolor": "#DFE8F3",
            "gridwidth": 2,
            "linecolor": "#EBF0F8",
            "showbackground": true,
            "ticks": "",
            "zerolinecolor": "#EBF0F8"
           }
          },
          "shapedefaults": {
           "line": {
            "color": "#2a3f5f"
           }
          },
          "ternary": {
           "aaxis": {
            "gridcolor": "#DFE8F3",
            "linecolor": "#A2B1C6",
            "ticks": ""
           },
           "baxis": {
            "gridcolor": "#DFE8F3",
            "linecolor": "#A2B1C6",
            "ticks": ""
           },
           "bgcolor": "white",
           "caxis": {
            "gridcolor": "#DFE8F3",
            "linecolor": "#A2B1C6",
            "ticks": ""
           }
          },
          "title": {
           "x": 0.05
          },
          "xaxis": {
           "automargin": true,
           "gridcolor": "#EBF0F8",
           "linecolor": "#EBF0F8",
           "ticks": "",
           "title": {
            "standoff": 15
           },
           "zerolinecolor": "#EBF0F8",
           "zerolinewidth": 2
          },
          "yaxis": {
           "automargin": true,
           "gridcolor": "#EBF0F8",
           "linecolor": "#EBF0F8",
           "ticks": "",
           "title": {
            "standoff": 15
           },
           "zerolinecolor": "#EBF0F8",
           "zerolinewidth": 2
          }
         }
        }
       }
      },
      "text/html": [
       "<div>                            <div id=\"ee1e1d9a-308b-47d0-9112-362bd66435b4\" class=\"plotly-graph-div\" style=\"height:525px; width:100%;\"></div>            <script type=\"text/javascript\">                require([\"plotly\"], function(Plotly) {                    window.PLOTLYENV=window.PLOTLYENV || {};                                    if (document.getElementById(\"ee1e1d9a-308b-47d0-9112-362bd66435b4\")) {                    Plotly.newPlot(                        \"ee1e1d9a-308b-47d0-9112-362bd66435b4\",                        [{\"mode\":\"lines\",\"name\":\"indoors_airquality/temperature_sensor/temperature\",\"x\":[\"2022-12-26T19:05:51.147173\",\"2022-12-26T19:05:51.147173\",\"2022-12-26T19:05:53.150399\",\"2022-12-26T19:05:55.154377\",\"2022-12-26T19:05:57.157932\",\"2022-12-26T19:05:59.160837\",\"2022-12-26T19:06:01.164592\",\"2022-12-26T19:06:03.167504\",\"2022-12-26T19:06:05.171622\",\"2022-12-26T19:06:07.174460\",\"2022-12-26T19:06:09.177950\",\"2022-12-26T19:06:11.181359\",\"2022-12-26T19:06:13.184855\",\"2022-12-26T19:06:15.188156\",\"2022-12-26T19:06:17.190494\",\"2022-12-26T19:06:19.194754\",\"2022-12-26T19:06:21.197044\",\"2022-12-26T19:06:23.200617\",\"2022-12-26T19:06:25.203312\",\"2022-12-26T19:06:27.206424\",\"2022-12-26T19:06:29.209782\",\"2022-12-26T19:06:31.211242\",\"2022-12-26T19:06:33.214574\",\"2022-12-26T19:06:35.218391\",\"2022-12-26T19:06:37.221926\",\"2022-12-26T19:06:39.225452\",\"2022-12-26T19:06:41.227237\",\"2022-12-26T19:06:43.230502\",\"2022-12-26T19:06:45.233964\",\"2022-12-26T19:06:47.237112\",\"2022-12-26T19:06:49.239683\",\"2022-12-26T19:06:51.242420\",\"2022-12-26T19:06:53.245288\",\"2022-12-26T19:06:55.248110\",\"2022-12-26T19:06:57.251684\",\"2022-12-26T19:06:59.254589\",\"2022-12-26T19:07:01.257435\",\"2022-12-26T19:07:03.258372\",\"2022-12-26T19:07:05.261044\",\"2022-12-26T19:07:07.263875\",\"2022-12-26T19:07:09.266718\",\"2022-12-26T19:07:11.269490\",\"2022-12-26T19:07:13.272330\",\"2022-12-26T19:07:15.274431\",\"2022-12-26T19:07:17.278764\",\"2022-12-26T19:07:19.282434\",\"2022-12-26T19:07:21.286621\",\"2022-12-26T19:07:23.291245\",\"2022-12-26T19:07:25.294423\",\"2022-12-26T19:07:27.297294\",\"2022-12-26T19:07:29.300155\",\"2022-12-26T19:07:31.302641\",\"2022-12-26T19:07:33.305109\"],\"y\":[19.954675712675876,19.926035936611985,19.905448195526834,19.781293023756202,19.657476556233288,19.601461654366968,19.56178443639586,19.631390122576697,19.537639079641693,19.434703425146,19.438822300964524,19.383365824340753,19.342470074239202,19.207315992347656,19.16425621209218,19.211743462591677,19.247734829171133,19.43079244414526,19.543770071306508,19.485872434635056,19.65590093911739,19.608671332532847,19.584260290496122,19.573872341316623,19.4663605831894,19.613619110859062,19.788359288718514,19.64338337273945,19.66354341309691,19.59666572123379,19.80471651754148,19.915440425423895,19.922676357007646,19.73998117733939,19.74459845276117,19.621816494235464,19.698067460298937,19.60105419633429,19.533701703627937,19.564644955899432,19.540269111964637,19.55820317588334,19.411066415473243,19.45052340830362,19.53447317576616,19.60720328194345,19.61740197406967,19.56719240819157,19.45871663469508,19.519107163429922,19.551487187558685,19.554234219326876,null,null,null],\"type\":\"scatter\"},{\"mode\":\"lines\",\"name\":\"indoors_airquality/humidity_sensor/humidity\",\"x\":[\"2022-12-26T19:05:51.147173\",\"2022-12-26T19:05:51.147173\",\"2022-12-26T19:05:53.150399\",\"2022-12-26T19:05:55.154377\",\"2022-12-26T19:05:57.157932\",\"2022-12-26T19:05:59.160837\",\"2022-12-26T19:06:01.164592\",\"2022-12-26T19:06:03.167504\",\"2022-12-26T19:06:05.171622\",\"2022-12-26T19:06:07.174460\",\"2022-12-26T19:06:09.177950\",\"2022-12-26T19:06:11.181359\",\"2022-12-26T19:06:13.184855\",\"2022-12-26T19:06:15.188156\",\"2022-12-26T19:06:17.190494\",\"2022-12-26T19:06:19.194754\",\"2022-12-26T19:06:21.197044\",\"2022-12-26T19:06:23.200617\",\"2022-12-26T19:06:25.203312\",\"2022-12-26T19:06:27.206424\",\"2022-12-26T19:06:29.209782\",\"2022-12-26T19:06:31.211242\",\"2022-12-26T19:06:33.214574\",\"2022-12-26T19:06:35.218391\",\"2022-12-26T19:06:37.221926\",\"2022-12-26T19:06:39.225452\",\"2022-12-26T19:06:41.227237\",\"2022-12-26T19:06:43.230502\",\"2022-12-26T19:06:45.233964\",\"2022-12-26T19:06:47.237112\",\"2022-12-26T19:06:49.239683\",\"2022-12-26T19:06:51.242420\",\"2022-12-26T19:06:53.245288\",\"2022-12-26T19:06:55.248110\",\"2022-12-26T19:06:57.251684\",\"2022-12-26T19:06:59.254589\",\"2022-12-26T19:07:01.257435\",\"2022-12-26T19:07:03.258372\",\"2022-12-26T19:07:05.261044\",\"2022-12-26T19:07:07.263875\",\"2022-12-26T19:07:09.266718\",\"2022-12-26T19:07:11.269490\",\"2022-12-26T19:07:13.272330\",\"2022-12-26T19:07:15.274431\",\"2022-12-26T19:07:17.278764\",\"2022-12-26T19:07:19.282434\",\"2022-12-26T19:07:21.286621\",\"2022-12-26T19:07:23.291245\",\"2022-12-26T19:07:25.294423\",\"2022-12-26T19:07:27.297294\",\"2022-12-26T19:07:29.300155\",\"2022-12-26T19:07:31.302641\",\"2022-12-26T19:07:33.305109\"],\"y\":[24.961002827814205,25.150130074909473,25.089893185069,25.253011901058347,24.955225692348094,24.82547135751063,24.801532470418362,24.9309019310744,24.844131515086577,24.62343707301224,24.60235676564728,24.613138540493583,24.713093281822385,24.53080804377256,24.362796258795598,24.089481662761017,24.263546228494715,23.99913858716715,23.93012615289909,24.114997487020304,24.17091584793296,24.050251950026773,24.069330451095578,24.209556197686414,24.200627920961708,24.33699719254945,24.243949118026418,24.26825935563345,24.21094185638351,24.363876210419182,24.41870148477523,24.46501463512728,24.392888088471636,24.449747678634644,24.54176512115773,24.568499049828095,24.61217213597323,24.670377602100487,24.458782073503023,24.340802228815665,24.291048381417955,24.068220412650476,23.877266169792733,23.946722566308235,23.904972585324078,23.928048381743746,24.000378949421787,23.79984714816036,23.776029254240395,23.646573275948466,23.632060762929967,23.83355590597449,null,null,null],\"type\":\"scatter\"},{\"mode\":\"lines\",\"name\":\"outdoors_airquality/temperature_sensor/temperature\",\"x\":[\"2022-12-26T19:05:51.761516\",\"2022-12-26T19:05:51.761516\",\"2022-12-26T19:05:53.764544\",\"2022-12-26T19:05:55.767133\",\"2022-12-26T19:05:57.770657\",\"2022-12-26T19:05:59.773509\",\"2022-12-26T19:06:01.776291\",\"2022-12-26T19:06:03.779095\",\"2022-12-26T19:06:05.782034\",\"2022-12-26T19:06:07.784707\",\"2022-12-26T19:06:09.787978\",\"2022-12-26T19:06:11.790691\",\"2022-12-26T19:06:13.793515\",\"2022-12-26T19:06:15.794436\",\"2022-12-26T19:06:17.795466\",\"2022-12-26T19:06:19.798125\",\"2022-12-26T19:06:21.801082\",\"2022-12-26T19:06:23.804136\",\"2022-12-26T19:06:25.806519\",\"2022-12-26T19:06:27.810210\",\"2022-12-26T19:06:29.815634\",\"2022-12-26T19:06:31.819236\",\"2022-12-26T19:06:33.822966\",\"2022-12-26T19:06:35.826394\",\"2022-12-26T19:06:37.829152\",\"2022-12-26T19:06:39.831961\",\"2022-12-26T19:06:41.834451\",\"2022-12-26T19:06:43.836353\",\"2022-12-26T19:06:45.839942\",\"2022-12-26T19:06:47.843911\",\"2022-12-26T19:06:49.845281\",\"2022-12-26T19:06:51.848763\",\"2022-12-26T19:06:53.852507\",\"2022-12-26T19:06:55.855408\",\"2022-12-26T19:06:57.858967\",\"2022-12-26T19:06:59.862551\",\"2022-12-26T19:07:01.864103\",\"2022-12-26T19:07:03.865580\",\"2022-12-26T19:07:05.869817\",\"2022-12-26T19:07:07.873379\",\"2022-12-26T19:07:09.876204\",\"2022-12-26T19:07:11.878296\",\"2022-12-26T19:07:13.881764\",\"2022-12-26T19:07:15.885532\",\"2022-12-26T19:07:17.889079\",\"2022-12-26T19:07:19.890446\",\"2022-12-26T19:07:21.894086\",\"2022-12-26T19:07:23.897805\",\"2022-12-26T19:07:25.901410\",\"2022-12-26T19:07:27.904927\",\"2022-12-26T19:07:29.907922\",\"2022-12-26T19:07:31.910883\",\"2022-12-26T19:07:33.914496\"],\"y\":[9.998890509621791,10.03425177721928,10.110562165336418,10.023680929848325,10.028817874242009,10.003213324543973,9.993535311978626,9.99195625706428,10.012779936832649,10.036968967771141,10.018425070318772,10.030623978418863,9.974430321581636,9.941279097238025,9.955619438365737,9.911417016027038,9.869798873312794,9.863160672416548,9.811903884269537,9.764210645186614,9.705207434576776,9.70802240422068,9.726405635524829,9.761082853167549,9.762948217752347,9.660807606070838,9.623389148788664,9.608237147584381,9.629423503582089,9.611995213172516,9.580146800133006,9.56899175859326,9.617267811849112,9.619864220962281,9.69040517904365,9.71985032029523,9.758274757351412,9.763287117216825,9.727575266318054,9.734825860384133,9.757395691719767,9.763215702125773,9.727623917268078,9.866720588630637,9.71885275979118,9.695320029180904,9.645325682003799,9.625370273031846,9.620689756653714,9.614275618683457,9.63747412235296,9.646082310174435,null,null,null],\"type\":\"scatter\"},{\"mode\":\"lines\",\"name\":\"outdoors_airquality/humidity_sensor/humidity\",\"x\":[\"2022-12-26T19:05:51.761516\",\"2022-12-26T19:05:51.761516\",\"2022-12-26T19:05:53.764544\",\"2022-12-26T19:05:55.767133\",\"2022-12-26T19:05:57.770657\",\"2022-12-26T19:05:59.773509\",\"2022-12-26T19:06:01.776291\",\"2022-12-26T19:06:03.779095\",\"2022-12-26T19:06:05.782034\",\"2022-12-26T19:06:07.784707\",\"2022-12-26T19:06:09.787978\",\"2022-12-26T19:06:11.790691\",\"2022-12-26T19:06:13.793515\",\"2022-12-26T19:06:15.794436\",\"2022-12-26T19:06:17.795466\",\"2022-12-26T19:06:19.798125\",\"2022-12-26T19:06:21.801082\",\"2022-12-26T19:06:23.804136\",\"2022-12-26T19:06:25.806519\",\"2022-12-26T19:06:27.810210\",\"2022-12-26T19:06:29.815634\",\"2022-12-26T19:06:31.819236\",\"2022-12-26T19:06:33.822966\",\"2022-12-26T19:06:35.826394\",\"2022-12-26T19:06:37.829152\",\"2022-12-26T19:06:39.831961\",\"2022-12-26T19:06:41.834451\",\"2022-12-26T19:06:43.836353\",\"2022-12-26T19:06:45.839942\",\"2022-12-26T19:06:47.843911\",\"2022-12-26T19:06:49.845281\",\"2022-12-26T19:06:51.848763\",\"2022-12-26T19:06:53.852507\",\"2022-12-26T19:06:55.855408\",\"2022-12-26T19:06:57.858967\",\"2022-12-26T19:06:59.862551\",\"2022-12-26T19:07:01.864103\",\"2022-12-26T19:07:03.865580\",\"2022-12-26T19:07:05.869817\",\"2022-12-26T19:07:07.873379\",\"2022-12-26T19:07:09.876204\",\"2022-12-26T19:07:11.878296\",\"2022-12-26T19:07:13.881764\",\"2022-12-26T19:07:15.885532\",\"2022-12-26T19:07:17.889079\",\"2022-12-26T19:07:19.890446\",\"2022-12-26T19:07:21.894086\",\"2022-12-26T19:07:23.897805\",\"2022-12-26T19:07:25.901410\",\"2022-12-26T19:07:27.904927\",\"2022-12-26T19:07:29.907922\",\"2022-12-26T19:07:31.910883\",\"2022-12-26T19:07:33.914496\"],\"y\":[49.78239170014015,50.00538351706755,50.230013406614596,50.350671595500074,50.420127770963774,50.51717099058711,50.35424955396595,50.346387278344324,50.13875079365105,50.150503711785376,50.45546493537071,50.31899789981505,50.2475227074153,50.19952655858118,50.14062633679485,50.137971242547465,50.2033308350178,50.11523300254791,50.137688707539866,50.564777514261735,50.894050920880005,50.923144068748876,51.038166098204584,50.940188660999254,51.131970648360074,50.847703138987775,50.659332537928876,50.63324709734623,50.4991015439895,50.77329281038284,50.48138415711316,50.21044974740902,50.55643562443041,50.55557443384647,50.62667751507469,50.45923542459627,50.260994595003716,50.43622091857356,50.328334370717975,50.81371196654985,50.829909518221186,50.76771862261555,50.729945010462345,50.631549466980104,50.76041927582384,50.68747809511446,51.01488782629589,50.97273678220699,51.177130493666226,50.95160001284466,50.66002172020098,51.093040107239425,null,null,null],\"type\":\"scatter\"}],                        {\"template\":{\"data\":{\"histogram2dcontour\":[{\"type\":\"histogram2dcontour\",\"colorbar\":{\"outlinewidth\":0,\"ticks\":\"\"},\"colorscale\":[[0.0,\"#0d0887\"],[0.1111111111111111,\"#46039f\"],[0.2222222222222222,\"#7201a8\"],[0.3333333333333333,\"#9c179e\"],[0.4444444444444444,\"#bd3786\"],[0.5555555555555556,\"#d8576b\"],[0.6666666666666666,\"#ed7953\"],[0.7777777777777778,\"#fb9f3a\"],[0.8888888888888888,\"#fdca26\"],[1.0,\"#f0f921\"]]}],\"choropleth\":[{\"type\":\"choropleth\",\"colorbar\":{\"outlinewidth\":0,\"ticks\":\"\"}}],\"histogram2d\":[{\"type\":\"histogram2d\",\"colorbar\":{\"outlinewidth\":0,\"ticks\":\"\"},\"colorscale\":[[0.0,\"#0d0887\"],[0.1111111111111111,\"#46039f\"],[0.2222222222222222,\"#7201a8\"],[0.3333333333333333,\"#9c179e\"],[0.4444444444444444,\"#bd3786\"],[0.5555555555555556,\"#d8576b\"],[0.6666666666666666,\"#ed7953\"],[0.7777777777777778,\"#fb9f3a\"],[0.8888888888888888,\"#fdca26\"],[1.0,\"#f0f921\"]]}],\"heatmap\":[{\"type\":\"heatmap\",\"colorbar\":{\"outlinewidth\":0,\"ticks\":\"\"},\"colorscale\":[[0.0,\"#0d0887\"],[0.1111111111111111,\"#46039f\"],[0.2222222222222222,\"#7201a8\"],[0.3333333333333333,\"#9c179e\"],[0.4444444444444444,\"#bd3786\"],[0.5555555555555556,\"#d8576b\"],[0.6666666666666666,\"#ed7953\"],[0.7777777777777778,\"#fb9f3a\"],[0.8888888888888888,\"#fdca26\"],[1.0,\"#f0f921\"]]}],\"heatmapgl\":[{\"type\":\"heatmapgl\",\"colorbar\":{\"outlinewidth\":0,\"ticks\":\"\"},\"colorscale\":[[0.0,\"#0d0887\"],[0.1111111111111111,\"#46039f\"],[0.2222222222222222,\"#7201a8\"],[0.3333333333333333,\"#9c179e\"],[0.4444444444444444,\"#bd3786\"],[0.5555555555555556,\"#d8576b\"],[0.6666666666666666,\"#ed7953\"],[0.7777777777777778,\"#fb9f3a\"],[0.8888888888888888,\"#fdca26\"],[1.0,\"#f0f921\"]]}],\"contourcarpet\":[{\"type\":\"contourcarpet\",\"colorbar\":{\"outlinewidth\":0,\"ticks\":\"\"}}],\"contour\":[{\"type\":\"contour\",\"colorbar\":{\"outlinewidth\":0,\"ticks\":\"\"},\"colorscale\":[[0.0,\"#0d0887\"],[0.1111111111111111,\"#46039f\"],[0.2222222222222222,\"#7201a8\"],[0.3333333333333333,\"#9c179e\"],[0.4444444444444444,\"#bd3786\"],[0.5555555555555556,\"#d8576b\"],[0.6666666666666666,\"#ed7953\"],[0.7777777777777778,\"#fb9f3a\"],[0.8888888888888888,\"#fdca26\"],[1.0,\"#f0f921\"]]}],\"surface\":[{\"type\":\"surface\",\"colorbar\":{\"outlinewidth\":0,\"ticks\":\"\"},\"colorscale\":[[0.0,\"#0d0887\"],[0.1111111111111111,\"#46039f\"],[0.2222222222222222,\"#7201a8\"],[0.3333333333333333,\"#9c179e\"],[0.4444444444444444,\"#bd3786\"],[0.5555555555555556,\"#d8576b\"],[0.6666666666666666,\"#ed7953\"],[0.7777777777777778,\"#fb9f3a\"],[0.8888888888888888,\"#fdca26\"],[1.0,\"#f0f921\"]]}],\"mesh3d\":[{\"type\":\"mesh3d\",\"colorbar\":{\"outlinewidth\":0,\"ticks\":\"\"}}],\"scatter\":[{\"fillpattern\":{\"fillmode\":\"overlay\",\"size\":10,\"solidity\":0.2},\"type\":\"scatter\"}],\"parcoords\":[{\"type\":\"parcoords\",\"line\":{\"colorbar\":{\"outlinewidth\":0,\"ticks\":\"\"}}}],\"scatterpolargl\":[{\"type\":\"scatterpolargl\",\"marker\":{\"colorbar\":{\"outlinewidth\":0,\"ticks\":\"\"}}}],\"bar\":[{\"error_x\":{\"color\":\"#2a3f5f\"},\"error_y\":{\"color\":\"#2a3f5f\"},\"marker\":{\"line\":{\"color\":\"white\",\"width\":0.5},\"pattern\":{\"fillmode\":\"overlay\",\"size\":10,\"solidity\":0.2}},\"type\":\"bar\"}],\"scattergeo\":[{\"type\":\"scattergeo\",\"marker\":{\"colorbar\":{\"outlinewidth\":0,\"ticks\":\"\"}}}],\"scatterpolar\":[{\"type\":\"scatterpolar\",\"marker\":{\"colorbar\":{\"outlinewidth\":0,\"ticks\":\"\"}}}],\"histogram\":[{\"marker\":{\"pattern\":{\"fillmode\":\"overlay\",\"size\":10,\"solidity\":0.2}},\"type\":\"histogram\"}],\"scattergl\":[{\"type\":\"scattergl\",\"marker\":{\"colorbar\":{\"outlinewidth\":0,\"ticks\":\"\"}}}],\"scatter3d\":[{\"type\":\"scatter3d\",\"line\":{\"colorbar\":{\"outlinewidth\":0,\"ticks\":\"\"}},\"marker\":{\"colorbar\":{\"outlinewidth\":0,\"ticks\":\"\"}}}],\"scattermapbox\":[{\"type\":\"scattermapbox\",\"marker\":{\"colorbar\":{\"outlinewidth\":0,\"ticks\":\"\"}}}],\"scatterternary\":[{\"type\":\"scatterternary\",\"marker\":{\"colorbar\":{\"outlinewidth\":0,\"ticks\":\"\"}}}],\"scattercarpet\":[{\"type\":\"scattercarpet\",\"marker\":{\"colorbar\":{\"outlinewidth\":0,\"ticks\":\"\"}}}],\"carpet\":[{\"aaxis\":{\"endlinecolor\":\"#2a3f5f\",\"gridcolor\":\"#C8D4E3\",\"linecolor\":\"#C8D4E3\",\"minorgridcolor\":\"#C8D4E3\",\"startlinecolor\":\"#2a3f5f\"},\"baxis\":{\"endlinecolor\":\"#2a3f5f\",\"gridcolor\":\"#C8D4E3\",\"linecolor\":\"#C8D4E3\",\"minorgridcolor\":\"#C8D4E3\",\"startlinecolor\":\"#2a3f5f\"},\"type\":\"carpet\"}],\"table\":[{\"cells\":{\"fill\":{\"color\":\"#EBF0F8\"},\"line\":{\"color\":\"white\"}},\"header\":{\"fill\":{\"color\":\"#C8D4E3\"},\"line\":{\"color\":\"white\"}},\"type\":\"table\"}],\"barpolar\":[{\"marker\":{\"line\":{\"color\":\"white\",\"width\":0.5},\"pattern\":{\"fillmode\":\"overlay\",\"size\":10,\"solidity\":0.2}},\"type\":\"barpolar\"}],\"pie\":[{\"automargin\":true,\"type\":\"pie\"}]},\"layout\":{\"autotypenumbers\":\"strict\",\"colorway\":[\"#636efa\",\"#EF553B\",\"#00cc96\",\"#ab63fa\",\"#FFA15A\",\"#19d3f3\",\"#FF6692\",\"#B6E880\",\"#FF97FF\",\"#FECB52\"],\"font\":{\"color\":\"#2a3f5f\"},\"hovermode\":\"closest\",\"hoverlabel\":{\"align\":\"left\"},\"paper_bgcolor\":\"white\",\"plot_bgcolor\":\"white\",\"polar\":{\"bgcolor\":\"white\",\"angularaxis\":{\"gridcolor\":\"#EBF0F8\",\"linecolor\":\"#EBF0F8\",\"ticks\":\"\"},\"radialaxis\":{\"gridcolor\":\"#EBF0F8\",\"linecolor\":\"#EBF0F8\",\"ticks\":\"\"}},\"ternary\":{\"bgcolor\":\"white\",\"aaxis\":{\"gridcolor\":\"#DFE8F3\",\"linecolor\":\"#A2B1C6\",\"ticks\":\"\"},\"baxis\":{\"gridcolor\":\"#DFE8F3\",\"linecolor\":\"#A2B1C6\",\"ticks\":\"\"},\"caxis\":{\"gridcolor\":\"#DFE8F3\",\"linecolor\":\"#A2B1C6\",\"ticks\":\"\"}},\"coloraxis\":{\"colorbar\":{\"outlinewidth\":0,\"ticks\":\"\"}},\"colorscale\":{\"sequential\":[[0.0,\"#0d0887\"],[0.1111111111111111,\"#46039f\"],[0.2222222222222222,\"#7201a8\"],[0.3333333333333333,\"#9c179e\"],[0.4444444444444444,\"#bd3786\"],[0.5555555555555556,\"#d8576b\"],[0.6666666666666666,\"#ed7953\"],[0.7777777777777778,\"#fb9f3a\"],[0.8888888888888888,\"#fdca26\"],[1.0,\"#f0f921\"]],\"sequentialminus\":[[0.0,\"#0d0887\"],[0.1111111111111111,\"#46039f\"],[0.2222222222222222,\"#7201a8\"],[0.3333333333333333,\"#9c179e\"],[0.4444444444444444,\"#bd3786\"],[0.5555555555555556,\"#d8576b\"],[0.6666666666666666,\"#ed7953\"],[0.7777777777777778,\"#fb9f3a\"],[0.8888888888888888,\"#fdca26\"],[1.0,\"#f0f921\"]],\"diverging\":[[0,\"#8e0152\"],[0.1,\"#c51b7d\"],[0.2,\"#de77ae\"],[0.3,\"#f1b6da\"],[0.4,\"#fde0ef\"],[0.5,\"#f7f7f7\"],[0.6,\"#e6f5d0\"],[0.7,\"#b8e186\"],[0.8,\"#7fbc41\"],[0.9,\"#4d9221\"],[1,\"#276419\"]]},\"xaxis\":{\"gridcolor\":\"#EBF0F8\",\"linecolor\":\"#EBF0F8\",\"ticks\":\"\",\"title\":{\"standoff\":15},\"zerolinecolor\":\"#EBF0F8\",\"automargin\":true,\"zerolinewidth\":2},\"yaxis\":{\"gridcolor\":\"#EBF0F8\",\"linecolor\":\"#EBF0F8\",\"ticks\":\"\",\"title\":{\"standoff\":15},\"zerolinecolor\":\"#EBF0F8\",\"automargin\":true,\"zerolinewidth\":2},\"scene\":{\"xaxis\":{\"backgroundcolor\":\"white\",\"gridcolor\":\"#DFE8F3\",\"linecolor\":\"#EBF0F8\",\"showbackground\":true,\"ticks\":\"\",\"zerolinecolor\":\"#EBF0F8\",\"gridwidth\":2},\"yaxis\":{\"backgroundcolor\":\"white\",\"gridcolor\":\"#DFE8F3\",\"linecolor\":\"#EBF0F8\",\"showbackground\":true,\"ticks\":\"\",\"zerolinecolor\":\"#EBF0F8\",\"gridwidth\":2},\"zaxis\":{\"backgroundcolor\":\"white\",\"gridcolor\":\"#DFE8F3\",\"linecolor\":\"#EBF0F8\",\"showbackground\":true,\"ticks\":\"\",\"zerolinecolor\":\"#EBF0F8\",\"gridwidth\":2}},\"shapedefaults\":{\"line\":{\"color\":\"#2a3f5f\"}},\"annotationdefaults\":{\"arrowcolor\":\"#2a3f5f\",\"arrowhead\":0,\"arrowwidth\":1},\"geo\":{\"bgcolor\":\"white\",\"landcolor\":\"white\",\"subunitcolor\":\"#C8D4E3\",\"showland\":true,\"showlakes\":true,\"lakecolor\":\"white\"},\"title\":{\"x\":0.05},\"mapbox\":{\"style\":\"light\"}}},\"legend\":{\"yanchor\":\"top\",\"y\":0.8,\"xanchor\":\"left\",\"x\":0.55}},                        {\"responsive\": true}                    ).then(function(){\n",
       "                            \n",
       "var gd = document.getElementById('ee1e1d9a-308b-47d0-9112-362bd66435b4');\n",
       "var x = new MutationObserver(function (mutations, observer) {{\n",
       "        var display = window.getComputedStyle(gd).display;\n",
       "        if (!display || display === 'none') {{\n",
       "            console.log([gd, 'removed!']);\n",
       "            Plotly.purge(gd);\n",
       "            observer.disconnect();\n",
       "        }}\n",
       "}});\n",
       "\n",
       "// Listen for the removal of the full notebook cells\n",
       "var notebookContainer = gd.closest('#notebook-container');\n",
       "if (notebookContainer) {{\n",
       "    x.observe(notebookContainer, {childList: true});\n",
       "}}\n",
       "\n",
       "// Listen for the clearing of the current output cell\n",
       "var outputEl = gd.closest('.output');\n",
       "if (outputEl) {{\n",
       "    x.observe(outputEl, {childList: true});\n",
       "}}\n",
       "\n",
       "                        })                };                });            </script>        </div>"
      ]
     },
     "metadata": {},
     "output_type": "display_data"
    }
   ],
   "source": [
    "names = []\n",
    "fig = go.Figure()\n",
    "for i, (dev, t) in enumerate(zip(devs,ts)) :\n",
    "    for j, row in dev.iterrows() :\n",
    "        dev_uuid = row.uuid\n",
    "        dev_class, mod_name, attrib_name = row['class'], row['mod'], row['attrib']\n",
    "        if mod_name in  ['air_quality_sensor','pressure_sensor'] : continue\n",
    "        name = row.uuid + '/' + mod_name + '/' + attrib_name\n",
    "        fig.add_trace(go.Scatter(x=t, y=row[val_cols],\n",
    "                    mode='lines',\n",
    "                    name=name))\n",
    "        names.append(name)\n",
    "fig.update_layout(legend=dict(\n",
    "    yanchor=\"top\",\n",
    "    y=0.8,\n",
    "    xanchor=\"left\",\n",
    "    x=0.55\n",
    "))\n",
    "fig.show()"
   ]
  },
  {
   "cell_type": "markdown",
   "metadata": {},
   "source": [
    "### Compare PickUpRobot Devices"
   ]
  },
  {
   "cell_type": "code",
   "execution_count": 77,
   "metadata": {},
   "outputs": [],
   "source": [
    "# Select data to plot\n",
    "dev1_uuid = 'bodyconfig_pickuprob'\n",
    "dev1_df = devs_df[devs_df.uuid == dev1_uuid]\n",
    "dev1_timestamps = [datetime.strptime(timestamp,\"%Y-%m-%dT%H:%M:%S.%f\") for timestamp in devices[dev1_uuid]['timestamps']]\n",
    "\n",
    "dev2_uuid = 'windowmilling_pickuprob'\n",
    "dev2_df = devs_df[devs_df.uuid == dev2_uuid]\n",
    "dev2_timestamps = [datetime.strptime(timestamp,\"%Y-%m-%dT%H:%M:%S.%f\") for timestamp in devices[dev2_uuid]['timestamps']]\n",
    "\n",
    "#dev3_uuid = 'bodyconfig_pickuprob2'\n",
    "#dev3_df = devs_df[devs_df.uuid == dev3_uuid]\n",
    "#dev3_timestamps = [datetime.strptime(timestamp,\"%Y-%m-%dT%H:%M:%S.%f\") for timestamp in devices[dev3_uuid]['timestamps']]\n",
    "\n",
    "devs = [dev1_df,dev2_df]\n",
    "ts = [dev1_timestamps,dev2_timestamps]"
   ]
  },
  {
   "cell_type": "code",
   "execution_count": 81,
   "metadata": {},
   "outputs": [
    {
     "data": {
      "application/vnd.plotly.v1+json": {
       "config": {
        "plotlyServerURL": "https://plot.ly"
       },
       "data": [
        {
         "mode": "lines",
         "name": "bodyconfig_pickuprob/joint/x_position",
         "type": "scatter",
         "x": [
          "2022-12-26T19:05:47.447933",
          "2022-12-26T19:05:47.447933",
          "2022-12-26T19:05:50.450477",
          "2022-12-26T19:05:53.454470",
          "2022-12-26T19:05:56.458442",
          "2022-12-26T19:05:59.462550",
          "2022-12-26T19:06:02.466423",
          "2022-12-26T19:06:05.470390",
          "2022-12-26T19:06:08.474369",
          "2022-12-26T19:06:11.478289",
          "2022-12-26T19:06:14.482356",
          "2022-12-26T19:06:17.486384",
          "2022-12-26T19:06:20.523567",
          "2022-12-26T19:06:23.526455",
          "2022-12-26T19:06:26.530918",
          "2022-12-26T19:06:29.534392",
          "2022-12-26T19:06:32.538354",
          "2022-12-26T19:06:35.541887",
          "2022-12-26T19:06:38.545822",
          "2022-12-26T19:06:41.549756",
          "2022-12-26T19:06:44.553817",
          "2022-12-26T19:06:47.558377",
          "2022-12-26T19:06:50.562391",
          "2022-12-26T19:06:53.566432",
          "2022-12-26T19:06:56.570401",
          "2022-12-26T19:06:59.574374",
          "2022-12-26T19:07:02.578304",
          "2022-12-26T19:07:05.583314",
          "2022-12-26T19:07:08.586405",
          "2022-12-26T19:07:11.590642",
          "2022-12-26T19:07:14.594472",
          "2022-12-26T19:07:17.599316",
          "2022-12-26T19:07:20.602803",
          "2022-12-26T19:07:23.605826",
          "2022-12-26T19:07:26.609055",
          "2022-12-26T19:07:29.613108",
          "2022-12-26T19:07:32.615523"
         ],
         "y": [
          -0.17679056971672044,
          -0.9900322861879592,
          -0.9501723309444272,
          0.5066304980638994,
          0.8831012005781266,
          0.8812578474707974,
          0.6310171996675367,
          -0.7598288144979516,
          -0.9908285075057527,
          -0.9567737550094372,
          -0.9393962036764946,
          1.000518818270334,
          -0.7147341919334127,
          -0.33323487052962875,
          -0.8117632000385452,
          -0.9180381323831893,
          0.25927725055995954,
          0.9329175139423037,
          0.7558614064858794,
          0.5412448498802934,
          -0.6253963400786913,
          -0.967108120880233,
          -0.6612641729042339,
          0.9897065132981753,
          -0.7703137343758202,
          0.7880406286597184,
          0.7521792306661688,
          -0.9959975618619247,
          -0.12133680289656404,
          -0.8746112892918753,
          -0.4823262334718823,
          -0.07858832150182483,
          0.9059192263682596,
          0.7209715137001742,
          -0.6442439891594404,
          -1.0056157631699216,
          null,
          null,
          null,
          null,
          null,
          null,
          null,
          null,
          null,
          null,
          null,
          null,
          null,
          null,
          null,
          null,
          null,
          null,
          null
         ]
        },
        {
         "mode": "lines",
         "name": "bodyconfig_pickuprob/actuator/x_position",
         "type": "scatter",
         "x": [
          "2022-12-26T19:05:47.447933",
          "2022-12-26T19:05:47.447933",
          "2022-12-26T19:05:50.450477",
          "2022-12-26T19:05:53.454470",
          "2022-12-26T19:05:56.458442",
          "2022-12-26T19:05:59.462550",
          "2022-12-26T19:06:02.466423",
          "2022-12-26T19:06:05.470390",
          "2022-12-26T19:06:08.474369",
          "2022-12-26T19:06:11.478289",
          "2022-12-26T19:06:14.482356",
          "2022-12-26T19:06:17.486384",
          "2022-12-26T19:06:20.523567",
          "2022-12-26T19:06:23.526455",
          "2022-12-26T19:06:26.530918",
          "2022-12-26T19:06:29.534392",
          "2022-12-26T19:06:32.538354",
          "2022-12-26T19:06:35.541887",
          "2022-12-26T19:06:38.545822",
          "2022-12-26T19:06:41.549756",
          "2022-12-26T19:06:44.553817",
          "2022-12-26T19:06:47.558377",
          "2022-12-26T19:06:50.562391",
          "2022-12-26T19:06:53.566432",
          "2022-12-26T19:06:56.570401",
          "2022-12-26T19:06:59.574374",
          "2022-12-26T19:07:02.578304",
          "2022-12-26T19:07:05.583314",
          "2022-12-26T19:07:08.586405",
          "2022-12-26T19:07:11.590642",
          "2022-12-26T19:07:14.594472",
          "2022-12-26T19:07:17.599316",
          "2022-12-26T19:07:20.602803",
          "2022-12-26T19:07:23.605826",
          "2022-12-26T19:07:26.609055",
          "2022-12-26T19:07:29.613108",
          "2022-12-26T19:07:32.615523"
         ],
         "y": [
          0.9274805592258107,
          0.4798235441487596,
          0.5800443670553072,
          -0.8207171612246945,
          -0.6514732616879536,
          -0.6547610826244693,
          -0.2216768321530558,
          0.7200195412720706,
          0.5649042271085778,
          0.38472947166048443,
          0.6122448485564632,
          -0.4993201121121019,
          0.25497098249224426,
          0.8872336872310876,
          0.6828744600153478,
          0.3685225226890121,
          -0.9143381691626699,
          -0.6025424034087123,
          -0.7263544592036043,
          -0.8243003581096087,
          0.7881873438317275,
          0.5627758265115139,
          0.22792031153059075,
          -0.45244776017471416,
          0.2789817185158491,
          -0.2816463095676092,
          -0.26986985519582524,
          0.4845471386211479,
          0.9590649759618133,
          0.6718426942789488,
          0.16001367120462323,
          0.024750016611670627,
          -0.37131488433473364,
          -0.25994464752131624,
          0.7798594958496896,
          0.5086963097375324,
          null,
          null,
          null,
          null,
          null,
          null,
          null,
          null,
          null,
          null,
          null,
          null,
          null,
          null,
          null,
          null,
          null,
          null,
          null
         ]
        },
        {
         "mode": "lines",
         "name": "windowmilling_pickuprob/joint/x_position",
         "type": "scatter",
         "x": [
          "2022-12-26T19:05:47.543097",
          "2022-12-26T19:05:47.543097",
          "2022-12-26T19:05:50.548254",
          "2022-12-26T19:05:53.550446",
          "2022-12-26T19:05:56.553239",
          "2022-12-26T19:05:59.557337",
          "2022-12-26T19:06:02.561903",
          "2022-12-26T19:06:05.566050",
          "2022-12-26T19:06:08.570014",
          "2022-12-26T19:06:11.573097",
          "2022-12-26T19:06:14.577104",
          "2022-12-26T19:06:17.581642",
          "2022-12-26T19:06:20.585670",
          "2022-12-26T19:06:23.589452",
          "2022-12-26T19:06:26.594264",
          "2022-12-26T19:06:29.595251",
          "2022-12-26T19:06:32.600472",
          "2022-12-26T19:06:35.603969",
          "2022-12-26T19:06:38.608083",
          "2022-12-26T19:06:41.613050",
          "2022-12-26T19:06:44.617096",
          "2022-12-26T19:06:47.621201",
          "2022-12-26T19:06:50.622452",
          "2022-12-26T19:06:53.626435",
          "2022-12-26T19:06:56.631044",
          "2022-12-26T19:06:59.636471",
          "2022-12-26T19:07:02.641682",
          "2022-12-26T19:07:05.646419",
          "2022-12-26T19:07:08.650941",
          "2022-12-26T19:07:11.655437",
          "2022-12-26T19:07:14.662410",
          "2022-12-26T19:07:17.665800",
          "2022-12-26T19:07:20.670160",
          "2022-12-26T19:07:23.674369",
          "2022-12-26T19:07:26.678557",
          "2022-12-26T19:07:29.683343",
          "2022-12-26T19:07:32.687257"
         ],
         "y": [
          0.7497063538540641,
          0.5012345451705492,
          1.0688420823115454,
          0.9278997491218155,
          0.5357401368432541,
          1.3899547264526118,
          1.5140608975168977,
          0.6354182379759541,
          1.382497742304903,
          1.499888047980763,
          1.4535636454297391,
          1.2764988339507082,
          1.4808106304047417,
          1.2726344849140505,
          1.5018672287155135,
          0.9427365019018848,
          0.5287547640363315,
          0.5068066672917906,
          0.5256031862210914,
          0.6884489923142956,
          0.9589529539055196,
          0.9014983256914819,
          0.5189891026910006,
          0.6509847975006926,
          0.509781971746936,
          0.5736164889390436,
          1.4978998001504755,
          1.4511097145401048,
          1.1928895619716278,
          1.502813833253015,
          0.8310374246551256,
          1.0733832086283204,
          1.4563581205314324,
          1.2295095269953547,
          1.0428472607870807,
          1.4889810089442181,
          null,
          null,
          null,
          null,
          null,
          null,
          null,
          null,
          null,
          null,
          null,
          null,
          null,
          null,
          null,
          null,
          null,
          null,
          null
         ]
        },
        {
         "mode": "lines",
         "name": "windowmilling_pickuprob/actuator/x_position",
         "type": "scatter",
         "x": [
          "2022-12-26T19:05:47.543097",
          "2022-12-26T19:05:47.543097",
          "2022-12-26T19:05:50.548254",
          "2022-12-26T19:05:53.550446",
          "2022-12-26T19:05:56.553239",
          "2022-12-26T19:05:59.557337",
          "2022-12-26T19:06:02.561903",
          "2022-12-26T19:06:05.566050",
          "2022-12-26T19:06:08.570014",
          "2022-12-26T19:06:11.573097",
          "2022-12-26T19:06:14.577104",
          "2022-12-26T19:06:17.581642",
          "2022-12-26T19:06:20.585670",
          "2022-12-26T19:06:23.589452",
          "2022-12-26T19:06:26.594264",
          "2022-12-26T19:06:29.595251",
          "2022-12-26T19:06:32.600472",
          "2022-12-26T19:06:35.603969",
          "2022-12-26T19:06:38.608083",
          "2022-12-26T19:06:41.613050",
          "2022-12-26T19:06:44.617096",
          "2022-12-26T19:06:47.621201",
          "2022-12-26T19:06:50.622452",
          "2022-12-26T19:06:53.626435",
          "2022-12-26T19:06:56.631044",
          "2022-12-26T19:06:59.636471",
          "2022-12-26T19:07:02.641682",
          "2022-12-26T19:07:05.646419",
          "2022-12-26T19:07:08.650941",
          "2022-12-26T19:07:11.655437",
          "2022-12-26T19:07:14.662410",
          "2022-12-26T19:07:17.665800",
          "2022-12-26T19:07:20.670160",
          "2022-12-26T19:07:23.674369",
          "2022-12-26T19:07:26.678557",
          "2022-12-26T19:07:29.683343",
          "2022-12-26T19:07:32.687257"
         ],
         "y": [
          1.0599827754618272,
          1.2202003522701164,
          0.5194085633652434,
          1.0037360662138728,
          1.186070402336615,
          0.649320891001806,
          0.7150526097382677,
          1.137133211248069,
          0.6531016909415891,
          0.773525825558943,
          0.8102025962955876,
          0.8915876836536255,
          0.7866327197393486,
          0.9102893425740918,
          0.7605236068403942,
          1.488112172549521,
          1.295296187185763,
          1.2674331061097182,
          1.308512645458506,
          1.3773938629162086,
          1.5060583947561486,
          1.4609635743805303,
          1.1797525208571429,
          1.375978419084427,
          1.184008574314458,
          1.1855749272870126,
          0.7550493707601151,
          0.6947666377827001,
          0.5650545947185273,
          0.7297961927093655,
          1.0490644336044763,
          0.966840754307948,
          0.6802862303564073,
          0.9245106760306185,
          0.9945715418207423,
          0.8112215387824085,
          null,
          null,
          null,
          null,
          null,
          null,
          null,
          null,
          null,
          null,
          null,
          null,
          null,
          null,
          null,
          null,
          null,
          null,
          null
         ]
        }
       ],
       "layout": {
        "legend": {
         "x": 0.55,
         "xanchor": "left",
         "y": 1.3,
         "yanchor": "top"
        },
        "template": {
         "data": {
          "bar": [
           {
            "error_x": {
             "color": "#2a3f5f"
            },
            "error_y": {
             "color": "#2a3f5f"
            },
            "marker": {
             "line": {
              "color": "white",
              "width": 0.5
             },
             "pattern": {
              "fillmode": "overlay",
              "size": 10,
              "solidity": 0.2
             }
            },
            "type": "bar"
           }
          ],
          "barpolar": [
           {
            "marker": {
             "line": {
              "color": "white",
              "width": 0.5
             },
             "pattern": {
              "fillmode": "overlay",
              "size": 10,
              "solidity": 0.2
             }
            },
            "type": "barpolar"
           }
          ],
          "carpet": [
           {
            "aaxis": {
             "endlinecolor": "#2a3f5f",
             "gridcolor": "#C8D4E3",
             "linecolor": "#C8D4E3",
             "minorgridcolor": "#C8D4E3",
             "startlinecolor": "#2a3f5f"
            },
            "baxis": {
             "endlinecolor": "#2a3f5f",
             "gridcolor": "#C8D4E3",
             "linecolor": "#C8D4E3",
             "minorgridcolor": "#C8D4E3",
             "startlinecolor": "#2a3f5f"
            },
            "type": "carpet"
           }
          ],
          "choropleth": [
           {
            "colorbar": {
             "outlinewidth": 0,
             "ticks": ""
            },
            "type": "choropleth"
           }
          ],
          "contour": [
           {
            "colorbar": {
             "outlinewidth": 0,
             "ticks": ""
            },
            "colorscale": [
             [
              0,
              "#0d0887"
             ],
             [
              0.1111111111111111,
              "#46039f"
             ],
             [
              0.2222222222222222,
              "#7201a8"
             ],
             [
              0.3333333333333333,
              "#9c179e"
             ],
             [
              0.4444444444444444,
              "#bd3786"
             ],
             [
              0.5555555555555556,
              "#d8576b"
             ],
             [
              0.6666666666666666,
              "#ed7953"
             ],
             [
              0.7777777777777778,
              "#fb9f3a"
             ],
             [
              0.8888888888888888,
              "#fdca26"
             ],
             [
              1,
              "#f0f921"
             ]
            ],
            "type": "contour"
           }
          ],
          "contourcarpet": [
           {
            "colorbar": {
             "outlinewidth": 0,
             "ticks": ""
            },
            "type": "contourcarpet"
           }
          ],
          "heatmap": [
           {
            "colorbar": {
             "outlinewidth": 0,
             "ticks": ""
            },
            "colorscale": [
             [
              0,
              "#0d0887"
             ],
             [
              0.1111111111111111,
              "#46039f"
             ],
             [
              0.2222222222222222,
              "#7201a8"
             ],
             [
              0.3333333333333333,
              "#9c179e"
             ],
             [
              0.4444444444444444,
              "#bd3786"
             ],
             [
              0.5555555555555556,
              "#d8576b"
             ],
             [
              0.6666666666666666,
              "#ed7953"
             ],
             [
              0.7777777777777778,
              "#fb9f3a"
             ],
             [
              0.8888888888888888,
              "#fdca26"
             ],
             [
              1,
              "#f0f921"
             ]
            ],
            "type": "heatmap"
           }
          ],
          "heatmapgl": [
           {
            "colorbar": {
             "outlinewidth": 0,
             "ticks": ""
            },
            "colorscale": [
             [
              0,
              "#0d0887"
             ],
             [
              0.1111111111111111,
              "#46039f"
             ],
             [
              0.2222222222222222,
              "#7201a8"
             ],
             [
              0.3333333333333333,
              "#9c179e"
             ],
             [
              0.4444444444444444,
              "#bd3786"
             ],
             [
              0.5555555555555556,
              "#d8576b"
             ],
             [
              0.6666666666666666,
              "#ed7953"
             ],
             [
              0.7777777777777778,
              "#fb9f3a"
             ],
             [
              0.8888888888888888,
              "#fdca26"
             ],
             [
              1,
              "#f0f921"
             ]
            ],
            "type": "heatmapgl"
           }
          ],
          "histogram": [
           {
            "marker": {
             "pattern": {
              "fillmode": "overlay",
              "size": 10,
              "solidity": 0.2
             }
            },
            "type": "histogram"
           }
          ],
          "histogram2d": [
           {
            "colorbar": {
             "outlinewidth": 0,
             "ticks": ""
            },
            "colorscale": [
             [
              0,
              "#0d0887"
             ],
             [
              0.1111111111111111,
              "#46039f"
             ],
             [
              0.2222222222222222,
              "#7201a8"
             ],
             [
              0.3333333333333333,
              "#9c179e"
             ],
             [
              0.4444444444444444,
              "#bd3786"
             ],
             [
              0.5555555555555556,
              "#d8576b"
             ],
             [
              0.6666666666666666,
              "#ed7953"
             ],
             [
              0.7777777777777778,
              "#fb9f3a"
             ],
             [
              0.8888888888888888,
              "#fdca26"
             ],
             [
              1,
              "#f0f921"
             ]
            ],
            "type": "histogram2d"
           }
          ],
          "histogram2dcontour": [
           {
            "colorbar": {
             "outlinewidth": 0,
             "ticks": ""
            },
            "colorscale": [
             [
              0,
              "#0d0887"
             ],
             [
              0.1111111111111111,
              "#46039f"
             ],
             [
              0.2222222222222222,
              "#7201a8"
             ],
             [
              0.3333333333333333,
              "#9c179e"
             ],
             [
              0.4444444444444444,
              "#bd3786"
             ],
             [
              0.5555555555555556,
              "#d8576b"
             ],
             [
              0.6666666666666666,
              "#ed7953"
             ],
             [
              0.7777777777777778,
              "#fb9f3a"
             ],
             [
              0.8888888888888888,
              "#fdca26"
             ],
             [
              1,
              "#f0f921"
             ]
            ],
            "type": "histogram2dcontour"
           }
          ],
          "mesh3d": [
           {
            "colorbar": {
             "outlinewidth": 0,
             "ticks": ""
            },
            "type": "mesh3d"
           }
          ],
          "parcoords": [
           {
            "line": {
             "colorbar": {
              "outlinewidth": 0,
              "ticks": ""
             }
            },
            "type": "parcoords"
           }
          ],
          "pie": [
           {
            "automargin": true,
            "type": "pie"
           }
          ],
          "scatter": [
           {
            "fillpattern": {
             "fillmode": "overlay",
             "size": 10,
             "solidity": 0.2
            },
            "type": "scatter"
           }
          ],
          "scatter3d": [
           {
            "line": {
             "colorbar": {
              "outlinewidth": 0,
              "ticks": ""
             }
            },
            "marker": {
             "colorbar": {
              "outlinewidth": 0,
              "ticks": ""
             }
            },
            "type": "scatter3d"
           }
          ],
          "scattercarpet": [
           {
            "marker": {
             "colorbar": {
              "outlinewidth": 0,
              "ticks": ""
             }
            },
            "type": "scattercarpet"
           }
          ],
          "scattergeo": [
           {
            "marker": {
             "colorbar": {
              "outlinewidth": 0,
              "ticks": ""
             }
            },
            "type": "scattergeo"
           }
          ],
          "scattergl": [
           {
            "marker": {
             "colorbar": {
              "outlinewidth": 0,
              "ticks": ""
             }
            },
            "type": "scattergl"
           }
          ],
          "scattermapbox": [
           {
            "marker": {
             "colorbar": {
              "outlinewidth": 0,
              "ticks": ""
             }
            },
            "type": "scattermapbox"
           }
          ],
          "scatterpolar": [
           {
            "marker": {
             "colorbar": {
              "outlinewidth": 0,
              "ticks": ""
             }
            },
            "type": "scatterpolar"
           }
          ],
          "scatterpolargl": [
           {
            "marker": {
             "colorbar": {
              "outlinewidth": 0,
              "ticks": ""
             }
            },
            "type": "scatterpolargl"
           }
          ],
          "scatterternary": [
           {
            "marker": {
             "colorbar": {
              "outlinewidth": 0,
              "ticks": ""
             }
            },
            "type": "scatterternary"
           }
          ],
          "surface": [
           {
            "colorbar": {
             "outlinewidth": 0,
             "ticks": ""
            },
            "colorscale": [
             [
              0,
              "#0d0887"
             ],
             [
              0.1111111111111111,
              "#46039f"
             ],
             [
              0.2222222222222222,
              "#7201a8"
             ],
             [
              0.3333333333333333,
              "#9c179e"
             ],
             [
              0.4444444444444444,
              "#bd3786"
             ],
             [
              0.5555555555555556,
              "#d8576b"
             ],
             [
              0.6666666666666666,
              "#ed7953"
             ],
             [
              0.7777777777777778,
              "#fb9f3a"
             ],
             [
              0.8888888888888888,
              "#fdca26"
             ],
             [
              1,
              "#f0f921"
             ]
            ],
            "type": "surface"
           }
          ],
          "table": [
           {
            "cells": {
             "fill": {
              "color": "#EBF0F8"
             },
             "line": {
              "color": "white"
             }
            },
            "header": {
             "fill": {
              "color": "#C8D4E3"
             },
             "line": {
              "color": "white"
             }
            },
            "type": "table"
           }
          ]
         },
         "layout": {
          "annotationdefaults": {
           "arrowcolor": "#2a3f5f",
           "arrowhead": 0,
           "arrowwidth": 1
          },
          "autotypenumbers": "strict",
          "coloraxis": {
           "colorbar": {
            "outlinewidth": 0,
            "ticks": ""
           }
          },
          "colorscale": {
           "diverging": [
            [
             0,
             "#8e0152"
            ],
            [
             0.1,
             "#c51b7d"
            ],
            [
             0.2,
             "#de77ae"
            ],
            [
             0.3,
             "#f1b6da"
            ],
            [
             0.4,
             "#fde0ef"
            ],
            [
             0.5,
             "#f7f7f7"
            ],
            [
             0.6,
             "#e6f5d0"
            ],
            [
             0.7,
             "#b8e186"
            ],
            [
             0.8,
             "#7fbc41"
            ],
            [
             0.9,
             "#4d9221"
            ],
            [
             1,
             "#276419"
            ]
           ],
           "sequential": [
            [
             0,
             "#0d0887"
            ],
            [
             0.1111111111111111,
             "#46039f"
            ],
            [
             0.2222222222222222,
             "#7201a8"
            ],
            [
             0.3333333333333333,
             "#9c179e"
            ],
            [
             0.4444444444444444,
             "#bd3786"
            ],
            [
             0.5555555555555556,
             "#d8576b"
            ],
            [
             0.6666666666666666,
             "#ed7953"
            ],
            [
             0.7777777777777778,
             "#fb9f3a"
            ],
            [
             0.8888888888888888,
             "#fdca26"
            ],
            [
             1,
             "#f0f921"
            ]
           ],
           "sequentialminus": [
            [
             0,
             "#0d0887"
            ],
            [
             0.1111111111111111,
             "#46039f"
            ],
            [
             0.2222222222222222,
             "#7201a8"
            ],
            [
             0.3333333333333333,
             "#9c179e"
            ],
            [
             0.4444444444444444,
             "#bd3786"
            ],
            [
             0.5555555555555556,
             "#d8576b"
            ],
            [
             0.6666666666666666,
             "#ed7953"
            ],
            [
             0.7777777777777778,
             "#fb9f3a"
            ],
            [
             0.8888888888888888,
             "#fdca26"
            ],
            [
             1,
             "#f0f921"
            ]
           ]
          },
          "colorway": [
           "#636efa",
           "#EF553B",
           "#00cc96",
           "#ab63fa",
           "#FFA15A",
           "#19d3f3",
           "#FF6692",
           "#B6E880",
           "#FF97FF",
           "#FECB52"
          ],
          "font": {
           "color": "#2a3f5f"
          },
          "geo": {
           "bgcolor": "white",
           "lakecolor": "white",
           "landcolor": "white",
           "showlakes": true,
           "showland": true,
           "subunitcolor": "#C8D4E3"
          },
          "hoverlabel": {
           "align": "left"
          },
          "hovermode": "closest",
          "mapbox": {
           "style": "light"
          },
          "paper_bgcolor": "white",
          "plot_bgcolor": "white",
          "polar": {
           "angularaxis": {
            "gridcolor": "#EBF0F8",
            "linecolor": "#EBF0F8",
            "ticks": ""
           },
           "bgcolor": "white",
           "radialaxis": {
            "gridcolor": "#EBF0F8",
            "linecolor": "#EBF0F8",
            "ticks": ""
           }
          },
          "scene": {
           "xaxis": {
            "backgroundcolor": "white",
            "gridcolor": "#DFE8F3",
            "gridwidth": 2,
            "linecolor": "#EBF0F8",
            "showbackground": true,
            "ticks": "",
            "zerolinecolor": "#EBF0F8"
           },
           "yaxis": {
            "backgroundcolor": "white",
            "gridcolor": "#DFE8F3",
            "gridwidth": 2,
            "linecolor": "#EBF0F8",
            "showbackground": true,
            "ticks": "",
            "zerolinecolor": "#EBF0F8"
           },
           "zaxis": {
            "backgroundcolor": "white",
            "gridcolor": "#DFE8F3",
            "gridwidth": 2,
            "linecolor": "#EBF0F8",
            "showbackground": true,
            "ticks": "",
            "zerolinecolor": "#EBF0F8"
           }
          },
          "shapedefaults": {
           "line": {
            "color": "#2a3f5f"
           }
          },
          "ternary": {
           "aaxis": {
            "gridcolor": "#DFE8F3",
            "linecolor": "#A2B1C6",
            "ticks": ""
           },
           "baxis": {
            "gridcolor": "#DFE8F3",
            "linecolor": "#A2B1C6",
            "ticks": ""
           },
           "bgcolor": "white",
           "caxis": {
            "gridcolor": "#DFE8F3",
            "linecolor": "#A2B1C6",
            "ticks": ""
           }
          },
          "title": {
           "x": 0.05
          },
          "xaxis": {
           "automargin": true,
           "gridcolor": "#EBF0F8",
           "linecolor": "#EBF0F8",
           "ticks": "",
           "title": {
            "standoff": 15
           },
           "zerolinecolor": "#EBF0F8",
           "zerolinewidth": 2
          },
          "yaxis": {
           "automargin": true,
           "gridcolor": "#EBF0F8",
           "linecolor": "#EBF0F8",
           "ticks": "",
           "title": {
            "standoff": 15
           },
           "zerolinecolor": "#EBF0F8",
           "zerolinewidth": 2
          }
         }
        }
       }
      },
      "text/html": [
       "<div>                            <div id=\"10f6a7d6-7486-453e-9668-0e9ff741f445\" class=\"plotly-graph-div\" style=\"height:525px; width:100%;\"></div>            <script type=\"text/javascript\">                require([\"plotly\"], function(Plotly) {                    window.PLOTLYENV=window.PLOTLYENV || {};                                    if (document.getElementById(\"10f6a7d6-7486-453e-9668-0e9ff741f445\")) {                    Plotly.newPlot(                        \"10f6a7d6-7486-453e-9668-0e9ff741f445\",                        [{\"mode\":\"lines\",\"name\":\"bodyconfig_pickuprob/joint/x_position\",\"x\":[\"2022-12-26T19:05:47.447933\",\"2022-12-26T19:05:47.447933\",\"2022-12-26T19:05:50.450477\",\"2022-12-26T19:05:53.454470\",\"2022-12-26T19:05:56.458442\",\"2022-12-26T19:05:59.462550\",\"2022-12-26T19:06:02.466423\",\"2022-12-26T19:06:05.470390\",\"2022-12-26T19:06:08.474369\",\"2022-12-26T19:06:11.478289\",\"2022-12-26T19:06:14.482356\",\"2022-12-26T19:06:17.486384\",\"2022-12-26T19:06:20.523567\",\"2022-12-26T19:06:23.526455\",\"2022-12-26T19:06:26.530918\",\"2022-12-26T19:06:29.534392\",\"2022-12-26T19:06:32.538354\",\"2022-12-26T19:06:35.541887\",\"2022-12-26T19:06:38.545822\",\"2022-12-26T19:06:41.549756\",\"2022-12-26T19:06:44.553817\",\"2022-12-26T19:06:47.558377\",\"2022-12-26T19:06:50.562391\",\"2022-12-26T19:06:53.566432\",\"2022-12-26T19:06:56.570401\",\"2022-12-26T19:06:59.574374\",\"2022-12-26T19:07:02.578304\",\"2022-12-26T19:07:05.583314\",\"2022-12-26T19:07:08.586405\",\"2022-12-26T19:07:11.590642\",\"2022-12-26T19:07:14.594472\",\"2022-12-26T19:07:17.599316\",\"2022-12-26T19:07:20.602803\",\"2022-12-26T19:07:23.605826\",\"2022-12-26T19:07:26.609055\",\"2022-12-26T19:07:29.613108\",\"2022-12-26T19:07:32.615523\"],\"y\":[-0.17679056971672044,-0.9900322861879592,-0.9501723309444272,0.5066304980638994,0.8831012005781266,0.8812578474707974,0.6310171996675367,-0.7598288144979516,-0.9908285075057527,-0.9567737550094372,-0.9393962036764946,1.000518818270334,-0.7147341919334127,-0.33323487052962875,-0.8117632000385452,-0.9180381323831893,0.25927725055995954,0.9329175139423037,0.7558614064858794,0.5412448498802934,-0.6253963400786913,-0.967108120880233,-0.6612641729042339,0.9897065132981753,-0.7703137343758202,0.7880406286597184,0.7521792306661688,-0.9959975618619247,-0.12133680289656404,-0.8746112892918753,-0.4823262334718823,-0.07858832150182483,0.9059192263682596,0.7209715137001742,-0.6442439891594404,-1.0056157631699216,null,null,null,null,null,null,null,null,null,null,null,null,null,null,null,null,null,null,null],\"type\":\"scatter\"},{\"mode\":\"lines\",\"name\":\"bodyconfig_pickuprob/actuator/x_position\",\"x\":[\"2022-12-26T19:05:47.447933\",\"2022-12-26T19:05:47.447933\",\"2022-12-26T19:05:50.450477\",\"2022-12-26T19:05:53.454470\",\"2022-12-26T19:05:56.458442\",\"2022-12-26T19:05:59.462550\",\"2022-12-26T19:06:02.466423\",\"2022-12-26T19:06:05.470390\",\"2022-12-26T19:06:08.474369\",\"2022-12-26T19:06:11.478289\",\"2022-12-26T19:06:14.482356\",\"2022-12-26T19:06:17.486384\",\"2022-12-26T19:06:20.523567\",\"2022-12-26T19:06:23.526455\",\"2022-12-26T19:06:26.530918\",\"2022-12-26T19:06:29.534392\",\"2022-12-26T19:06:32.538354\",\"2022-12-26T19:06:35.541887\",\"2022-12-26T19:06:38.545822\",\"2022-12-26T19:06:41.549756\",\"2022-12-26T19:06:44.553817\",\"2022-12-26T19:06:47.558377\",\"2022-12-26T19:06:50.562391\",\"2022-12-26T19:06:53.566432\",\"2022-12-26T19:06:56.570401\",\"2022-12-26T19:06:59.574374\",\"2022-12-26T19:07:02.578304\",\"2022-12-26T19:07:05.583314\",\"2022-12-26T19:07:08.586405\",\"2022-12-26T19:07:11.590642\",\"2022-12-26T19:07:14.594472\",\"2022-12-26T19:07:17.599316\",\"2022-12-26T19:07:20.602803\",\"2022-12-26T19:07:23.605826\",\"2022-12-26T19:07:26.609055\",\"2022-12-26T19:07:29.613108\",\"2022-12-26T19:07:32.615523\"],\"y\":[0.9274805592258107,0.4798235441487596,0.5800443670553072,-0.8207171612246945,-0.6514732616879536,-0.6547610826244693,-0.2216768321530558,0.7200195412720706,0.5649042271085778,0.38472947166048443,0.6122448485564632,-0.4993201121121019,0.25497098249224426,0.8872336872310876,0.6828744600153478,0.3685225226890121,-0.9143381691626699,-0.6025424034087123,-0.7263544592036043,-0.8243003581096087,0.7881873438317275,0.5627758265115139,0.22792031153059075,-0.45244776017471416,0.2789817185158491,-0.2816463095676092,-0.26986985519582524,0.4845471386211479,0.9590649759618133,0.6718426942789488,0.16001367120462323,0.024750016611670627,-0.37131488433473364,-0.25994464752131624,0.7798594958496896,0.5086963097375324,null,null,null,null,null,null,null,null,null,null,null,null,null,null,null,null,null,null,null],\"type\":\"scatter\"},{\"mode\":\"lines\",\"name\":\"windowmilling_pickuprob/joint/x_position\",\"x\":[\"2022-12-26T19:05:47.543097\",\"2022-12-26T19:05:47.543097\",\"2022-12-26T19:05:50.548254\",\"2022-12-26T19:05:53.550446\",\"2022-12-26T19:05:56.553239\",\"2022-12-26T19:05:59.557337\",\"2022-12-26T19:06:02.561903\",\"2022-12-26T19:06:05.566050\",\"2022-12-26T19:06:08.570014\",\"2022-12-26T19:06:11.573097\",\"2022-12-26T19:06:14.577104\",\"2022-12-26T19:06:17.581642\",\"2022-12-26T19:06:20.585670\",\"2022-12-26T19:06:23.589452\",\"2022-12-26T19:06:26.594264\",\"2022-12-26T19:06:29.595251\",\"2022-12-26T19:06:32.600472\",\"2022-12-26T19:06:35.603969\",\"2022-12-26T19:06:38.608083\",\"2022-12-26T19:06:41.613050\",\"2022-12-26T19:06:44.617096\",\"2022-12-26T19:06:47.621201\",\"2022-12-26T19:06:50.622452\",\"2022-12-26T19:06:53.626435\",\"2022-12-26T19:06:56.631044\",\"2022-12-26T19:06:59.636471\",\"2022-12-26T19:07:02.641682\",\"2022-12-26T19:07:05.646419\",\"2022-12-26T19:07:08.650941\",\"2022-12-26T19:07:11.655437\",\"2022-12-26T19:07:14.662410\",\"2022-12-26T19:07:17.665800\",\"2022-12-26T19:07:20.670160\",\"2022-12-26T19:07:23.674369\",\"2022-12-26T19:07:26.678557\",\"2022-12-26T19:07:29.683343\",\"2022-12-26T19:07:32.687257\"],\"y\":[0.7497063538540641,0.5012345451705492,1.0688420823115454,0.9278997491218155,0.5357401368432541,1.3899547264526118,1.5140608975168977,0.6354182379759541,1.382497742304903,1.499888047980763,1.4535636454297391,1.2764988339507082,1.4808106304047417,1.2726344849140505,1.5018672287155135,0.9427365019018848,0.5287547640363315,0.5068066672917906,0.5256031862210914,0.6884489923142956,0.9589529539055196,0.9014983256914819,0.5189891026910006,0.6509847975006926,0.509781971746936,0.5736164889390436,1.4978998001504755,1.4511097145401048,1.1928895619716278,1.502813833253015,0.8310374246551256,1.0733832086283204,1.4563581205314324,1.2295095269953547,1.0428472607870807,1.4889810089442181,null,null,null,null,null,null,null,null,null,null,null,null,null,null,null,null,null,null,null],\"type\":\"scatter\"},{\"mode\":\"lines\",\"name\":\"windowmilling_pickuprob/actuator/x_position\",\"x\":[\"2022-12-26T19:05:47.543097\",\"2022-12-26T19:05:47.543097\",\"2022-12-26T19:05:50.548254\",\"2022-12-26T19:05:53.550446\",\"2022-12-26T19:05:56.553239\",\"2022-12-26T19:05:59.557337\",\"2022-12-26T19:06:02.561903\",\"2022-12-26T19:06:05.566050\",\"2022-12-26T19:06:08.570014\",\"2022-12-26T19:06:11.573097\",\"2022-12-26T19:06:14.577104\",\"2022-12-26T19:06:17.581642\",\"2022-12-26T19:06:20.585670\",\"2022-12-26T19:06:23.589452\",\"2022-12-26T19:06:26.594264\",\"2022-12-26T19:06:29.595251\",\"2022-12-26T19:06:32.600472\",\"2022-12-26T19:06:35.603969\",\"2022-12-26T19:06:38.608083\",\"2022-12-26T19:06:41.613050\",\"2022-12-26T19:06:44.617096\",\"2022-12-26T19:06:47.621201\",\"2022-12-26T19:06:50.622452\",\"2022-12-26T19:06:53.626435\",\"2022-12-26T19:06:56.631044\",\"2022-12-26T19:06:59.636471\",\"2022-12-26T19:07:02.641682\",\"2022-12-26T19:07:05.646419\",\"2022-12-26T19:07:08.650941\",\"2022-12-26T19:07:11.655437\",\"2022-12-26T19:07:14.662410\",\"2022-12-26T19:07:17.665800\",\"2022-12-26T19:07:20.670160\",\"2022-12-26T19:07:23.674369\",\"2022-12-26T19:07:26.678557\",\"2022-12-26T19:07:29.683343\",\"2022-12-26T19:07:32.687257\"],\"y\":[1.0599827754618272,1.2202003522701164,0.5194085633652434,1.0037360662138728,1.186070402336615,0.649320891001806,0.7150526097382677,1.137133211248069,0.6531016909415891,0.773525825558943,0.8102025962955876,0.8915876836536255,0.7866327197393486,0.9102893425740918,0.7605236068403942,1.488112172549521,1.295296187185763,1.2674331061097182,1.308512645458506,1.3773938629162086,1.5060583947561486,1.4609635743805303,1.1797525208571429,1.375978419084427,1.184008574314458,1.1855749272870126,0.7550493707601151,0.6947666377827001,0.5650545947185273,0.7297961927093655,1.0490644336044763,0.966840754307948,0.6802862303564073,0.9245106760306185,0.9945715418207423,0.8112215387824085,null,null,null,null,null,null,null,null,null,null,null,null,null,null,null,null,null,null,null],\"type\":\"scatter\"}],                        {\"template\":{\"data\":{\"histogram2dcontour\":[{\"type\":\"histogram2dcontour\",\"colorbar\":{\"outlinewidth\":0,\"ticks\":\"\"},\"colorscale\":[[0.0,\"#0d0887\"],[0.1111111111111111,\"#46039f\"],[0.2222222222222222,\"#7201a8\"],[0.3333333333333333,\"#9c179e\"],[0.4444444444444444,\"#bd3786\"],[0.5555555555555556,\"#d8576b\"],[0.6666666666666666,\"#ed7953\"],[0.7777777777777778,\"#fb9f3a\"],[0.8888888888888888,\"#fdca26\"],[1.0,\"#f0f921\"]]}],\"choropleth\":[{\"type\":\"choropleth\",\"colorbar\":{\"outlinewidth\":0,\"ticks\":\"\"}}],\"histogram2d\":[{\"type\":\"histogram2d\",\"colorbar\":{\"outlinewidth\":0,\"ticks\":\"\"},\"colorscale\":[[0.0,\"#0d0887\"],[0.1111111111111111,\"#46039f\"],[0.2222222222222222,\"#7201a8\"],[0.3333333333333333,\"#9c179e\"],[0.4444444444444444,\"#bd3786\"],[0.5555555555555556,\"#d8576b\"],[0.6666666666666666,\"#ed7953\"],[0.7777777777777778,\"#fb9f3a\"],[0.8888888888888888,\"#fdca26\"],[1.0,\"#f0f921\"]]}],\"heatmap\":[{\"type\":\"heatmap\",\"colorbar\":{\"outlinewidth\":0,\"ticks\":\"\"},\"colorscale\":[[0.0,\"#0d0887\"],[0.1111111111111111,\"#46039f\"],[0.2222222222222222,\"#7201a8\"],[0.3333333333333333,\"#9c179e\"],[0.4444444444444444,\"#bd3786\"],[0.5555555555555556,\"#d8576b\"],[0.6666666666666666,\"#ed7953\"],[0.7777777777777778,\"#fb9f3a\"],[0.8888888888888888,\"#fdca26\"],[1.0,\"#f0f921\"]]}],\"heatmapgl\":[{\"type\":\"heatmapgl\",\"colorbar\":{\"outlinewidth\":0,\"ticks\":\"\"},\"colorscale\":[[0.0,\"#0d0887\"],[0.1111111111111111,\"#46039f\"],[0.2222222222222222,\"#7201a8\"],[0.3333333333333333,\"#9c179e\"],[0.4444444444444444,\"#bd3786\"],[0.5555555555555556,\"#d8576b\"],[0.6666666666666666,\"#ed7953\"],[0.7777777777777778,\"#fb9f3a\"],[0.8888888888888888,\"#fdca26\"],[1.0,\"#f0f921\"]]}],\"contourcarpet\":[{\"type\":\"contourcarpet\",\"colorbar\":{\"outlinewidth\":0,\"ticks\":\"\"}}],\"contour\":[{\"type\":\"contour\",\"colorbar\":{\"outlinewidth\":0,\"ticks\":\"\"},\"colorscale\":[[0.0,\"#0d0887\"],[0.1111111111111111,\"#46039f\"],[0.2222222222222222,\"#7201a8\"],[0.3333333333333333,\"#9c179e\"],[0.4444444444444444,\"#bd3786\"],[0.5555555555555556,\"#d8576b\"],[0.6666666666666666,\"#ed7953\"],[0.7777777777777778,\"#fb9f3a\"],[0.8888888888888888,\"#fdca26\"],[1.0,\"#f0f921\"]]}],\"surface\":[{\"type\":\"surface\",\"colorbar\":{\"outlinewidth\":0,\"ticks\":\"\"},\"colorscale\":[[0.0,\"#0d0887\"],[0.1111111111111111,\"#46039f\"],[0.2222222222222222,\"#7201a8\"],[0.3333333333333333,\"#9c179e\"],[0.4444444444444444,\"#bd3786\"],[0.5555555555555556,\"#d8576b\"],[0.6666666666666666,\"#ed7953\"],[0.7777777777777778,\"#fb9f3a\"],[0.8888888888888888,\"#fdca26\"],[1.0,\"#f0f921\"]]}],\"mesh3d\":[{\"type\":\"mesh3d\",\"colorbar\":{\"outlinewidth\":0,\"ticks\":\"\"}}],\"scatter\":[{\"fillpattern\":{\"fillmode\":\"overlay\",\"size\":10,\"solidity\":0.2},\"type\":\"scatter\"}],\"parcoords\":[{\"type\":\"parcoords\",\"line\":{\"colorbar\":{\"outlinewidth\":0,\"ticks\":\"\"}}}],\"scatterpolargl\":[{\"type\":\"scatterpolargl\",\"marker\":{\"colorbar\":{\"outlinewidth\":0,\"ticks\":\"\"}}}],\"bar\":[{\"error_x\":{\"color\":\"#2a3f5f\"},\"error_y\":{\"color\":\"#2a3f5f\"},\"marker\":{\"line\":{\"color\":\"white\",\"width\":0.5},\"pattern\":{\"fillmode\":\"overlay\",\"size\":10,\"solidity\":0.2}},\"type\":\"bar\"}],\"scattergeo\":[{\"type\":\"scattergeo\",\"marker\":{\"colorbar\":{\"outlinewidth\":0,\"ticks\":\"\"}}}],\"scatterpolar\":[{\"type\":\"scatterpolar\",\"marker\":{\"colorbar\":{\"outlinewidth\":0,\"ticks\":\"\"}}}],\"histogram\":[{\"marker\":{\"pattern\":{\"fillmode\":\"overlay\",\"size\":10,\"solidity\":0.2}},\"type\":\"histogram\"}],\"scattergl\":[{\"type\":\"scattergl\",\"marker\":{\"colorbar\":{\"outlinewidth\":0,\"ticks\":\"\"}}}],\"scatter3d\":[{\"type\":\"scatter3d\",\"line\":{\"colorbar\":{\"outlinewidth\":0,\"ticks\":\"\"}},\"marker\":{\"colorbar\":{\"outlinewidth\":0,\"ticks\":\"\"}}}],\"scattermapbox\":[{\"type\":\"scattermapbox\",\"marker\":{\"colorbar\":{\"outlinewidth\":0,\"ticks\":\"\"}}}],\"scatterternary\":[{\"type\":\"scatterternary\",\"marker\":{\"colorbar\":{\"outlinewidth\":0,\"ticks\":\"\"}}}],\"scattercarpet\":[{\"type\":\"scattercarpet\",\"marker\":{\"colorbar\":{\"outlinewidth\":0,\"ticks\":\"\"}}}],\"carpet\":[{\"aaxis\":{\"endlinecolor\":\"#2a3f5f\",\"gridcolor\":\"#C8D4E3\",\"linecolor\":\"#C8D4E3\",\"minorgridcolor\":\"#C8D4E3\",\"startlinecolor\":\"#2a3f5f\"},\"baxis\":{\"endlinecolor\":\"#2a3f5f\",\"gridcolor\":\"#C8D4E3\",\"linecolor\":\"#C8D4E3\",\"minorgridcolor\":\"#C8D4E3\",\"startlinecolor\":\"#2a3f5f\"},\"type\":\"carpet\"}],\"table\":[{\"cells\":{\"fill\":{\"color\":\"#EBF0F8\"},\"line\":{\"color\":\"white\"}},\"header\":{\"fill\":{\"color\":\"#C8D4E3\"},\"line\":{\"color\":\"white\"}},\"type\":\"table\"}],\"barpolar\":[{\"marker\":{\"line\":{\"color\":\"white\",\"width\":0.5},\"pattern\":{\"fillmode\":\"overlay\",\"size\":10,\"solidity\":0.2}},\"type\":\"barpolar\"}],\"pie\":[{\"automargin\":true,\"type\":\"pie\"}]},\"layout\":{\"autotypenumbers\":\"strict\",\"colorway\":[\"#636efa\",\"#EF553B\",\"#00cc96\",\"#ab63fa\",\"#FFA15A\",\"#19d3f3\",\"#FF6692\",\"#B6E880\",\"#FF97FF\",\"#FECB52\"],\"font\":{\"color\":\"#2a3f5f\"},\"hovermode\":\"closest\",\"hoverlabel\":{\"align\":\"left\"},\"paper_bgcolor\":\"white\",\"plot_bgcolor\":\"white\",\"polar\":{\"bgcolor\":\"white\",\"angularaxis\":{\"gridcolor\":\"#EBF0F8\",\"linecolor\":\"#EBF0F8\",\"ticks\":\"\"},\"radialaxis\":{\"gridcolor\":\"#EBF0F8\",\"linecolor\":\"#EBF0F8\",\"ticks\":\"\"}},\"ternary\":{\"bgcolor\":\"white\",\"aaxis\":{\"gridcolor\":\"#DFE8F3\",\"linecolor\":\"#A2B1C6\",\"ticks\":\"\"},\"baxis\":{\"gridcolor\":\"#DFE8F3\",\"linecolor\":\"#A2B1C6\",\"ticks\":\"\"},\"caxis\":{\"gridcolor\":\"#DFE8F3\",\"linecolor\":\"#A2B1C6\",\"ticks\":\"\"}},\"coloraxis\":{\"colorbar\":{\"outlinewidth\":0,\"ticks\":\"\"}},\"colorscale\":{\"sequential\":[[0.0,\"#0d0887\"],[0.1111111111111111,\"#46039f\"],[0.2222222222222222,\"#7201a8\"],[0.3333333333333333,\"#9c179e\"],[0.4444444444444444,\"#bd3786\"],[0.5555555555555556,\"#d8576b\"],[0.6666666666666666,\"#ed7953\"],[0.7777777777777778,\"#fb9f3a\"],[0.8888888888888888,\"#fdca26\"],[1.0,\"#f0f921\"]],\"sequentialminus\":[[0.0,\"#0d0887\"],[0.1111111111111111,\"#46039f\"],[0.2222222222222222,\"#7201a8\"],[0.3333333333333333,\"#9c179e\"],[0.4444444444444444,\"#bd3786\"],[0.5555555555555556,\"#d8576b\"],[0.6666666666666666,\"#ed7953\"],[0.7777777777777778,\"#fb9f3a\"],[0.8888888888888888,\"#fdca26\"],[1.0,\"#f0f921\"]],\"diverging\":[[0,\"#8e0152\"],[0.1,\"#c51b7d\"],[0.2,\"#de77ae\"],[0.3,\"#f1b6da\"],[0.4,\"#fde0ef\"],[0.5,\"#f7f7f7\"],[0.6,\"#e6f5d0\"],[0.7,\"#b8e186\"],[0.8,\"#7fbc41\"],[0.9,\"#4d9221\"],[1,\"#276419\"]]},\"xaxis\":{\"gridcolor\":\"#EBF0F8\",\"linecolor\":\"#EBF0F8\",\"ticks\":\"\",\"title\":{\"standoff\":15},\"zerolinecolor\":\"#EBF0F8\",\"automargin\":true,\"zerolinewidth\":2},\"yaxis\":{\"gridcolor\":\"#EBF0F8\",\"linecolor\":\"#EBF0F8\",\"ticks\":\"\",\"title\":{\"standoff\":15},\"zerolinecolor\":\"#EBF0F8\",\"automargin\":true,\"zerolinewidth\":2},\"scene\":{\"xaxis\":{\"backgroundcolor\":\"white\",\"gridcolor\":\"#DFE8F3\",\"linecolor\":\"#EBF0F8\",\"showbackground\":true,\"ticks\":\"\",\"zerolinecolor\":\"#EBF0F8\",\"gridwidth\":2},\"yaxis\":{\"backgroundcolor\":\"white\",\"gridcolor\":\"#DFE8F3\",\"linecolor\":\"#EBF0F8\",\"showbackground\":true,\"ticks\":\"\",\"zerolinecolor\":\"#EBF0F8\",\"gridwidth\":2},\"zaxis\":{\"backgroundcolor\":\"white\",\"gridcolor\":\"#DFE8F3\",\"linecolor\":\"#EBF0F8\",\"showbackground\":true,\"ticks\":\"\",\"zerolinecolor\":\"#EBF0F8\",\"gridwidth\":2}},\"shapedefaults\":{\"line\":{\"color\":\"#2a3f5f\"}},\"annotationdefaults\":{\"arrowcolor\":\"#2a3f5f\",\"arrowhead\":0,\"arrowwidth\":1},\"geo\":{\"bgcolor\":\"white\",\"landcolor\":\"white\",\"subunitcolor\":\"#C8D4E3\",\"showland\":true,\"showlakes\":true,\"lakecolor\":\"white\"},\"title\":{\"x\":0.05},\"mapbox\":{\"style\":\"light\"}}},\"legend\":{\"yanchor\":\"top\",\"y\":1.3,\"xanchor\":\"left\",\"x\":0.55}},                        {\"responsive\": true}                    ).then(function(){\n",
       "                            \n",
       "var gd = document.getElementById('10f6a7d6-7486-453e-9668-0e9ff741f445');\n",
       "var x = new MutationObserver(function (mutations, observer) {{\n",
       "        var display = window.getComputedStyle(gd).display;\n",
       "        if (!display || display === 'none') {{\n",
       "            console.log([gd, 'removed!']);\n",
       "            Plotly.purge(gd);\n",
       "            observer.disconnect();\n",
       "        }}\n",
       "}});\n",
       "\n",
       "// Listen for the removal of the full notebook cells\n",
       "var notebookContainer = gd.closest('#notebook-container');\n",
       "if (notebookContainer) {{\n",
       "    x.observe(notebookContainer, {childList: true});\n",
       "}}\n",
       "\n",
       "// Listen for the clearing of the current output cell\n",
       "var outputEl = gd.closest('.output');\n",
       "if (outputEl) {{\n",
       "    x.observe(outputEl, {childList: true});\n",
       "}}\n",
       "\n",
       "                        })                };                });            </script>        </div>"
      ]
     },
     "metadata": {},
     "output_type": "display_data"
    }
   ],
   "source": [
    "names = []\n",
    "fig = go.Figure()\n",
    "for i, (dev, t) in enumerate(zip(devs,ts)) :\n",
    "    for j, row in dev.iterrows() :\n",
    "        dev_uuid = row.uuid\n",
    "        dev_class, mod_name, attrib_name = row['class'], row['mod'], row['attrib']\n",
    "        if attrib_name not in  ['x_position'] : continue\n",
    "        name = row.uuid + '/' + mod_name + '/' + attrib_name\n",
    "        fig.add_trace(go.Scatter(x=t, y=row[val_cols],\n",
    "                    mode='lines',\n",
    "                    name=name))\n",
    "        names.append(name)\n",
    "fig.update_layout(legend=dict(\n",
    "    yanchor=\"top\",\n",
    "    y=1.3,\n",
    "    xanchor=\"left\",\n",
    "    x=0.55\n",
    "))\n",
    "fig.show()"
   ]
  },
  {
   "cell_type": "markdown",
   "metadata": {},
   "source": [
    "### Determine closest device UUID by buffered values comparison\n",
    "\n",
    "Get the attribute with the closest values (euclidean distance) to each of the unknown device module attributes"
   ]
  },
  {
   "cell_type": "code",
   "execution_count": 71,
   "metadata": {},
   "outputs": [],
   "source": [
    "pickup_uuid = 'bodyconfig_pickuprob2'\n",
    "airqualitymod_uuid = 'indoors_airqualitymod'\n",
    "uuid = airqualitymod_uuid # UUID of the unknown device"
   ]
  },
  {
   "cell_type": "code",
   "execution_count": 72,
   "metadata": {},
   "outputs": [],
   "source": [
    "noninteg_dev = devs_df[devs_df.uuid == uuid]\n",
    "integ_devs = devs_df[(devs_df.integ == True) & (devs_df.uuid != uuid)]"
   ]
  },
  {
   "cell_type": "code",
   "execution_count": 73,
   "metadata": {},
   "outputs": [],
   "source": [
    "# Compute closest devices searching for closest time series pattern\n",
    "def get_closest_devs(noninteg_dev,integ_devs,closest_classes,i,score=1) :\n",
    "    # Create local copies\n",
    "    noninteg_dev_row = noninteg_dev.iloc[i].copy()\n",
    "    closest_classes.append(noninteg_dev_row.dev)\n",
    "    integ_devs = integ_devs[integ_devs.dev.isin(closest_classes)].copy()\n",
    "    val_cols = integ_devs.columns[6:]\n",
    "\n",
    "    # Compute device with closest time series pattern\n",
    "    min_dist_profile = np.Inf\n",
    "    query_series = noninteg_dev_row[val_cols[:20]].astype(float).to_numpy()\n",
    "    for i, integ_dev_row in integ_devs.iterrows() :\n",
    "        inspected_series = integ_dev_row[val_cols].dropna().astype(float).to_numpy()\n",
    "        if inspected_series.size < query_series.size : continue\n",
    "        # MASS Distance Profile\n",
    "        dist_profile = mass(query_series, inspected_series, normalize=False)\n",
    "        if np.min(dist_profile) < min_dist_profile :\n",
    "            min_dist_profile = np.min(dist_profile)\n",
    "            candidate = integ_dev_row.dev + '/' + integ_dev_row.uuid\n",
    "    \n",
    "    # The winner is the one with lower distance\n",
    "    return {candidate: score}\n",
    "    "
   ]
  },
  {
   "cell_type": "code",
   "execution_count": 74,
   "metadata": {},
   "outputs": [],
   "source": [
    "# Out of those 5 closest classes, get device that best matches time series pattern\n",
    "votes = (Parallel(n_jobs=12)(delayed(get_closest_devs)(noninteg_dev,integ_devs,closest_classes,i) for i in range(noninteg_dev.shape[0])))\n",
    "voting_result_df = calc_voting_result_df(votes)"
   ]
  },
  {
   "cell_type": "code",
   "execution_count": 75,
   "metadata": {},
   "outputs": [
    {
     "data": {
      "text/html": [
       "<div>\n",
       "<style scoped>\n",
       "    .dataframe tbody tr th:only-of-type {\n",
       "        vertical-align: middle;\n",
       "    }\n",
       "\n",
       "    .dataframe tbody tr th {\n",
       "        vertical-align: top;\n",
       "    }\n",
       "\n",
       "    .dataframe thead th {\n",
       "        text-align: right;\n",
       "    }\n",
       "</style>\n",
       "<table border=\"1\" class=\"dataframe\">\n",
       "  <thead>\n",
       "    <tr style=\"text-align: right;\">\n",
       "      <th></th>\n",
       "      <th>candidate</th>\n",
       "      <th>score</th>\n",
       "    </tr>\n",
       "  </thead>\n",
       "  <tbody>\n",
       "    <tr>\n",
       "      <th>0</th>\n",
       "      <td>AirQuality/indoors_airquality</td>\n",
       "      <td>4</td>\n",
       "    </tr>\n",
       "  </tbody>\n",
       "</table>\n",
       "</div>"
      ],
      "text/plain": [
       "                       candidate  score\n",
       "0  AirQuality/indoors_airquality      4"
      ]
     },
     "execution_count": 75,
     "metadata": {},
     "output_type": "execute_result"
    }
   ],
   "source": [
    "voting_result_df"
   ]
  },
  {
   "cell_type": "markdown",
   "metadata": {},
   "source": [
    "## USE SIMILARITY ANALYSIS TO SOLVE CASES. \n",
    "### Case 1. A KNOWN DEVICE DISAPPEARS AND A NEW ONE WITH SIMILAR CHARACTERISTICS APPEARS\n",
    "### Case 2. A COMPLEMENTARY DEVICE APPEARS IN A TASK"
   ]
  },
  {
   "cell_type": "markdown",
   "metadata": {},
   "source": [
    "Explain what needs to be done to be able to tackle CASE 3. What others steps should we take?\n",
    "Additionally, explain the weaknesses of our similarity comparison and how could these be tackled."
   ]
  }
 ],
 "metadata": {
  "kernelspec": {
   "display_name": "Python 3.10.4 64-bit",
   "language": "python",
   "name": "python3"
  },
  "language_info": {
   "codemirror_mode": {
    "name": "ipython",
    "version": 3
   },
   "file_extension": ".py",
   "mimetype": "text/x-python",
   "name": "python",
   "nbconvert_exporter": "python",
   "pygments_lexer": "ipython3",
   "version": "3.10.6 (main, Nov 14 2022, 16:10:14) [GCC 11.3.0]"
  },
  "orig_nbformat": 4,
  "vscode": {
   "interpreter": {
    "hash": "31f2aee4e71d21fbe5cf8b01ff0e069b9275f58929596ceb00d14d90e3e16cd6"
   }
  }
 },
 "nbformat": 4,
 "nbformat_minor": 2
}

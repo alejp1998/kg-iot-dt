{
 "cells": [
  {
   "cell_type": "markdown",
   "metadata": {},
   "source": [
    "# Similarity / Distance between Devices"
   ]
  },
  {
   "cell_type": "code",
   "execution_count": 158,
   "metadata": {},
   "outputs": [],
   "source": [
    "from aux import *\n",
    "import pandas as pd\n",
    "from thefuzz import fuzz\n",
    "import numpy as np\n",
    "import json\n",
    "from joblib import Parallel, delayed"
   ]
  },
  {
   "cell_type": "markdown",
   "metadata": {},
   "source": [
    "## Devices SDF definitions"
   ]
  },
  {
   "cell_type": "markdown",
   "metadata": {},
   "source": [
    "### Adapt SDF definition data for analysis"
   ]
  },
  {
   "cell_type": "code",
   "execution_count": 159,
   "metadata": {},
   "outputs": [],
   "source": [
    "# Load SDF files to compare\n",
    "sdf_manager = SDFManager(path='../iot/sdf/')\n",
    "sdfs = sdf_manager.get_all_sdfs()"
   ]
  },
  {
   "cell_type": "code",
   "execution_count": 160,
   "metadata": {},
   "outputs": [],
   "source": [
    "# Turn the SDF files into dataframes - Avoid redundant data\n",
    "sdfs_trans = {}\n",
    "columns = ['thing','thing_desc','obj','obj_desc','prop','prop_desc','prop_type','prop_unit']\n",
    "rows = []\n",
    "for name in sdfs :\n",
    "    if name == 'Auxiliary':\n",
    "        continue\n",
    "    for sdfThing in sdfs[name]['sdfThing']:\n",
    "        thing_dic = sdfs[name]['sdfThing'][sdfThing]\n",
    "        thing_desc = thing_dic['description']\n",
    "        for sdfObject in thing_dic['sdfObject']:\n",
    "            object_dic = thing_dic['sdfObject'][sdfObject]\n",
    "            object_desc = object_dic['description']\n",
    "            for sdfProperty in object_dic['sdfProperty']:\n",
    "                if sdfProperty == 'uuid':\n",
    "                    continue\n",
    "                prop_dic = object_dic['sdfProperty'][sdfProperty]\n",
    "                prop_desc = prop_dic['description']\n",
    "                prop_type = prop_dic['type']\n",
    "                prop_unit = prop_dic['unit'] if 'unit' in prop_dic else None\n",
    "                rows.append((sdfThing,thing_desc,sdfObject,object_desc,sdfProperty,prop_desc,prop_type,prop_unit))\n",
    "\n",
    "sdfs_df = pd.DataFrame(columns=columns,data=rows)"
   ]
  },
  {
   "cell_type": "code",
   "execution_count": 161,
   "metadata": {},
   "outputs": [
    {
     "data": {
      "text/html": [
       "<div>\n",
       "<style scoped>\n",
       "    .dataframe tbody tr th:only-of-type {\n",
       "        vertical-align: middle;\n",
       "    }\n",
       "\n",
       "    .dataframe tbody tr th {\n",
       "        vertical-align: top;\n",
       "    }\n",
       "\n",
       "    .dataframe thead th {\n",
       "        text-align: right;\n",
       "    }\n",
       "</style>\n",
       "<table border=\"1\" class=\"dataframe\">\n",
       "  <thead>\n",
       "    <tr style=\"text-align: right;\">\n",
       "      <th></th>\n",
       "      <th>obj</th>\n",
       "      <th>obj_desc</th>\n",
       "      <th>prop</th>\n",
       "      <th>prop_desc</th>\n",
       "      <th>prop_type</th>\n",
       "      <th>prop_unit</th>\n",
       "    </tr>\n",
       "  </thead>\n",
       "  <tbody>\n",
       "    <tr>\n",
       "      <th>0</th>\n",
       "      <td>temperature_humidity_sensor</td>\n",
       "      <td>Measures environmental temperature and humidity.</td>\n",
       "      <td>temperature</td>\n",
       "      <td>Temperature value</td>\n",
       "      <td>number</td>\n",
       "      <td>Cel</td>\n",
       "    </tr>\n",
       "    <tr>\n",
       "      <th>1</th>\n",
       "      <td>temperature_humidity_sensor</td>\n",
       "      <td>Measures environmental temperature and humidity.</td>\n",
       "      <td>humidity</td>\n",
       "      <td>Humidity value</td>\n",
       "      <td>number</td>\n",
       "      <td>%</td>\n",
       "    </tr>\n",
       "    <tr>\n",
       "      <th>2</th>\n",
       "      <td>air_quality_sensor</td>\n",
       "      <td>Measures air pollutants.</td>\n",
       "      <td>pm25</td>\n",
       "      <td>PM2.5 value</td>\n",
       "      <td>number</td>\n",
       "      <td>ug/m3</td>\n",
       "    </tr>\n",
       "    <tr>\n",
       "      <th>3</th>\n",
       "      <td>air_quality_sensor</td>\n",
       "      <td>Measures air pollutants.</td>\n",
       "      <td>pm10</td>\n",
       "      <td>PM10 value</td>\n",
       "      <td>number</td>\n",
       "      <td>ug/m3</td>\n",
       "    </tr>\n",
       "  </tbody>\n",
       "</table>\n",
       "</div>"
      ],
      "text/plain": [
       "                           obj  \\\n",
       "0  temperature_humidity_sensor   \n",
       "1  temperature_humidity_sensor   \n",
       "2           air_quality_sensor   \n",
       "3           air_quality_sensor   \n",
       "\n",
       "                                           obj_desc         prop  \\\n",
       "0  Measures environmental temperature and humidity.  temperature   \n",
       "1  Measures environmental temperature and humidity.     humidity   \n",
       "2                          Measures air pollutants.         pm25   \n",
       "3                          Measures air pollutants.         pm10   \n",
       "\n",
       "           prop_desc prop_type prop_unit  \n",
       "0  Temperature value    number       Cel  \n",
       "1     Humidity value    number         %  \n",
       "2        PM2.5 value    number     ug/m3  \n",
       "3         PM10 value    number     ug/m3  "
      ]
     },
     "execution_count": 161,
     "metadata": {},
     "output_type": "execute_result"
    }
   ],
   "source": [
    "# Air Quality SDF DATAFRAME\n",
    "sdfs_df[sdfs_df.thing=='AirQualityModified'].iloc[:,2:].reset_index(drop=True)"
   ]
  },
  {
   "cell_type": "markdown",
   "metadata": {},
   "source": [
    "## Devices data"
   ]
  },
  {
   "cell_type": "markdown",
   "metadata": {},
   "source": [
    "### Load devices data"
   ]
  },
  {
   "cell_type": "code",
   "execution_count": 162,
   "metadata": {},
   "outputs": [],
   "source": [
    "# Read devices data samples from JSON\n",
    "with open('devices.json', 'r') as f:\n",
    "  devices = json.load(f)"
   ]
  },
  {
   "cell_type": "markdown",
   "metadata": {},
   "source": [
    "### Adapt devices data for analysis"
   ]
  },
  {
   "cell_type": "code",
   "execution_count": 177,
   "metadata": {},
   "outputs": [],
   "source": [
    "# Build devices dataframe\n",
    "rows = []\n",
    "for dev_uuid in devices :\n",
    "    dev = devices[dev_uuid]\n",
    "\n",
    "    # Dev row initialization\n",
    "    row = {\n",
    "        'dev' : dev['name'],\n",
    "        'uuid': dev_uuid,\n",
    "        'integ': dev['integrated'],\n",
    "        'timestamp': dev['timestamp'],\n",
    "        'period': dev['period']\n",
    "    }\n",
    "        \n",
    "    # Create a row for each module attribute with a column for each value in the buffer\n",
    "    for mod_uuid in dev['modules']:\n",
    "        row['mod'] = dev['modules'][mod_uuid]['name']\n",
    "        for prop in dev['modules'][mod_uuid]['properties'] :\n",
    "            row['attrib'] = prop\n",
    "            buffer = dev['modules'][mod_uuid]['properties'][prop]\n",
    "            i = 1\n",
    "            for val in buffer :\n",
    "                row[f'v{i}'] = val\n",
    "                i += 1\n",
    "            rows.append(row.copy())\n",
    "\n",
    "# Build devices dataframe\n",
    "devs_df = pd.DataFrame(rows)"
   ]
  },
  {
   "cell_type": "code",
   "execution_count": 178,
   "metadata": {},
   "outputs": [],
   "source": [
    "# Drop columns without useful information\n",
    "devs_df = devs_df.drop(columns=['integ','timestamp','period'])"
   ]
  },
  {
   "cell_type": "code",
   "execution_count": 179,
   "metadata": {},
   "outputs": [
    {
     "data": {
      "text/html": [
       "<div>\n",
       "<style scoped>\n",
       "    .dataframe tbody tr th:only-of-type {\n",
       "        vertical-align: middle;\n",
       "    }\n",
       "\n",
       "    .dataframe tbody tr th {\n",
       "        vertical-align: top;\n",
       "    }\n",
       "\n",
       "    .dataframe thead th {\n",
       "        text-align: right;\n",
       "    }\n",
       "</style>\n",
       "<table border=\"1\" class=\"dataframe\">\n",
       "  <thead>\n",
       "    <tr style=\"text-align: right;\">\n",
       "      <th></th>\n",
       "      <th>dev</th>\n",
       "      <th>uuid</th>\n",
       "      <th>mod</th>\n",
       "      <th>attrib</th>\n",
       "      <th>v1</th>\n",
       "      <th>v2</th>\n",
       "      <th>v3</th>\n",
       "      <th>v4</th>\n",
       "      <th>v5</th>\n",
       "    </tr>\n",
       "  </thead>\n",
       "  <tbody>\n",
       "    <tr>\n",
       "      <th>267</th>\n",
       "      <td>AirQualityModified</td>\n",
       "      <td>5384e1c2-b79b-4b34-b717-f5b630428465</td>\n",
       "      <td>temperature_humidity_sensor</td>\n",
       "      <td>temperature</td>\n",
       "      <td>20.79048</td>\n",
       "      <td>20.45781</td>\n",
       "      <td>20.8583</td>\n",
       "      <td>20.78462</td>\n",
       "      <td>20.94421</td>\n",
       "    </tr>\n",
       "    <tr>\n",
       "      <th>268</th>\n",
       "      <td>AirQualityModified</td>\n",
       "      <td>5384e1c2-b79b-4b34-b717-f5b630428465</td>\n",
       "      <td>temperature_humidity_sensor</td>\n",
       "      <td>humidity</td>\n",
       "      <td>29.21872</td>\n",
       "      <td>28.94914</td>\n",
       "      <td>28.72518</td>\n",
       "      <td>28.93833</td>\n",
       "      <td>28.9299</td>\n",
       "    </tr>\n",
       "    <tr>\n",
       "      <th>269</th>\n",
       "      <td>AirQualityModified</td>\n",
       "      <td>5384e1c2-b79b-4b34-b717-f5b630428465</td>\n",
       "      <td>air_quality_sensor</td>\n",
       "      <td>pm25</td>\n",
       "      <td>7.34951</td>\n",
       "      <td>7.99065</td>\n",
       "      <td>8.3523</td>\n",
       "      <td>6.84859</td>\n",
       "      <td>8.20554</td>\n",
       "    </tr>\n",
       "    <tr>\n",
       "      <th>270</th>\n",
       "      <td>AirQualityModified</td>\n",
       "      <td>5384e1c2-b79b-4b34-b717-f5b630428465</td>\n",
       "      <td>air_quality_sensor</td>\n",
       "      <td>pm10</td>\n",
       "      <td>19.39291</td>\n",
       "      <td>18.99501</td>\n",
       "      <td>19.55293</td>\n",
       "      <td>18.95708</td>\n",
       "      <td>19.51962</td>\n",
       "    </tr>\n",
       "  </tbody>\n",
       "</table>\n",
       "</div>"
      ],
      "text/plain": [
       "                    dev                                  uuid  \\\n",
       "267  AirQualityModified  5384e1c2-b79b-4b34-b717-f5b630428465   \n",
       "268  AirQualityModified  5384e1c2-b79b-4b34-b717-f5b630428465   \n",
       "269  AirQualityModified  5384e1c2-b79b-4b34-b717-f5b630428465   \n",
       "270  AirQualityModified  5384e1c2-b79b-4b34-b717-f5b630428465   \n",
       "\n",
       "                             mod       attrib        v1        v2        v3  \\\n",
       "267  temperature_humidity_sensor  temperature  20.79048  20.45781   20.8583   \n",
       "268  temperature_humidity_sensor     humidity  29.21872  28.94914  28.72518   \n",
       "269           air_quality_sensor         pm25   7.34951   7.99065    8.3523   \n",
       "270           air_quality_sensor         pm10  19.39291  18.99501  19.55293   \n",
       "\n",
       "           v4        v5  \n",
       "267  20.78462  20.94421  \n",
       "268  28.93833   28.9299  \n",
       "269   6.84859   8.20554  \n",
       "270  18.95708  19.51962  "
      ]
     },
     "execution_count": 179,
     "metadata": {},
     "output_type": "execute_result"
    }
   ],
   "source": [
    "devs_df[devs_df.dev=='AirQualityModified']"
   ]
  },
  {
   "cell_type": "markdown",
   "metadata": {},
   "source": [
    "## Similarity Analysis\n",
    "Given an unknown device, determine the 5 closest devices according to SDF definition similarity, and then choose the closest device by including the buffered data. \n",
    "\n",
    "**Possible algorithm**\n",
    "\n",
    "    Given an unknown device, find 5 closest according to SDF definition.\n",
    "\n",
    "    Then, for each unknown module attribute, determine which attribute resembles the most to it of those in the 5 closest devices, and vote this device UUID as the candidate to be the closest.\n",
    "\n",
    "    Finally, the device that has the most attribute votes is chosen as the closest device."
   ]
  },
  {
   "cell_type": "code",
   "execution_count": 180,
   "metadata": {},
   "outputs": [],
   "source": [
    "# Value columns names\n",
    "n_vals = 5\n",
    "val_cols = [f'v{i+1}' for i in range(n_vals)]\n",
    "\n",
    "# Turn booleans into integers and cast all data to float\n",
    "devs_df[val_cols] = devs_df[val_cols].replace('False',0).replace('True',1)\n",
    "devs_df[val_cols] = devs_df[val_cols].astype(float)\n",
    "\n",
    "# Normalize data\n",
    "for val_col in val_cols :\n",
    "    devs_df[val_col] = devs_df[val_col] / devs_df[val_col].abs().max()"
   ]
  },
  {
   "cell_type": "code",
   "execution_count": 181,
   "metadata": {},
   "outputs": [],
   "source": [
    "# Unknown device\n",
    "unknown_dev_name = 'AirQualityModified'"
   ]
  },
  {
   "cell_type": "markdown",
   "metadata": {},
   "source": [
    "### Determine closest devices by SDF comparison\n",
    "\n",
    "String similarity of the fields:\n",
    "- Thing and its description\n",
    "- Object and its description\n",
    "- Property and its description"
   ]
  },
  {
   "cell_type": "code",
   "execution_count": 182,
   "metadata": {},
   "outputs": [],
   "source": [
    "unknown_sdf = sdfs_df[sdfs_df.thing==unknown_dev_name]\n",
    "known_sdfs = sdfs_df[sdfs_df.thing!=unknown_dev_name]"
   ]
  },
  {
   "cell_type": "code",
   "execution_count": 199,
   "metadata": {},
   "outputs": [],
   "source": [
    "# Define distance functions\n",
    "def calc_str_dist(descs, row):\n",
    "    return fuzz.ratio(descs,row['thing_desc'] + ' ' + row['obj'] + ' ' + row['obj_desc'] + ' ' + row['prop'] + ' ' + row['prop_desc'])\n",
    "\n",
    "# Compute closest devices by SDF\n",
    "def get_closest_devs_by_sdf(unknown_sdf,known_sdfs,i) :\n",
    "    unknown_row = unknown_sdf.iloc[i].copy()\n",
    "\n",
    "    # Build joint description \n",
    "    descs = unknown_row['thing'] + ' ' + unknown_row['thing_desc'] + ' ' + unknown_row['obj'] + ' ' + unknown_row['obj_desc'] + ' ' + unknown_row['prop'] + ' ' + unknown_row['prop_desc']\n",
    "\n",
    "    # Calc string distances\n",
    "    knowns_alike = known_sdfs[known_sdfs.prop_type==unknown_row['prop_type']].copy()\n",
    "    knowns_alike['str_dist'] = knowns_alike.apply(lambda x: calc_str_dist(descs,x), axis=1)\n",
    "    closest_things = knowns_alike[['thing','obj','prop','str_dist']].sort_values(by='str_dist',ascending=False)\n",
    "\n",
    "    # Give point based on closeness\n",
    "    score = 5\n",
    "    vote = {}\n",
    "    for row in closest_things.itertuples() :\n",
    "        candidate = row.thing+'/'+row.obj+'/'+row.prop\n",
    "        if candidate not in vote :\n",
    "            vote[candidate] = score\n",
    "            score -= 1\n",
    "\n",
    "        if score == 0 :\n",
    "            break\n",
    "        \n",
    "    return vote"
   ]
  },
  {
   "cell_type": "code",
   "execution_count": 200,
   "metadata": {},
   "outputs": [],
   "source": [
    "# Compute distance for each unknown module attribute\n",
    "votes = (Parallel(n_jobs=12)(delayed(get_closest_devs_by_sdf)(unknown_sdf,known_sdfs,i) for i in range(unknown_sdf.shape[0])))\n",
    "total_vote_sdf = {}\n",
    "for vote in votes:\n",
    "    for candidate in vote :\n",
    "        if candidate not in total_vote_sdf :\n",
    "            total_vote_sdf[candidate] = vote[candidate]\n",
    "        else :\n",
    "            total_vote_sdf[candidate] += vote[candidate]"
   ]
  },
  {
   "cell_type": "code",
   "execution_count": 201,
   "metadata": {},
   "outputs": [
    {
     "data": {
      "text/plain": [
       "{'AirQuality/temperature_sensor/temperature': 9,\n",
       " 'AirQuality/humidity_sensor/humidity': 13,\n",
       " 'AirQuality/pressure_sensor/pressure': 8,\n",
       " 'AirQuality/air_quality_sensor/pm10': 13,\n",
       " 'AirQuality/air_quality_sensor/pm1': 11,\n",
       " 'AirQuality/air_quality_sensor/pm25': 6}"
      ]
     },
     "execution_count": 201,
     "metadata": {},
     "output_type": "execute_result"
    }
   ],
   "source": [
    "total_vote_sdf"
   ]
  },
  {
   "cell_type": "markdown",
   "metadata": {},
   "source": [
    "### Determine closest device UUID by buffered values comparison\n",
    "\n",
    "Get the attribute with the closest values (euclidean distance) to each of the unknown device module attributes"
   ]
  },
  {
   "cell_type": "code",
   "execution_count": 202,
   "metadata": {},
   "outputs": [],
   "source": [
    "unknown_uuid = '' # UUID of the unknown device\n",
    "unknown_dev = devs_df[devs_df.dev==unknown_dev_name]\n",
    "known_devs = devs_df[devs_df.dev!=unknown_dev_name]"
   ]
  },
  {
   "cell_type": "code",
   "execution_count": 203,
   "metadata": {},
   "outputs": [
    {
     "data": {
      "text/html": [
       "<div>\n",
       "<style scoped>\n",
       "    .dataframe tbody tr th:only-of-type {\n",
       "        vertical-align: middle;\n",
       "    }\n",
       "\n",
       "    .dataframe tbody tr th {\n",
       "        vertical-align: top;\n",
       "    }\n",
       "\n",
       "    .dataframe thead th {\n",
       "        text-align: right;\n",
       "    }\n",
       "</style>\n",
       "<table border=\"1\" class=\"dataframe\">\n",
       "  <thead>\n",
       "    <tr style=\"text-align: right;\">\n",
       "      <th></th>\n",
       "      <th>v1</th>\n",
       "      <th>v2</th>\n",
       "      <th>v3</th>\n",
       "      <th>v4</th>\n",
       "      <th>v5</th>\n",
       "    </tr>\n",
       "  </thead>\n",
       "  <tbody>\n",
       "    <tr>\n",
       "      <th>267</th>\n",
       "      <td>0.000206</td>\n",
       "      <td>0.000203</td>\n",
       "      <td>0.000207</td>\n",
       "      <td>0.000206</td>\n",
       "      <td>0.000207</td>\n",
       "    </tr>\n",
       "    <tr>\n",
       "      <th>268</th>\n",
       "      <td>0.000289</td>\n",
       "      <td>0.000287</td>\n",
       "      <td>0.000284</td>\n",
       "      <td>0.000287</td>\n",
       "      <td>0.000286</td>\n",
       "    </tr>\n",
       "    <tr>\n",
       "      <th>269</th>\n",
       "      <td>0.000073</td>\n",
       "      <td>0.000079</td>\n",
       "      <td>0.000083</td>\n",
       "      <td>0.000068</td>\n",
       "      <td>0.000081</td>\n",
       "    </tr>\n",
       "    <tr>\n",
       "      <th>270</th>\n",
       "      <td>0.000192</td>\n",
       "      <td>0.000188</td>\n",
       "      <td>0.000194</td>\n",
       "      <td>0.000188</td>\n",
       "      <td>0.000193</td>\n",
       "    </tr>\n",
       "  </tbody>\n",
       "</table>\n",
       "</div>"
      ],
      "text/plain": [
       "           v1        v2        v3        v4        v5\n",
       "267  0.000206  0.000203  0.000207  0.000206  0.000207\n",
       "268  0.000289  0.000287  0.000284  0.000287  0.000286\n",
       "269  0.000073  0.000079  0.000083  0.000068  0.000081\n",
       "270  0.000192  0.000188  0.000194  0.000188  0.000193"
      ]
     },
     "execution_count": 203,
     "metadata": {},
     "output_type": "execute_result"
    }
   ],
   "source": [
    "unknown_dev[val_cols]"
   ]
  },
  {
   "cell_type": "code",
   "execution_count": 204,
   "metadata": {},
   "outputs": [],
   "source": [
    "# Compute closest devices by values comparison\n",
    "def get_closest_devs_by_values(unknown_dev,known_devs,i) :\n",
    "    unknown_row = unknown_dev.iloc[i].copy()\n",
    "\n",
    "    # Calc string distances\n",
    "    knowns_alike = known_devs.copy()\n",
    "    knowns_alike['dist'] = ((knowns_alike[val_cols] - unknown_row[val_cols])**2).sum(axis=1)**0.5\n",
    "    closest_things = knowns_alike[['uuid','dev','mod','attrib','dist']].sort_values(by='dist',ascending=True)\n",
    "\n",
    "    # Give points based on closeness\n",
    "    score = 5\n",
    "    vote = {}\n",
    "    for row in closest_things.itertuples() :\n",
    "        candidate = row.uuid+'/'+row.dev+'/'+row.mod+'/'+row.attrib\n",
    "        if candidate not in vote :\n",
    "            vote[candidate] = score\n",
    "            score -= 1\n",
    "\n",
    "        if score == 0 :\n",
    "            break\n",
    "        \n",
    "    return vote"
   ]
  },
  {
   "cell_type": "code",
   "execution_count": 205,
   "metadata": {},
   "outputs": [],
   "source": [
    "# Compute distance for each unknown module attribute\n",
    "votes = (Parallel(n_jobs=12)(delayed(get_closest_devs_by_values)(unknown_dev,known_devs,i) for i in range(unknown_dev.shape[0])))\n",
    "total_vote_dev = {}\n",
    "for vote in votes:\n",
    "    for candidate in vote :\n",
    "        if candidate not in total_vote_dev :\n",
    "            total_vote_dev[candidate] = vote[candidate]\n",
    "        else :\n",
    "            total_vote_dev[candidate] += vote[candidate]"
   ]
  },
  {
   "cell_type": "code",
   "execution_count": 206,
   "metadata": {},
   "outputs": [
    {
     "data": {
      "text/plain": [
       "{'c11c3f56-0f26-415f-a00d-3bb929f5ca20/AirQuality/temperature_sensor/temperature': 10,\n",
       " 'c11c3f56-0f26-415f-a00d-3bb929f5ca20/AirQuality/air_quality_sensor/pm10': 8,\n",
       " 'f342e60b-6a54-4f20-8874-89a550ebc75c/ConveyorBelt/conveyor_belt/rotational_speed': 7,\n",
       " '3140ce5c-0d08-4aff-9bb4-14a9e6a33d12/ConveyorBelt/conveyor_belt/rotational_speed': 6,\n",
       " 'f169a965-bb15-4db3-97cd-49b5b641a9fe/ConveyorBelt/conveyor_belt/rotational_speed': 5,\n",
       " 'c11c3f56-0f26-415f-a00d-3bb929f5ca20/AirQuality/humidity_sensor/humidity': 5,\n",
       " 'a6f65d7a-019a-4723-9b81-fb4a163fa23a/ConveyorBelt/conveyor_belt/rotational_speed': 4,\n",
       " 'c11c3f56-0f26-415f-a00d-3bb929f5ca20/AirQuality/air_quality_sensor/pm25': 5,\n",
       " 'd7295016-4a54-4c98-a4c1-4f0c7f7614b5/PieceDetector/piece_detection_cam/pitch_orientation': 4,\n",
       " '3140ce5c-0d08-4aff-9bb4-14a9e6a33d12/ConveyorBelt/conveyor_belt/weight': 3,\n",
       " '70a15d0b-f6d3-4833-b929-74abdff69fa5/RainSensor/rain_sensor/cumdepth': 2,\n",
       " 'f342e60b-6a54-4f20-8874-89a550ebc75c/ConveyorBelt/conveyor_belt/weight': 1}"
      ]
     },
     "execution_count": 206,
     "metadata": {},
     "output_type": "execute_result"
    }
   ],
   "source": [
    "total_vote_dev"
   ]
  },
  {
   "cell_type": "code",
   "execution_count": null,
   "metadata": {},
   "outputs": [],
   "source": []
  }
 ],
 "metadata": {
  "kernelspec": {
   "display_name": "Python 3.10.4 64-bit",
   "language": "python",
   "name": "python3"
  },
  "language_info": {
   "codemirror_mode": {
    "name": "ipython",
    "version": 3
   },
   "file_extension": ".py",
   "mimetype": "text/x-python",
   "name": "python",
   "nbconvert_exporter": "python",
   "pygments_lexer": "ipython3",
   "version": "3.10.4"
  },
  "orig_nbformat": 4,
  "vscode": {
   "interpreter": {
    "hash": "31f2aee4e71d21fbe5cf8b01ff0e069b9275f58929596ceb00d14d90e3e16cd6"
   }
  }
 },
 "nbformat": 4,
 "nbformat_minor": 2
}

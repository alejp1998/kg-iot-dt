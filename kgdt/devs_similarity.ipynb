{
 "cells": [
  {
   "cell_type": "markdown",
   "metadata": {},
   "source": [
    "# Similarity / Distance between Devices"
   ]
  },
  {
   "cell_type": "code",
   "execution_count": 1,
   "metadata": {},
   "outputs": [],
   "source": [
    "from aux import *\n",
    "import pandas as pd\n",
    "from thefuzz import fuzz\n",
    "import numpy as np\n",
    "import json\n",
    "from joblib import Parallel, delayed\n",
    "import matplotlib.pyplot as plt\n",
    "plt.style.use('default')"
   ]
  },
  {
   "cell_type": "markdown",
   "metadata": {},
   "source": [
    "## Devices SDF definitions"
   ]
  },
  {
   "cell_type": "markdown",
   "metadata": {},
   "source": [
    "### Adapt SDF definition data for analysis"
   ]
  },
  {
   "cell_type": "code",
   "execution_count": 2,
   "metadata": {},
   "outputs": [],
   "source": [
    "# Load SDF files to compare\n",
    "sdf_manager = SDFManager(path='../iot/sdf/')\n",
    "sdfs = sdf_manager.get_all_sdfs()"
   ]
  },
  {
   "cell_type": "code",
   "execution_count": 3,
   "metadata": {},
   "outputs": [],
   "source": [
    "# Turn the SDF files into dataframes - Avoid redundant data\n",
    "sdfs_trans = {}\n",
    "columns = ['thing','thing_desc','obj','obj_desc','prop','prop_desc','prop_type','prop_unit']\n",
    "rows = []\n",
    "for name, sdf in sdfs.items() :\n",
    "    if name == 'Auxiliary':\n",
    "        continue\n",
    "    for sdfThing, thing_dic in sdf['sdfThing'].items():\n",
    "        thing_desc = thing_dic['description']\n",
    "        for sdfObject, object_dic in thing_dic['sdfObject'].items():\n",
    "            object_desc = object_dic['description']\n",
    "            for sdfProperty, prop_dic in object_dic['sdfProperty'].items():\n",
    "                if sdfProperty == 'uuid': continue\n",
    "                prop_desc = prop_dic['description']\n",
    "                prop_type = prop_dic['type']\n",
    "                prop_unit = prop_dic['unit'] if 'unit' in prop_dic else None\n",
    "                rows.append((sdfThing,thing_desc,sdfObject,object_desc,sdfProperty,prop_desc,prop_type,prop_unit))\n",
    "\n",
    "sdfs_df = pd.DataFrame(columns=columns,data=rows)"
   ]
  },
  {
   "cell_type": "code",
   "execution_count": 4,
   "metadata": {},
   "outputs": [
    {
     "data": {
      "text/html": [
       "<div>\n",
       "<style scoped>\n",
       "    .dataframe tbody tr th:only-of-type {\n",
       "        vertical-align: middle;\n",
       "    }\n",
       "\n",
       "    .dataframe tbody tr th {\n",
       "        vertical-align: top;\n",
       "    }\n",
       "\n",
       "    .dataframe thead th {\n",
       "        text-align: right;\n",
       "    }\n",
       "</style>\n",
       "<table border=\"1\" class=\"dataframe\">\n",
       "  <thead>\n",
       "    <tr style=\"text-align: right;\">\n",
       "      <th></th>\n",
       "      <th>obj</th>\n",
       "      <th>obj_desc</th>\n",
       "      <th>prop</th>\n",
       "      <th>prop_desc</th>\n",
       "      <th>prop_type</th>\n",
       "      <th>prop_unit</th>\n",
       "    </tr>\n",
       "  </thead>\n",
       "  <tbody>\n",
       "    <tr>\n",
       "      <th>0</th>\n",
       "      <td>temperature_humidity_sensor</td>\n",
       "      <td>Measures environmental temperature and humidity.</td>\n",
       "      <td>temperature</td>\n",
       "      <td>Temperature value</td>\n",
       "      <td>number</td>\n",
       "      <td>Cel</td>\n",
       "    </tr>\n",
       "    <tr>\n",
       "      <th>1</th>\n",
       "      <td>temperature_humidity_sensor</td>\n",
       "      <td>Measures environmental temperature and humidity.</td>\n",
       "      <td>humidity</td>\n",
       "      <td>Humidity value</td>\n",
       "      <td>number</td>\n",
       "      <td>%</td>\n",
       "    </tr>\n",
       "    <tr>\n",
       "      <th>2</th>\n",
       "      <td>air_quality_sensor</td>\n",
       "      <td>Measures air pollutants.</td>\n",
       "      <td>pm25</td>\n",
       "      <td>PM2.5 value</td>\n",
       "      <td>number</td>\n",
       "      <td>ug/m3</td>\n",
       "    </tr>\n",
       "    <tr>\n",
       "      <th>3</th>\n",
       "      <td>air_quality_sensor</td>\n",
       "      <td>Measures air pollutants.</td>\n",
       "      <td>pm10</td>\n",
       "      <td>PM10 value</td>\n",
       "      <td>number</td>\n",
       "      <td>ug/m3</td>\n",
       "    </tr>\n",
       "  </tbody>\n",
       "</table>\n",
       "</div>"
      ],
      "text/plain": [
       "                           obj  \\\n",
       "0  temperature_humidity_sensor   \n",
       "1  temperature_humidity_sensor   \n",
       "2           air_quality_sensor   \n",
       "3           air_quality_sensor   \n",
       "\n",
       "                                           obj_desc         prop  \\\n",
       "0  Measures environmental temperature and humidity.  temperature   \n",
       "1  Measures environmental temperature and humidity.     humidity   \n",
       "2                          Measures air pollutants.         pm25   \n",
       "3                          Measures air pollutants.         pm10   \n",
       "\n",
       "           prop_desc prop_type prop_unit  \n",
       "0  Temperature value    number       Cel  \n",
       "1     Humidity value    number         %  \n",
       "2        PM2.5 value    number     ug/m3  \n",
       "3         PM10 value    number     ug/m3  "
      ]
     },
     "execution_count": 4,
     "metadata": {},
     "output_type": "execute_result"
    }
   ],
   "source": [
    "# Air Quality SDF DATAFRAME\n",
    "sdfs_df[sdfs_df.thing=='AirQualityModified'].iloc[:,2:].reset_index(drop=True)"
   ]
  },
  {
   "cell_type": "markdown",
   "metadata": {},
   "source": [
    "## Devices data"
   ]
  },
  {
   "cell_type": "markdown",
   "metadata": {},
   "source": [
    "### Load devices data"
   ]
  },
  {
   "cell_type": "code",
   "execution_count": 92,
   "metadata": {},
   "outputs": [],
   "source": [
    "# Read devices data samples from JSON\n",
    "with open('devices.json', 'r') as f: devices = json.load(f)"
   ]
  },
  {
   "cell_type": "markdown",
   "metadata": {},
   "source": [
    "### Adapt devices data for analysis"
   ]
  },
  {
   "cell_type": "code",
   "execution_count": 93,
   "metadata": {},
   "outputs": [],
   "source": [
    "# Build devices dataframe\n",
    "rows = []\n",
    "for dev_uuid, dev in devices.items() :\n",
    "    # Dev row initialization\n",
    "    row = {\n",
    "        'uuid': dev_uuid,\n",
    "        'dev' : dev['name'],\n",
    "        'integ': dev['integrated'],\n",
    "        'timestamp': dev['timestamp'],\n",
    "        'period': dev['period']\n",
    "    }\n",
    "        \n",
    "    # Create a row for each module attribute with a column for each value in the buffer\n",
    "    for mod_uuid, mod in dev['modules'].items() :\n",
    "        row['mod'] = mod['name']\n",
    "        for prop_name, buffer in mod['attribs'].items() :\n",
    "            row['attrib'] = prop_name\n",
    "            for i, val in enumerate(buffer) :\n",
    "                row[f'v{i+1}'] = val\n",
    "            rows.append(row.copy())\n",
    "\n",
    "# Build devices dataframe\n",
    "devs_df = pd.DataFrame(rows)"
   ]
  },
  {
   "cell_type": "code",
   "execution_count": 94,
   "metadata": {},
   "outputs": [],
   "source": [
    "# Drop columns without useful information\n",
    "devs_df = devs_df.drop(columns=['integ','timestamp','period'])"
   ]
  },
  {
   "cell_type": "markdown",
   "metadata": {},
   "source": [
    "## Similarity Analysis\n",
    "Given an unknown device, determine the 5 closest devices according to SDF definition similarity, and then choose the closest device by including the buffered data. \n",
    "\n",
    "**Possible algorithm**\n",
    "\n",
    "    Given an unknown device(thing) module(object) attribute(property), find 5 closest thing-object-property tuples according to SDF definition.\n",
    "\n",
    "    Then, for each unknown module attribute, determine which attribute resembles the most to it of those in the 5 closest devices, and vote this device UUID as the candidate to be the closest.\n",
    "\n",
    "    Finally, the device that has the most attribute votes is chosen as the closest device."
   ]
  },
  {
   "cell_type": "code",
   "execution_count": 95,
   "metadata": {},
   "outputs": [],
   "source": [
    "# Value columns names\n",
    "n_vals = 50\n",
    "val_cols = [f'v{i+1}' for i in range(n_vals)]\n",
    "\n",
    "# Turn booleans into integers and cast all data to float\n",
    "devs_df[val_cols] = devs_df[val_cols].replace('False',0).replace('True',1)\n",
    "devs_df[val_cols] = devs_df[val_cols].astype(float)"
   ]
  },
  {
   "cell_type": "code",
   "execution_count": 96,
   "metadata": {},
   "outputs": [
    {
     "data": {
      "text/html": [
       "<div>\n",
       "<style scoped>\n",
       "    .dataframe tbody tr th:only-of-type {\n",
       "        vertical-align: middle;\n",
       "    }\n",
       "\n",
       "    .dataframe tbody tr th {\n",
       "        vertical-align: top;\n",
       "    }\n",
       "\n",
       "    .dataframe thead th {\n",
       "        text-align: right;\n",
       "    }\n",
       "</style>\n",
       "<table border=\"1\" class=\"dataframe\">\n",
       "  <thead>\n",
       "    <tr style=\"text-align: right;\">\n",
       "      <th></th>\n",
       "      <th>uuid</th>\n",
       "      <th>dev</th>\n",
       "      <th>mod</th>\n",
       "      <th>attrib</th>\n",
       "      <th>v1</th>\n",
       "      <th>v2</th>\n",
       "      <th>v3</th>\n",
       "      <th>v4</th>\n",
       "      <th>v5</th>\n",
       "      <th>v6</th>\n",
       "      <th>...</th>\n",
       "      <th>v91</th>\n",
       "      <th>v92</th>\n",
       "      <th>v93</th>\n",
       "      <th>v94</th>\n",
       "      <th>v95</th>\n",
       "      <th>v96</th>\n",
       "      <th>v97</th>\n",
       "      <th>v98</th>\n",
       "      <th>v99</th>\n",
       "      <th>v100</th>\n",
       "    </tr>\n",
       "  </thead>\n",
       "  <tbody>\n",
       "    <tr>\n",
       "      <th>273</th>\n",
       "      <td>c0ff5b20-fadb-49a4-978b-8187a6381385</td>\n",
       "      <td>AirQualityModified</td>\n",
       "      <td>temperature_humidity_sensor</td>\n",
       "      <td>temperature</td>\n",
       "      <td>24.119026</td>\n",
       "      <td>24.143762</td>\n",
       "      <td>24.145346</td>\n",
       "      <td>24.240457</td>\n",
       "      <td>24.310746</td>\n",
       "      <td>24.330542</td>\n",
       "      <td>...</td>\n",
       "      <td>24.503841</td>\n",
       "      <td>24.631302</td>\n",
       "      <td>24.625593</td>\n",
       "      <td>25.039193</td>\n",
       "      <td>24.876641</td>\n",
       "      <td>24.909207</td>\n",
       "      <td>24.934225</td>\n",
       "      <td>25.259249</td>\n",
       "      <td>25.269964</td>\n",
       "      <td>25.384091</td>\n",
       "    </tr>\n",
       "    <tr>\n",
       "      <th>274</th>\n",
       "      <td>c0ff5b20-fadb-49a4-978b-8187a6381385</td>\n",
       "      <td>AirQualityModified</td>\n",
       "      <td>temperature_humidity_sensor</td>\n",
       "      <td>humidity</td>\n",
       "      <td>28.369888</td>\n",
       "      <td>28.262538</td>\n",
       "      <td>28.287362</td>\n",
       "      <td>28.148010</td>\n",
       "      <td>28.103728</td>\n",
       "      <td>28.248166</td>\n",
       "      <td>...</td>\n",
       "      <td>28.143639</td>\n",
       "      <td>28.160059</td>\n",
       "      <td>28.225335</td>\n",
       "      <td>28.247628</td>\n",
       "      <td>28.341062</td>\n",
       "      <td>28.307246</td>\n",
       "      <td>28.337913</td>\n",
       "      <td>28.224796</td>\n",
       "      <td>28.212024</td>\n",
       "      <td>28.316882</td>\n",
       "    </tr>\n",
       "    <tr>\n",
       "      <th>275</th>\n",
       "      <td>c0ff5b20-fadb-49a4-978b-8187a6381385</td>\n",
       "      <td>AirQualityModified</td>\n",
       "      <td>air_quality_sensor</td>\n",
       "      <td>pm25</td>\n",
       "      <td>7.858604</td>\n",
       "      <td>7.896213</td>\n",
       "      <td>8.171176</td>\n",
       "      <td>7.967142</td>\n",
       "      <td>8.155234</td>\n",
       "      <td>8.082216</td>\n",
       "      <td>...</td>\n",
       "      <td>7.011621</td>\n",
       "      <td>7.056476</td>\n",
       "      <td>7.045594</td>\n",
       "      <td>7.251204</td>\n",
       "      <td>7.011224</td>\n",
       "      <td>7.03776</td>\n",
       "      <td>7.036574</td>\n",
       "      <td>7.073402</td>\n",
       "      <td>7.11378</td>\n",
       "      <td>7.076941</td>\n",
       "    </tr>\n",
       "    <tr>\n",
       "      <th>276</th>\n",
       "      <td>c0ff5b20-fadb-49a4-978b-8187a6381385</td>\n",
       "      <td>AirQualityModified</td>\n",
       "      <td>air_quality_sensor</td>\n",
       "      <td>pm10</td>\n",
       "      <td>21.125449</td>\n",
       "      <td>21.136380</td>\n",
       "      <td>21.327375</td>\n",
       "      <td>21.263077</td>\n",
       "      <td>21.542366</td>\n",
       "      <td>21.470879</td>\n",
       "      <td>...</td>\n",
       "      <td>21.763394</td>\n",
       "      <td>21.962647</td>\n",
       "      <td>21.596333</td>\n",
       "      <td>21.592988</td>\n",
       "      <td>21.303304</td>\n",
       "      <td>21.343686</td>\n",
       "      <td>21.58445</td>\n",
       "      <td>21.465724</td>\n",
       "      <td>21.545453</td>\n",
       "      <td>21.130666</td>\n",
       "    </tr>\n",
       "  </tbody>\n",
       "</table>\n",
       "<p>4 rows × 104 columns</p>\n",
       "</div>"
      ],
      "text/plain": [
       "                                     uuid                 dev  \\\n",
       "273  c0ff5b20-fadb-49a4-978b-8187a6381385  AirQualityModified   \n",
       "274  c0ff5b20-fadb-49a4-978b-8187a6381385  AirQualityModified   \n",
       "275  c0ff5b20-fadb-49a4-978b-8187a6381385  AirQualityModified   \n",
       "276  c0ff5b20-fadb-49a4-978b-8187a6381385  AirQualityModified   \n",
       "\n",
       "                             mod       attrib         v1         v2  \\\n",
       "273  temperature_humidity_sensor  temperature  24.119026  24.143762   \n",
       "274  temperature_humidity_sensor     humidity  28.369888  28.262538   \n",
       "275           air_quality_sensor         pm25   7.858604   7.896213   \n",
       "276           air_quality_sensor         pm10  21.125449  21.136380   \n",
       "\n",
       "            v3         v4         v5         v6  ...        v91        v92  \\\n",
       "273  24.145346  24.240457  24.310746  24.330542  ...  24.503841  24.631302   \n",
       "274  28.287362  28.148010  28.103728  28.248166  ...  28.143639  28.160059   \n",
       "275   8.171176   7.967142   8.155234   8.082216  ...   7.011621   7.056476   \n",
       "276  21.327375  21.263077  21.542366  21.470879  ...  21.763394  21.962647   \n",
       "\n",
       "           v93        v94        v95        v96        v97        v98  \\\n",
       "273  24.625593  25.039193  24.876641  24.909207  24.934225  25.259249   \n",
       "274  28.225335  28.247628  28.341062  28.307246  28.337913  28.224796   \n",
       "275   7.045594   7.251204   7.011224    7.03776   7.036574   7.073402   \n",
       "276  21.596333  21.592988  21.303304  21.343686   21.58445  21.465724   \n",
       "\n",
       "           v99       v100  \n",
       "273  25.269964  25.384091  \n",
       "274  28.212024  28.316882  \n",
       "275    7.11378   7.076941  \n",
       "276  21.545453  21.130666  \n",
       "\n",
       "[4 rows x 104 columns]"
      ]
     },
     "execution_count": 96,
     "metadata": {},
     "output_type": "execute_result"
    }
   ],
   "source": [
    "# Air Quality Modified DEVICES DATAFRAME\n",
    "devs_df[devs_df.dev=='AirQualityModified']"
   ]
  },
  {
   "cell_type": "code",
   "execution_count": 142,
   "metadata": {},
   "outputs": [],
   "source": [
    "# Unknown device\n",
    "unknown_dev_name = 'AirQualityModified'"
   ]
  },
  {
   "cell_type": "markdown",
   "metadata": {},
   "source": [
    "### Determine closest devices by SDF comparison\n",
    "\n",
    "String similarity of the fields:\n",
    "- Thing and its description\n",
    "- Object and its description\n",
    "- Property and its description"
   ]
  },
  {
   "cell_type": "code",
   "execution_count": 143,
   "metadata": {},
   "outputs": [],
   "source": [
    "unknown_sdf = sdfs_df[sdfs_df.thing==unknown_dev_name]\n",
    "known_sdfs = sdfs_df[sdfs_df.thing!=unknown_dev_name]"
   ]
  },
  {
   "cell_type": "code",
   "execution_count": 170,
   "metadata": {},
   "outputs": [],
   "source": [
    "# Define distance functions\n",
    "def calc_str_dist(descs, row):\n",
    "    return fuzz.ratio(descs,row['thing_desc'] + ' ' + row['obj'] + ' ' + row['obj_desc'] + ' ' + row['prop'] + ' ' + row['prop_desc'])\n",
    "\n",
    "# Compute closest devices by SDF\n",
    "def get_closest_devs_by_sdf(unknown_sdf,known_sdfs,i) :\n",
    "    # Create local copies\n",
    "    unknown_row = unknown_sdf.iloc[i].copy()\n",
    "    knowns_alike = known_sdfs[known_sdfs.prop_type==unknown_row['prop_type']].copy()\n",
    "\n",
    "    # Build joint description \n",
    "    descs = unknown_row['thing'] + ' ' + unknown_row['thing_desc'] + ' ' + unknown_row['obj'] + ' ' + unknown_row['obj_desc'] + ' ' + unknown_row['prop'] + ' ' + unknown_row['prop_desc']\n",
    "\n",
    "    # Calc string distances\n",
    "    knowns_alike['str_dist'] = knowns_alike.apply(lambda x: calc_str_dist(descs,x), axis=1)\n",
    "    closest_things = knowns_alike[['thing','obj','prop','str_dist']].sort_values(by='str_dist',ascending=False)\n",
    "\n",
    "    # Give points based on closeness\n",
    "    score = 5\n",
    "    vote = {}\n",
    "    for row in closest_things.itertuples() :\n",
    "        if score == 0 : break\n",
    "        if row.uuid in vote : continue\n",
    "        vote[row.uuid] = score\n",
    "        score -= 1\n",
    "        \n",
    "    return vote\n",
    "        \n",
    "    return vote"
   ]
  },
  {
   "cell_type": "code",
   "execution_count": 171,
   "metadata": {},
   "outputs": [],
   "source": [
    "# Compute distance for each unknown module attribute\n",
    "votes = (Parallel(n_jobs=12)(delayed(get_closest_devs_by_sdf)(unknown_sdf,known_sdfs,i) for i in range(unknown_sdf.shape[0])))\n",
    "total_vote_sdf = {}\n",
    "for vote in votes:\n",
    "    for candidate, score in vote.items() :\n",
    "        if candidate not in total_vote_sdf :\n",
    "            total_vote_sdf[candidate] = score\n",
    "        else :\n",
    "            total_vote_sdf[candidate] += score\n",
    "\n",
    "total_vote_sdf_df = pd.DataFrame(total_vote_sdf.items(),columns=['candidate','score']).sort_values(by='score',ascending=False)"
   ]
  },
  {
   "cell_type": "code",
   "execution_count": 172,
   "metadata": {},
   "outputs": [
    {
     "data": {
      "text/html": [
       "<div>\n",
       "<style scoped>\n",
       "    .dataframe tbody tr th:only-of-type {\n",
       "        vertical-align: middle;\n",
       "    }\n",
       "\n",
       "    .dataframe tbody tr th {\n",
       "        vertical-align: top;\n",
       "    }\n",
       "\n",
       "    .dataframe thead th {\n",
       "        text-align: right;\n",
       "    }\n",
       "</style>\n",
       "<table border=\"1\" class=\"dataframe\">\n",
       "  <thead>\n",
       "    <tr style=\"text-align: right;\">\n",
       "      <th></th>\n",
       "      <th>candidate</th>\n",
       "      <th>score</th>\n",
       "    </tr>\n",
       "  </thead>\n",
       "  <tbody>\n",
       "    <tr>\n",
       "      <th>0</th>\n",
       "      <td>AirQuality</td>\n",
       "      <td>20</td>\n",
       "    </tr>\n",
       "    <tr>\n",
       "      <th>1</th>\n",
       "      <td>NoiseSensor</td>\n",
       "      <td>16</td>\n",
       "    </tr>\n",
       "    <tr>\n",
       "      <th>3</th>\n",
       "      <td>RainSensor</td>\n",
       "      <td>10</td>\n",
       "    </tr>\n",
       "    <tr>\n",
       "      <th>2</th>\n",
       "      <td>SeismicSensor</td>\n",
       "      <td>7</td>\n",
       "    </tr>\n",
       "    <tr>\n",
       "      <th>4</th>\n",
       "      <td>WindSensor</td>\n",
       "      <td>6</td>\n",
       "    </tr>\n",
       "    <tr>\n",
       "      <th>5</th>\n",
       "      <td>RepairControl</td>\n",
       "      <td>1</td>\n",
       "    </tr>\n",
       "  </tbody>\n",
       "</table>\n",
       "</div>"
      ],
      "text/plain": [
       "       candidate  score\n",
       "0     AirQuality     20\n",
       "1    NoiseSensor     16\n",
       "3     RainSensor     10\n",
       "2  SeismicSensor      7\n",
       "4     WindSensor      6\n",
       "5  RepairControl      1"
      ]
     },
     "execution_count": 172,
     "metadata": {},
     "output_type": "execute_result"
    }
   ],
   "source": [
    "total_vote_sdf_df"
   ]
  },
  {
   "cell_type": "markdown",
   "metadata": {},
   "source": [
    "### Compare attributes time series"
   ]
  },
  {
   "cell_type": "code",
   "execution_count": 173,
   "metadata": {},
   "outputs": [
    {
     "data": {
      "image/png": "[encoded data removed]",
      "text/plain": [
       "<Figure size 1200x500 with 1 Axes>"
      ]
     },
     "metadata": {},
     "output_type": "display_data"
    }
   ],
   "source": [
    "devs_df_slice = devs_df[\n",
    "    ((devs_df.dev == 'AirQuality') | \\\n",
    "    (devs_df.dev == 'AirQualityModified'))]\n",
    "plt.figure(figsize=(12,5))\n",
    "\n",
    "names = []\n",
    "for i,row in devs_df_slice.iterrows():\n",
    "    dev_uuid = row.uuid\n",
    "    dev_name, mod_name, attrib_name = row['dev'], row['mod'], row['attrib']\n",
    "    ax1 = plt.plot(row[val_cols].to_list())\n",
    "    names.append(dev_name + '/' + mod_name + '/' + attrib_name) \n",
    "\n",
    "plt.legend(names)\n",
    "plt.show()"
   ]
  },
  {
   "cell_type": "markdown",
   "metadata": {},
   "source": [
    "### Determine closest device UUID by buffered values comparison\n",
    "\n",
    "Get the attribute with the closest values (euclidean distance) to each of the unknown device module attributes"
   ]
  },
  {
   "cell_type": "code",
   "execution_count": 174,
   "metadata": {},
   "outputs": [],
   "source": [
    "unknown_uuid = '' # UUID of the unknown device\n",
    "unknown_dev = devs_df[devs_df.dev==unknown_dev_name]\n",
    "known_devs = devs_df[devs_df.dev!=unknown_dev_name]"
   ]
  },
  {
   "cell_type": "code",
   "execution_count": 175,
   "metadata": {},
   "outputs": [],
   "source": [
    "# Compute closest devices by values comparison\n",
    "def get_closest_devs_by_values(unknown_dev,known_devs,i) :\n",
    "    # Create local copies\n",
    "    unknown_row = unknown_dev.iloc[i].copy()\n",
    "    knowns_alike = known_devs.copy()\n",
    "\n",
    "    # Normalize values\n",
    "    max_val, min_val = knowns_alike[val_cols].max(), knowns_alike[val_cols].min()\n",
    "    knowns_alike[val_cols] = (knowns_alike[val_cols] - min_val)/(max_val-min_val)\n",
    "    unknown_row[val_cols] = (unknown_row[val_cols] - min_val)/(max_val-min_val)\n",
    "\n",
    "    # Calculate euclidean distance and get closest devices\n",
    "    knowns_alike['dist'] = ((knowns_alike[val_cols] - unknown_row[val_cols])**2).sum(axis=1)**0.5\n",
    "    closest_things = knowns_alike[['uuid','dev','mod','attrib','dist']].sort_values(by='dist',ascending=True)\n",
    "\n",
    "    # Give points based on closeness\n",
    "    score = 5\n",
    "    vote = {}\n",
    "    for row in closest_things.itertuples() :\n",
    "        if score == 0 : break\n",
    "        if row.uuid in vote : continue\n",
    "        vote[row.uuid] = score\n",
    "        score -= 1\n",
    "        \n",
    "    return vote"
   ]
  },
  {
   "cell_type": "code",
   "execution_count": 176,
   "metadata": {},
   "outputs": [],
   "source": [
    "# Compute distance for each unknown module attribute\n",
    "votes = (Parallel(n_jobs=12)(delayed(get_closest_devs_by_values)(unknown_dev,known_devs,i) for i in range(unknown_dev.shape[0])))\n",
    "total_vote_dev = {}\n",
    "for vote in votes:\n",
    "    for candidate in vote :\n",
    "        if candidate not in total_vote_dev :\n",
    "            total_vote_dev[candidate] = vote[candidate]\n",
    "        else :\n",
    "            total_vote_dev[candidate] += vote[candidate]\n",
    "total_vote_dev_df = pd.DataFrame(total_vote_dev.items(),columns=['candidate','score']).sort_values(by='score',ascending=False)"
   ]
  },
  {
   "cell_type": "code",
   "execution_count": 177,
   "metadata": {},
   "outputs": [
    {
     "data": {
      "text/html": [
       "<div>\n",
       "<style scoped>\n",
       "    .dataframe tbody tr th:only-of-type {\n",
       "        vertical-align: middle;\n",
       "    }\n",
       "\n",
       "    .dataframe tbody tr th {\n",
       "        vertical-align: top;\n",
       "    }\n",
       "\n",
       "    .dataframe thead th {\n",
       "        text-align: right;\n",
       "    }\n",
       "</style>\n",
       "<table border=\"1\" class=\"dataframe\">\n",
       "  <thead>\n",
       "    <tr style=\"text-align: right;\">\n",
       "      <th></th>\n",
       "      <th>candidate</th>\n",
       "      <th>score</th>\n",
       "    </tr>\n",
       "  </thead>\n",
       "  <tbody>\n",
       "    <tr>\n",
       "      <th>0</th>\n",
       "      <td>5362cb80-381d-4d21-87ba-af283640fa98</td>\n",
       "      <td>20</td>\n",
       "    </tr>\n",
       "    <tr>\n",
       "      <th>1</th>\n",
       "      <td>c11c3f56-0f26-415f-a00d-3bb929f5ca20</td>\n",
       "      <td>12</td>\n",
       "    </tr>\n",
       "    <tr>\n",
       "      <th>2</th>\n",
       "      <td>fbeaa5f3-e532-4e02-8429-c77301f46470</td>\n",
       "      <td>9</td>\n",
       "    </tr>\n",
       "    <tr>\n",
       "      <th>3</th>\n",
       "      <td>f169a965-bb15-4db3-97cd-49b5b641a9fe</td>\n",
       "      <td>7</td>\n",
       "    </tr>\n",
       "    <tr>\n",
       "      <th>4</th>\n",
       "      <td>f342e60b-6a54-4f20-8874-89a550ebc75c</td>\n",
       "      <td>4</td>\n",
       "    </tr>\n",
       "    <tr>\n",
       "      <th>5</th>\n",
       "      <td>a6f65d7a-019a-4723-9b81-fb4a163fa23a</td>\n",
       "      <td>4</td>\n",
       "    </tr>\n",
       "    <tr>\n",
       "      <th>6</th>\n",
       "      <td>70a15d0b-f6d3-4833-b929-74abdff69fa5</td>\n",
       "      <td>3</td>\n",
       "    </tr>\n",
       "    <tr>\n",
       "      <th>7</th>\n",
       "      <td>45d289e7-4da6-4c10-aa6e-2c1d48b223e2</td>\n",
       "      <td>1</td>\n",
       "    </tr>\n",
       "  </tbody>\n",
       "</table>\n",
       "</div>"
      ],
      "text/plain": [
       "                              candidate  score\n",
       "0  5362cb80-381d-4d21-87ba-af283640fa98     20\n",
       "1  c11c3f56-0f26-415f-a00d-3bb929f5ca20     12\n",
       "2  fbeaa5f3-e532-4e02-8429-c77301f46470      9\n",
       "3  f169a965-bb15-4db3-97cd-49b5b641a9fe      7\n",
       "4  f342e60b-6a54-4f20-8874-89a550ebc75c      4\n",
       "5  a6f65d7a-019a-4723-9b81-fb4a163fa23a      4\n",
       "6  70a15d0b-f6d3-4833-b929-74abdff69fa5      3\n",
       "7  45d289e7-4da6-4c10-aa6e-2c1d48b223e2      1"
      ]
     },
     "execution_count": 177,
     "metadata": {},
     "output_type": "execute_result"
    }
   ],
   "source": [
    "total_vote_dev_df"
   ]
  },
  {
   "cell_type": "code",
   "execution_count": null,
   "metadata": {},
   "outputs": [],
   "source": []
  },
  {
   "cell_type": "code",
   "execution_count": null,
   "metadata": {},
   "outputs": [],
   "source": []
  }
 ],
 "metadata": {
  "kernelspec": {
   "display_name": "Python 3.10.4 64-bit",
   "language": "python",
   "name": "python3"
  },
  "language_info": {
   "codemirror_mode": {
    "name": "ipython",
    "version": 3
   },
   "file_extension": ".py",
   "mimetype": "text/x-python",
   "name": "python",
   "nbconvert_exporter": "python",
   "pygments_lexer": "ipython3",
   "version": "3.10.6"
  },
  "orig_nbformat": 4,
  "vscode": {
   "interpreter": {
    "hash": "31f2aee4e71d21fbe5cf8b01ff0e069b9275f58929596ceb00d14d90e3e16cd6"
   }
  }
 },
 "nbformat": 4,
 "nbformat_minor": 2
}

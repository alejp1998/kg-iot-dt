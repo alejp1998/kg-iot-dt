{
 "cells": [
  {
   "cell_type": "markdown",
   "metadata": {},
   "source": [
    "# Similarity / Distance between Devices"
   ]
  },
  {
   "cell_type": "code",
   "execution_count": 20,
   "metadata": {},
   "outputs": [],
   "source": [
    "from aux import *\n",
    "import pandas as pd\n",
    "from thefuzz import fuzz\n",
    "import numpy as np\n",
    "import json\n",
    "from joblib import Parallel, delayed\n",
    "import matplotlib.pyplot as plt\n",
    "plt.style.use('default')"
   ]
  },
  {
   "cell_type": "markdown",
   "metadata": {},
   "source": [
    "## Devices SDF definitions"
   ]
  },
  {
   "cell_type": "markdown",
   "metadata": {},
   "source": [
    "### Adapt SDF definition data for analysis"
   ]
  },
  {
   "cell_type": "code",
   "execution_count": 2,
   "metadata": {},
   "outputs": [],
   "source": [
    "# Load SDF files to compare\n",
    "sdf_manager = SDFManager(path='../iot/sdf/')\n",
    "sdfs = sdf_manager.get_all_sdfs()"
   ]
  },
  {
   "cell_type": "code",
   "execution_count": 4,
   "metadata": {},
   "outputs": [],
   "source": [
    "# Turn the SDF files into dataframes - Avoid redundant data\n",
    "sdfs_trans = {}\n",
    "columns = ['thing','thing_desc','obj','obj_desc','prop','prop_desc','prop_type','prop_unit']\n",
    "rows = []\n",
    "for name, sdf in sdfs.items() :\n",
    "    if name == 'Auxiliary':\n",
    "        continue\n",
    "    for sdfThing, thing_dic in sdf['sdfThing'].items():\n",
    "        thing_desc = thing_dic['description']\n",
    "        for sdfObject, object_dic in thing_dic['sdfObject'].items():\n",
    "            object_desc = object_dic['description']\n",
    "            for sdfProperty, prop_dic in object_dic['sdfProperty'].items():\n",
    "                if sdfProperty == 'uuid': continue\n",
    "                prop_desc = prop_dic['description']\n",
    "                prop_type = prop_dic['type']\n",
    "                prop_unit = prop_dic['unit'] if 'unit' in prop_dic else None\n",
    "                rows.append((sdfThing,thing_desc,sdfObject,object_desc,sdfProperty,prop_desc,prop_type,prop_unit))\n",
    "\n",
    "sdfs_df = pd.DataFrame(columns=columns,data=rows)"
   ]
  },
  {
   "cell_type": "code",
   "execution_count": 5,
   "metadata": {},
   "outputs": [
    {
     "data": {
      "text/html": [
       "<div>\n",
       "<style scoped>\n",
       "    .dataframe tbody tr th:only-of-type {\n",
       "        vertical-align: middle;\n",
       "    }\n",
       "\n",
       "    .dataframe tbody tr th {\n",
       "        vertical-align: top;\n",
       "    }\n",
       "\n",
       "    .dataframe thead th {\n",
       "        text-align: right;\n",
       "    }\n",
       "</style>\n",
       "<table border=\"1\" class=\"dataframe\">\n",
       "  <thead>\n",
       "    <tr style=\"text-align: right;\">\n",
       "      <th></th>\n",
       "      <th>obj</th>\n",
       "      <th>obj_desc</th>\n",
       "      <th>prop</th>\n",
       "      <th>prop_desc</th>\n",
       "      <th>prop_type</th>\n",
       "      <th>prop_unit</th>\n",
       "    </tr>\n",
       "  </thead>\n",
       "  <tbody>\n",
       "    <tr>\n",
       "      <th>0</th>\n",
       "      <td>temperature_humidity_sensor</td>\n",
       "      <td>Measures environmental temperature and humidity.</td>\n",
       "      <td>temperature</td>\n",
       "      <td>Temperature value</td>\n",
       "      <td>number</td>\n",
       "      <td>Cel</td>\n",
       "    </tr>\n",
       "    <tr>\n",
       "      <th>1</th>\n",
       "      <td>temperature_humidity_sensor</td>\n",
       "      <td>Measures environmental temperature and humidity.</td>\n",
       "      <td>humidity</td>\n",
       "      <td>Humidity value</td>\n",
       "      <td>number</td>\n",
       "      <td>%</td>\n",
       "    </tr>\n",
       "    <tr>\n",
       "      <th>2</th>\n",
       "      <td>air_quality_sensor</td>\n",
       "      <td>Measures air pollutants.</td>\n",
       "      <td>pm25</td>\n",
       "      <td>PM2.5 value</td>\n",
       "      <td>number</td>\n",
       "      <td>ug/m3</td>\n",
       "    </tr>\n",
       "    <tr>\n",
       "      <th>3</th>\n",
       "      <td>air_quality_sensor</td>\n",
       "      <td>Measures air pollutants.</td>\n",
       "      <td>pm10</td>\n",
       "      <td>PM10 value</td>\n",
       "      <td>number</td>\n",
       "      <td>ug/m3</td>\n",
       "    </tr>\n",
       "  </tbody>\n",
       "</table>\n",
       "</div>"
      ],
      "text/plain": [
       "                           obj  \\\n",
       "0  temperature_humidity_sensor   \n",
       "1  temperature_humidity_sensor   \n",
       "2           air_quality_sensor   \n",
       "3           air_quality_sensor   \n",
       "\n",
       "                                           obj_desc         prop  \\\n",
       "0  Measures environmental temperature and humidity.  temperature   \n",
       "1  Measures environmental temperature and humidity.     humidity   \n",
       "2                          Measures air pollutants.         pm25   \n",
       "3                          Measures air pollutants.         pm10   \n",
       "\n",
       "           prop_desc prop_type prop_unit  \n",
       "0  Temperature value    number       Cel  \n",
       "1     Humidity value    number         %  \n",
       "2        PM2.5 value    number     ug/m3  \n",
       "3         PM10 value    number     ug/m3  "
      ]
     },
     "execution_count": 5,
     "metadata": {},
     "output_type": "execute_result"
    }
   ],
   "source": [
    "# Air Quality SDF DATAFRAME\n",
    "sdfs_df[sdfs_df.thing=='AirQualityModified'].iloc[:,2:].reset_index(drop=True)"
   ]
  },
  {
   "cell_type": "markdown",
   "metadata": {},
   "source": [
    "## Devices data"
   ]
  },
  {
   "cell_type": "markdown",
   "metadata": {},
   "source": [
    "### Load devices data"
   ]
  },
  {
   "cell_type": "code",
   "execution_count": 128,
   "metadata": {},
   "outputs": [],
   "source": [
    "# Read devices data samples from JSON\n",
    "with open('devices.json', 'r') as f: devices = json.load(f)"
   ]
  },
  {
   "cell_type": "markdown",
   "metadata": {},
   "source": [
    "### Adapt devices data for analysis"
   ]
  },
  {
   "cell_type": "code",
   "execution_count": 129,
   "metadata": {},
   "outputs": [],
   "source": [
    "# Build devices dataframe\n",
    "rows = []\n",
    "for dev_uuid, dev in devices.items() :\n",
    "    # Dev row initialization\n",
    "    row = {\n",
    "        'uuid': dev_uuid,\n",
    "        'dev' : dev['name'],\n",
    "        'integ': dev['integrated'],\n",
    "        'timestamp': dev['timestamp'],\n",
    "        'period': dev['period']\n",
    "    }\n",
    "        \n",
    "    # Create a row for each module attribute with a column for each value in the buffer\n",
    "    for mod_uuid, mod in dev['modules'].items() :\n",
    "        row['mod'] = mod['name']\n",
    "        for prop_name, buffer in mod['attribs'].items() :\n",
    "            row['attrib'] = prop_name\n",
    "            for i, val in enumerate(buffer) :\n",
    "                row[f'v{i+1}'] = val\n",
    "            rows.append(row.copy())\n",
    "\n",
    "# Build devices dataframe\n",
    "devs_df = pd.DataFrame(rows)"
   ]
  },
  {
   "cell_type": "code",
   "execution_count": 130,
   "metadata": {},
   "outputs": [],
   "source": [
    "# Drop columns without useful information\n",
    "devs_df = devs_df.drop(columns=['integ','timestamp','period'])"
   ]
  },
  {
   "cell_type": "markdown",
   "metadata": {},
   "source": [
    "## Similarity Analysis\n",
    "Given an unknown device, determine the 5 closest devices according to SDF definition similarity, and then choose the closest device by including the buffered data. \n",
    "\n",
    "**Possible algorithm**\n",
    "\n",
    "    Given an unknown device(thing) module(object) attribute(property), find 5 closest thing-object-property tuples according to SDF definition.\n",
    "\n",
    "    Then, for each unknown module attribute, determine which attribute resembles the most to it of those in the 5 closest devices, and vote this device UUID as the candidate to be the closest.\n",
    "\n",
    "    Finally, the device that has the most attribute votes is chosen as the closest device."
   ]
  },
  {
   "cell_type": "code",
   "execution_count": 131,
   "metadata": {},
   "outputs": [],
   "source": [
    "# Value columns names\n",
    "n_vals = 20\n",
    "val_cols = [f'v{i+1}' for i in range(n_vals)]\n",
    "\n",
    "# Turn booleans into integers and cast all data to float\n",
    "devs_df[val_cols] = devs_df[val_cols].replace('False',0).replace('True',1)\n",
    "devs_df[val_cols] = devs_df[val_cols].astype(float)"
   ]
  },
  {
   "cell_type": "code",
   "execution_count": 132,
   "metadata": {},
   "outputs": [
    {
     "data": {
      "text/html": [
       "<div>\n",
       "<style scoped>\n",
       "    .dataframe tbody tr th:only-of-type {\n",
       "        vertical-align: middle;\n",
       "    }\n",
       "\n",
       "    .dataframe tbody tr th {\n",
       "        vertical-align: top;\n",
       "    }\n",
       "\n",
       "    .dataframe thead th {\n",
       "        text-align: right;\n",
       "    }\n",
       "</style>\n",
       "<table border=\"1\" class=\"dataframe\">\n",
       "  <thead>\n",
       "    <tr style=\"text-align: right;\">\n",
       "      <th></th>\n",
       "      <th>uuid</th>\n",
       "      <th>dev</th>\n",
       "      <th>mod</th>\n",
       "      <th>attrib</th>\n",
       "      <th>v1</th>\n",
       "      <th>v2</th>\n",
       "      <th>v3</th>\n",
       "      <th>v4</th>\n",
       "      <th>v5</th>\n",
       "      <th>v6</th>\n",
       "      <th>...</th>\n",
       "      <th>v11</th>\n",
       "      <th>v12</th>\n",
       "      <th>v13</th>\n",
       "      <th>v14</th>\n",
       "      <th>v15</th>\n",
       "      <th>v16</th>\n",
       "      <th>v17</th>\n",
       "      <th>v18</th>\n",
       "      <th>v19</th>\n",
       "      <th>v20</th>\n",
       "    </tr>\n",
       "  </thead>\n",
       "  <tbody>\n",
       "    <tr>\n",
       "      <th>277</th>\n",
       "      <td>4c133df5-b9a0-48c9-81ad-5db2a5e81b3d</td>\n",
       "      <td>AirQualityModified</td>\n",
       "      <td>temperature_humidity_sensor</td>\n",
       "      <td>temperature</td>\n",
       "      <td>21.563735</td>\n",
       "      <td>21.797707</td>\n",
       "      <td>21.294238</td>\n",
       "      <td>22.109543</td>\n",
       "      <td>20.941509</td>\n",
       "      <td>22.061380</td>\n",
       "      <td>...</td>\n",
       "      <td>21.228256</td>\n",
       "      <td>20.322755</td>\n",
       "      <td>20.042489</td>\n",
       "      <td>20.531174</td>\n",
       "      <td>20.143828</td>\n",
       "      <td>21.291905</td>\n",
       "      <td>21.403538</td>\n",
       "      <td>20.680374</td>\n",
       "      <td>20.529908</td>\n",
       "      <td>19.985801</td>\n",
       "    </tr>\n",
       "    <tr>\n",
       "      <th>278</th>\n",
       "      <td>4c133df5-b9a0-48c9-81ad-5db2a5e81b3d</td>\n",
       "      <td>AirQualityModified</td>\n",
       "      <td>temperature_humidity_sensor</td>\n",
       "      <td>humidity</td>\n",
       "      <td>26.208884</td>\n",
       "      <td>26.276771</td>\n",
       "      <td>27.177333</td>\n",
       "      <td>27.501702</td>\n",
       "      <td>25.951246</td>\n",
       "      <td>25.456744</td>\n",
       "      <td>...</td>\n",
       "      <td>25.517330</td>\n",
       "      <td>26.593874</td>\n",
       "      <td>28.116588</td>\n",
       "      <td>28.308997</td>\n",
       "      <td>29.907574</td>\n",
       "      <td>29.174646</td>\n",
       "      <td>28.531786</td>\n",
       "      <td>28.024130</td>\n",
       "      <td>28.056696</td>\n",
       "      <td>30.106803</td>\n",
       "    </tr>\n",
       "    <tr>\n",
       "      <th>279</th>\n",
       "      <td>4c133df5-b9a0-48c9-81ad-5db2a5e81b3d</td>\n",
       "      <td>AirQualityModified</td>\n",
       "      <td>air_quality_sensor</td>\n",
       "      <td>pm25</td>\n",
       "      <td>11.772643</td>\n",
       "      <td>11.575489</td>\n",
       "      <td>12.187209</td>\n",
       "      <td>12.672941</td>\n",
       "      <td>13.017224</td>\n",
       "      <td>12.993290</td>\n",
       "      <td>...</td>\n",
       "      <td>13.254057</td>\n",
       "      <td>12.987910</td>\n",
       "      <td>12.689293</td>\n",
       "      <td>12.863912</td>\n",
       "      <td>13.469429</td>\n",
       "      <td>13.047456</td>\n",
       "      <td>12.936368</td>\n",
       "      <td>13.101159</td>\n",
       "      <td>12.915689</td>\n",
       "      <td>13.092718</td>\n",
       "    </tr>\n",
       "    <tr>\n",
       "      <th>280</th>\n",
       "      <td>4c133df5-b9a0-48c9-81ad-5db2a5e81b3d</td>\n",
       "      <td>AirQualityModified</td>\n",
       "      <td>air_quality_sensor</td>\n",
       "      <td>pm10</td>\n",
       "      <td>19.579892</td>\n",
       "      <td>19.337842</td>\n",
       "      <td>20.132194</td>\n",
       "      <td>19.257369</td>\n",
       "      <td>19.491719</td>\n",
       "      <td>19.845977</td>\n",
       "      <td>...</td>\n",
       "      <td>21.820920</td>\n",
       "      <td>22.342423</td>\n",
       "      <td>21.994034</td>\n",
       "      <td>22.656890</td>\n",
       "      <td>21.964770</td>\n",
       "      <td>21.472504</td>\n",
       "      <td>22.599607</td>\n",
       "      <td>22.423522</td>\n",
       "      <td>22.094148</td>\n",
       "      <td>23.486047</td>\n",
       "    </tr>\n",
       "  </tbody>\n",
       "</table>\n",
       "<p>4 rows × 24 columns</p>\n",
       "</div>"
      ],
      "text/plain": [
       "                                     uuid                 dev  \\\n",
       "277  4c133df5-b9a0-48c9-81ad-5db2a5e81b3d  AirQualityModified   \n",
       "278  4c133df5-b9a0-48c9-81ad-5db2a5e81b3d  AirQualityModified   \n",
       "279  4c133df5-b9a0-48c9-81ad-5db2a5e81b3d  AirQualityModified   \n",
       "280  4c133df5-b9a0-48c9-81ad-5db2a5e81b3d  AirQualityModified   \n",
       "\n",
       "                             mod       attrib         v1         v2  \\\n",
       "277  temperature_humidity_sensor  temperature  21.563735  21.797707   \n",
       "278  temperature_humidity_sensor     humidity  26.208884  26.276771   \n",
       "279           air_quality_sensor         pm25  11.772643  11.575489   \n",
       "280           air_quality_sensor         pm10  19.579892  19.337842   \n",
       "\n",
       "            v3         v4         v5         v6  ...        v11        v12  \\\n",
       "277  21.294238  22.109543  20.941509  22.061380  ...  21.228256  20.322755   \n",
       "278  27.177333  27.501702  25.951246  25.456744  ...  25.517330  26.593874   \n",
       "279  12.187209  12.672941  13.017224  12.993290  ...  13.254057  12.987910   \n",
       "280  20.132194  19.257369  19.491719  19.845977  ...  21.820920  22.342423   \n",
       "\n",
       "           v13        v14        v15        v16        v17        v18  \\\n",
       "277  20.042489  20.531174  20.143828  21.291905  21.403538  20.680374   \n",
       "278  28.116588  28.308997  29.907574  29.174646  28.531786  28.024130   \n",
       "279  12.689293  12.863912  13.469429  13.047456  12.936368  13.101159   \n",
       "280  21.994034  22.656890  21.964770  21.472504  22.599607  22.423522   \n",
       "\n",
       "           v19        v20  \n",
       "277  20.529908  19.985801  \n",
       "278  28.056696  30.106803  \n",
       "279  12.915689  13.092718  \n",
       "280  22.094148  23.486047  \n",
       "\n",
       "[4 rows x 24 columns]"
      ]
     },
     "execution_count": 132,
     "metadata": {},
     "output_type": "execute_result"
    }
   ],
   "source": [
    "# Air Quality Modified DEVICES DATAFRAME\n",
    "devs_df[devs_df.dev=='AirQualityModified']"
   ]
  },
  {
   "cell_type": "code",
   "execution_count": 133,
   "metadata": {},
   "outputs": [],
   "source": [
    "# Unknown device\n",
    "unknown_dev_name = 'AirQualityModified'"
   ]
  },
  {
   "cell_type": "markdown",
   "metadata": {},
   "source": [
    "### Determine closest devices by SDF comparison\n",
    "\n",
    "String similarity of the fields:\n",
    "- Thing and its description\n",
    "- Object and its description\n",
    "- Property and its description"
   ]
  },
  {
   "cell_type": "code",
   "execution_count": 134,
   "metadata": {},
   "outputs": [],
   "source": [
    "unknown_sdf = sdfs_df[sdfs_df.thing==unknown_dev_name]\n",
    "known_sdfs = sdfs_df[sdfs_df.thing!=unknown_dev_name]"
   ]
  },
  {
   "cell_type": "code",
   "execution_count": 135,
   "metadata": {},
   "outputs": [],
   "source": [
    "# Define distance functions\n",
    "def calc_str_dist(descs, row):\n",
    "    return fuzz.ratio(descs,row['thing_desc'] + ' ' + row['obj'] + ' ' + row['obj_desc'] + ' ' + row['prop'] + ' ' + row['prop_desc'])\n",
    "\n",
    "# Compute closest devices by SDF\n",
    "def get_closest_devs_by_sdf(unknown_sdf,known_sdfs,i) :\n",
    "    unknown_row = unknown_sdf.iloc[i].copy()\n",
    "\n",
    "    # Build joint description \n",
    "    descs = unknown_row['thing'] + ' ' + unknown_row['thing_desc'] + ' ' + unknown_row['obj'] + ' ' + unknown_row['obj_desc'] + ' ' + unknown_row['prop'] + ' ' + unknown_row['prop_desc']\n",
    "\n",
    "    # Calc string distances\n",
    "    knowns_alike = known_sdfs[known_sdfs.prop_type==unknown_row['prop_type']].copy()\n",
    "    knowns_alike['str_dist'] = knowns_alike.apply(lambda x: calc_str_dist(descs,x), axis=1)\n",
    "    closest_things = knowns_alike[['thing','obj','prop','str_dist']].sort_values(by='str_dist',ascending=False)\n",
    "\n",
    "    # Give point based on closeness\n",
    "    score = 5\n",
    "    vote = {}\n",
    "    for row in closest_things.itertuples() :\n",
    "        candidate = row.thing+'/'+row.obj+'/'+row.prop\n",
    "        if candidate not in vote :\n",
    "            vote[candidate] = score\n",
    "            score -= 1\n",
    "\n",
    "        if score == 0 :\n",
    "            break\n",
    "        \n",
    "    return vote"
   ]
  },
  {
   "cell_type": "code",
   "execution_count": 136,
   "metadata": {},
   "outputs": [],
   "source": [
    "# Compute distance for each unknown module attribute\n",
    "votes = (Parallel(n_jobs=12)(delayed(get_closest_devs_by_sdf)(unknown_sdf,known_sdfs,i) for i in range(unknown_sdf.shape[0])))\n",
    "total_vote_sdf = {}\n",
    "for vote in votes:\n",
    "    for candidate in vote :\n",
    "        if candidate not in total_vote_sdf :\n",
    "            total_vote_sdf[candidate] = vote[candidate]\n",
    "        else :\n",
    "            total_vote_sdf[candidate] += vote[candidate]"
   ]
  },
  {
   "cell_type": "code",
   "execution_count": 137,
   "metadata": {},
   "outputs": [
    {
     "data": {
      "text/plain": [
       "{'AirQuality/temperature_sensor/temperature': 9,\n",
       " 'AirQuality/humidity_sensor/humidity': 13,\n",
       " 'AirQuality/pressure_sensor/pressure': 8,\n",
       " 'AirQuality/air_quality_sensor/pm10': 13,\n",
       " 'AirQuality/air_quality_sensor/pm1': 11,\n",
       " 'AirQuality/air_quality_sensor/pm25': 6}"
      ]
     },
     "execution_count": 137,
     "metadata": {},
     "output_type": "execute_result"
    }
   ],
   "source": [
    "total_vote_sdf"
   ]
  },
  {
   "cell_type": "markdown",
   "metadata": {},
   "source": [
    "### Compare attributes time series"
   ]
  },
  {
   "cell_type": "code",
   "execution_count": 138,
   "metadata": {},
   "outputs": [
    {
     "data": {
      "image/png": "[encoded data removed]",
      "text/plain": [
       "<Figure size 1200x500 with 1 Axes>"
      ]
     },
     "metadata": {},
     "output_type": "display_data"
    }
   ],
   "source": [
    "plt.figure(figsize=(12,5))\n",
    "plt.xlabel('Time')\n",
    "\n",
    "dev_uuid = \"5362cb80-381d-4d21-87ba-af283640fa98\"\n",
    "mod_name, attrib_name = 'temperature_sensor', 'temperature'\n",
    "buffer_data = devs_df[(devs_df['uuid']==dev_uuid)&(devs_df['mod']==mod_name)&(devs_df['attrib']==attrib_name)].iloc[0][val_cols]\n",
    "ax1 = plt.plot(buffer_data, color='blue', label='AirQuality')\n",
    "\n",
    "dev_uuid = devs_df[devs_df.dev=='AirQualityModified'].iloc[0].uuid\n",
    "mod_name, attrib_name = 'temperature_humidity_sensor', 'temperature'\n",
    "buffer_data = devs_df[(devs_df['uuid']==dev_uuid)&(devs_df['mod']==mod_name)&(devs_df['attrib']==attrib_name)].iloc[0][val_cols]\n",
    "ax2 = plt.plot(buffer_data, color='red', label='AirQualityModified')\n",
    "\n",
    "plt.show()"
   ]
  },
  {
   "cell_type": "code",
   "execution_count": 123,
   "metadata": {},
   "outputs": [
    {
     "data": {
      "text/plain": [
       "0                    conveyor_belt\n",
       "1                    conveyor_belt\n",
       "2                    conveyor_belt\n",
       "3                    conveyor_belt\n",
       "4                    conveyor_belt\n",
       "                  ...             \n",
       "272                       actuator\n",
       "273    temperature_humidity_sensor\n",
       "274    temperature_humidity_sensor\n",
       "275             air_quality_sensor\n",
       "276             air_quality_sensor\n",
       "Name: mod, Length: 277, dtype: object"
      ]
     },
     "execution_count": 123,
     "metadata": {},
     "output_type": "execute_result"
    }
   ],
   "source": [
    "devs_df['mod']"
   ]
  },
  {
   "cell_type": "markdown",
   "metadata": {},
   "source": [
    "### Determine closest device UUID by buffered values comparison\n",
    "\n",
    "Get the attribute with the closest values (euclidean distance) to each of the unknown device module attributes"
   ]
  },
  {
   "cell_type": "code",
   "execution_count": 124,
   "metadata": {},
   "outputs": [],
   "source": [
    "unknown_uuid = '' # UUID of the unknown device\n",
    "unknown_dev = devs_df[devs_df.dev==unknown_dev_name]\n",
    "known_devs = devs_df[devs_df.dev!=unknown_dev_name]"
   ]
  },
  {
   "cell_type": "code",
   "execution_count": 49,
   "metadata": {},
   "outputs": [],
   "source": [
    "# Compute closest devices by values comparison\n",
    "def get_closest_devs_by_values(unknown_dev,known_devs,i) :\n",
    "    unknown_row = unknown_dev.iloc[i].copy()\n",
    "\n",
    "    # Calc string distances\n",
    "    knowns_alike = known_devs.copy()\n",
    "    knowns_alike['dist'] = ((knowns_alike[val_cols] - unknown_row[val_cols])**2).sum(axis=1)**0.5\n",
    "    closest_things = knowns_alike[['uuid','dev','mod','attrib','dist']].sort_values(by='dist',ascending=True)\n",
    "\n",
    "    # Give points based on closeness\n",
    "    score = 5\n",
    "    vote = {}\n",
    "    for row in closest_things.itertuples() :\n",
    "        candidate = row.uuid+'/'+row.dev+'/'+row.mod+'/'+row.attrib\n",
    "        if candidate not in vote :\n",
    "            vote[candidate] = score\n",
    "            score -= 1\n",
    "\n",
    "        if score == 0 :\n",
    "            break\n",
    "        \n",
    "    return vote"
   ]
  },
  {
   "cell_type": "code",
   "execution_count": 50,
   "metadata": {},
   "outputs": [],
   "source": [
    "# Compute distance for each unknown module attribute\n",
    "votes = (Parallel(n_jobs=12)(delayed(get_closest_devs_by_values)(unknown_dev,known_devs,i) for i in range(unknown_dev.shape[0])))\n",
    "total_vote_dev = {}\n",
    "for vote in votes:\n",
    "    for candidate in vote :\n",
    "        if candidate not in total_vote_dev :\n",
    "            total_vote_dev[candidate] = vote[candidate]\n",
    "        else :\n",
    "            total_vote_dev[candidate] += vote[candidate]"
   ]
  },
  {
   "cell_type": "code",
   "execution_count": 51,
   "metadata": {},
   "outputs": [
    {
     "data": {
      "text/plain": [
       "{}"
      ]
     },
     "execution_count": 51,
     "metadata": {},
     "output_type": "execute_result"
    }
   ],
   "source": [
    "total_vote_dev"
   ]
  },
  {
   "cell_type": "code",
   "execution_count": null,
   "metadata": {},
   "outputs": [],
   "source": []
  }
 ],
 "metadata": {
  "kernelspec": {
   "display_name": "Python 3.10.4 64-bit",
   "language": "python",
   "name": "python3"
  },
  "language_info": {
   "codemirror_mode": {
    "name": "ipython",
    "version": 3
   },
   "file_extension": ".py",
   "mimetype": "text/x-python",
   "name": "python",
   "nbconvert_exporter": "python",
   "pygments_lexer": "ipython3",
   "version": "3.10.6"
  },
  "orig_nbformat": 4,
  "vscode": {
   "interpreter": {
    "hash": "31f2aee4e71d21fbe5cf8b01ff0e069b9275f58929596ceb00d14d90e3e16cd6"
   }
  }
 },
 "nbformat": 4,
 "nbformat_minor": 2
}

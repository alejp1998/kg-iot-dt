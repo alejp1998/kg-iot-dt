{
 "cells": [
  {
   "cell_type": "markdown",
   "metadata": {},
   "source": [
    "# Similarity / Distance between Devices"
   ]
  },
  {
   "cell_type": "code",
   "execution_count": 16,
   "metadata": {},
   "outputs": [],
   "source": [
    "from aux import *\n",
    "\n",
    "import pandas as pd\n",
    "import numpy as np\n",
    "\n",
    "from stumpy import mass\n",
    "from thefuzz import fuzz\n",
    "from joblib import Parallel, delayed\n",
    "from datetime import datetime, timedelta\n",
    "\n",
    "import json\n",
    "\n",
    "import plotly.graph_objects as go\n",
    "import plotly.io as pio\n",
    "pio.templates.default = \"plotly_white\"\n",
    "import matplotlib.pyplot as plt\n",
    "plt.style.use('default')"
   ]
  },
  {
   "cell_type": "code",
   "execution_count": 17,
   "metadata": {},
   "outputs": [],
   "source": [
    "#Available colors\n",
    "colors = [\n",
    "    '#1f77b4',  # muted blue\n",
    "    '#ff7f0e',  # safety orange\n",
    "    '#2ca02c',  # cooked asparagus green\n",
    "    '#d62728',  # brick red\n",
    "    '#9467bd',  # muted purple\n",
    "    '#8c564b',  # chestnut brown\n",
    "    '#e377c2',  # raspberry yogurt pink\n",
    "    '#7f7f7f',  # middle gray\n",
    "    '#bcbd22',  # curry yellow-green\n",
    "    '#17becf'   # blue-teal\n",
    "]"
   ]
  },
  {
   "cell_type": "markdown",
   "metadata": {},
   "source": [
    "## Devices SDF definitions"
   ]
  },
  {
   "cell_type": "markdown",
   "metadata": {},
   "source": [
    "### Adapt SDF definition data for analysis"
   ]
  },
  {
   "cell_type": "code",
   "execution_count": 18,
   "metadata": {},
   "outputs": [],
   "source": [
    "# Load SDF files to compare\n",
    "sdf_manager = SDFManager(path='../iot/sdf/')\n",
    "sdfs, sdfs_dfs = sdf_manager.get_all_sdfs()\n",
    "# Join sdf dfs into a single DataFrame\n",
    "sdfs_df = pd.concat([value for key, value in sdfs_dfs.items()]).reset_index()"
   ]
  },
  {
   "cell_type": "code",
   "execution_count": 19,
   "metadata": {},
   "outputs": [
    {
     "data": {
      "text/html": [
       "<div>\n",
       "<style scoped>\n",
       "    .dataframe tbody tr th:only-of-type {\n",
       "        vertical-align: middle;\n",
       "    }\n",
       "\n",
       "    .dataframe tbody tr th {\n",
       "        vertical-align: top;\n",
       "    }\n",
       "\n",
       "    .dataframe thead th {\n",
       "        text-align: right;\n",
       "    }\n",
       "</style>\n",
       "<table border=\"1\" class=\"dataframe\">\n",
       "  <thead>\n",
       "    <tr style=\"text-align: right;\">\n",
       "      <th></th>\n",
       "      <th>thing_desc</th>\n",
       "      <th>obj</th>\n",
       "      <th>obj_desc</th>\n",
       "      <th>prop</th>\n",
       "      <th>prop_desc</th>\n",
       "      <th>prop_type</th>\n",
       "      <th>prop_unit</th>\n",
       "    </tr>\n",
       "  </thead>\n",
       "  <tbody>\n",
       "  </tbody>\n",
       "</table>\n",
       "</div>"
      ],
      "text/plain": [
       "Empty DataFrame\n",
       "Columns: [thing_desc, obj, obj_desc, prop, prop_desc, prop_type, prop_unit]\n",
       "Index: []"
      ]
     },
     "execution_count": 19,
     "metadata": {},
     "output_type": "execute_result"
    }
   ],
   "source": [
    "# Air Quality SDF DATAFRAME\n",
    "sdfs_df[sdfs_df.thing=='AirQualityModified'].iloc[:,2:].reset_index(drop=True)"
   ]
  },
  {
   "cell_type": "markdown",
   "metadata": {},
   "source": [
    "## Devices data"
   ]
  },
  {
   "cell_type": "markdown",
   "metadata": {},
   "source": [
    "### Load devices data"
   ]
  },
  {
   "cell_type": "code",
   "execution_count": 49,
   "metadata": {},
   "outputs": [],
   "source": [
    "# Read devices data samples from JSON\n",
    "with open('devices.json', 'r') as f: devices = json.load(f)"
   ]
  },
  {
   "cell_type": "markdown",
   "metadata": {},
   "source": [
    "### Adapt devices data for analysis"
   ]
  },
  {
   "cell_type": "code",
   "execution_count": 50,
   "metadata": {},
   "outputs": [],
   "source": [
    "# Build devices dataframe\n",
    "rows = []\n",
    "for dev_uuid, dev in devices.items() :\n",
    "    # Dev row initialization\n",
    "    row = {\n",
    "        'uuid': dev_uuid,\n",
    "        'class' : dev['class'],\n",
    "        'integ': dev['integrated'],\n",
    "        'period': dev['period']\n",
    "    }\n",
    "        \n",
    "    # Create a row for each module attribute with a column for each value in the buffer\n",
    "    for mod_name, attribs_dic in dev['modules'].items() :\n",
    "        row['mod'] = mod_name\n",
    "        for attrib_name, values in attribs_dic.items() :\n",
    "            row['attrib'] = attrib_name\n",
    "            for i, val in enumerate(values) : row[f'v{i+1}'] = val\n",
    "            rows.append(row.copy())\n",
    "\n",
    "# Build devices dataframe\n",
    "devs_df = pd.DataFrame(rows)"
   ]
  },
  {
   "cell_type": "markdown",
   "metadata": {},
   "source": [
    "## Similarity Analysis\n",
    "Given an unknown device, determine the 5 closest devices according to SDF definition similarity, and then choose the closest device by including the buffered data. \n",
    "\n",
    "**Possible algorithm**\n",
    "\n",
    "    Given an unknown device(thing) module(object) attribute(property), find 5 closest thing-object-property tuples according to SDF definition.\n",
    "\n",
    "    Then, for each unknown module attribute, determine which attribute resembles the most to it of those in the 5 closest devices, and vote this device UUID as the candidate to be the closest.\n",
    "\n",
    "    Finally, the device that has the most attribute votes is chosen as the closest device."
   ]
  },
  {
   "cell_type": "code",
   "execution_count": 51,
   "metadata": {},
   "outputs": [],
   "source": [
    "# Value columns names\n",
    "val_cols = devs_df.columns[6:]\n",
    "\n",
    "# Turn booleans into integers and cast all data to float\n",
    "devs_df[val_cols] = devs_df[val_cols].replace('False',0).replace('True',1)\n",
    "devs_df[val_cols] = devs_df[val_cols].astype(float)"
   ]
  },
  {
   "cell_type": "code",
   "execution_count": 52,
   "metadata": {},
   "outputs": [
    {
     "data": {
      "text/html": [
       "<div>\n",
       "<style scoped>\n",
       "    .dataframe tbody tr th:only-of-type {\n",
       "        vertical-align: middle;\n",
       "    }\n",
       "\n",
       "    .dataframe tbody tr th {\n",
       "        vertical-align: top;\n",
       "    }\n",
       "\n",
       "    .dataframe thead th {\n",
       "        text-align: right;\n",
       "    }\n",
       "</style>\n",
       "<table border=\"1\" class=\"dataframe\">\n",
       "  <thead>\n",
       "    <tr style=\"text-align: right;\">\n",
       "      <th></th>\n",
       "      <th>uuid</th>\n",
       "      <th>class</th>\n",
       "      <th>integ</th>\n",
       "      <th>period</th>\n",
       "      <th>mod</th>\n",
       "      <th>attrib</th>\n",
       "      <th>v1</th>\n",
       "      <th>v2</th>\n",
       "      <th>v3</th>\n",
       "      <th>v4</th>\n",
       "      <th>...</th>\n",
       "      <th>v19</th>\n",
       "      <th>v20</th>\n",
       "      <th>v21</th>\n",
       "      <th>v22</th>\n",
       "      <th>v23</th>\n",
       "      <th>v24</th>\n",
       "      <th>v25</th>\n",
       "      <th>v26</th>\n",
       "      <th>v27</th>\n",
       "      <th>v28</th>\n",
       "    </tr>\n",
       "  </thead>\n",
       "  <tbody>\n",
       "  </tbody>\n",
       "</table>\n",
       "<p>0 rows × 34 columns</p>\n",
       "</div>"
      ],
      "text/plain": [
       "Empty DataFrame\n",
       "Columns: [uuid, class, integ, period, mod, attrib, v1, v2, v3, v4, v5, v6, v7, v8, v9, v10, v11, v12, v13, v14, v15, v16, v17, v18, v19, v20, v21, v22, v23, v24, v25, v26, v27, v28]\n",
       "Index: []\n",
       "\n",
       "[0 rows x 34 columns]"
      ]
     },
     "execution_count": 52,
     "metadata": {},
     "output_type": "execute_result"
    }
   ],
   "source": [
    "# Air Quality Modified DEVICES DATAFRAME\n",
    "devs_df[devs_df['class']=='AirQualityModified']"
   ]
  },
  {
   "cell_type": "code",
   "execution_count": 53,
   "metadata": {},
   "outputs": [],
   "source": [
    "# Unknown class\n",
    "dev_class = 'AirQualityModified'"
   ]
  },
  {
   "cell_type": "code",
   "execution_count": 54,
   "metadata": {},
   "outputs": [],
   "source": [
    "# Compute voting results df\n",
    "def calc_voting_result_df(votes) :\n",
    "    total_vote_sdf = {}\n",
    "    for vote in votes:\n",
    "        for candidate, score in vote.items() :\n",
    "            if candidate not in total_vote_sdf :\n",
    "                total_vote_sdf[candidate] = score\n",
    "            else :\n",
    "                total_vote_sdf[candidate] += score\n",
    "\n",
    "    return pd.DataFrame(total_vote_sdf.items(),columns=['candidate','score']).sort_values(by='score',ascending=False)"
   ]
  },
  {
   "cell_type": "markdown",
   "metadata": {},
   "source": [
    "### Determine closest devices by SDF comparison\n",
    "\n",
    "String similarity of the fields:\n",
    "- Thing and its description\n",
    "- Object and its description\n",
    "- Property and its description"
   ]
  },
  {
   "cell_type": "code",
   "execution_count": 55,
   "metadata": {},
   "outputs": [],
   "source": [
    "noninteg_class = sdfs_df[sdfs_df.thing == dev_class]\n",
    "integ_classes = sdfs_df[sdfs_df.thing != dev_class]"
   ]
  },
  {
   "cell_type": "code",
   "execution_count": 56,
   "metadata": {},
   "outputs": [],
   "source": [
    "# Define distance functions\n",
    "def calc_str_dist(descs, row):\n",
    "    return fuzz.ratio(descs,row['prop'] + ' ' + row['prop_desc'])\n",
    "\n",
    "# Compute closest classes by comparing SDF descriptions\n",
    "def get_closest_classes(noninteg_class,integ_classes,i,score=3) :\n",
    "    # Create local copies and compare only rows with same data type\n",
    "    noninteg_class_row = noninteg_class.iloc[i].copy()\n",
    "    integ_classes = integ_classes[integ_classes.prop_type==noninteg_class_row['prop_type']].copy()\n",
    "\n",
    "    # Build non integrated row text description\n",
    "    non_integ_class_row_desc = noninteg_class_row['prop'] + ' ' + noninteg_class_row['prop_desc']\n",
    "\n",
    "    # Calc string distances to each other integrated row text description\n",
    "    integ_classes['str_dist'] = integ_classes.apply(lambda x: calc_str_dist(non_integ_class_row_desc,x), axis=1)\n",
    "    closest_things = integ_classes[['thing','obj','prop','str_dist']].sort_values(by='str_dist',ascending=False)\n",
    "\n",
    "    # Give points based on closeness\n",
    "    vote = {}\n",
    "    for row in closest_things.itertuples() :\n",
    "        if score == 0 : break\n",
    "        if row.thing in vote : continue\n",
    "        vote[row.thing] = score\n",
    "        score -= 1\n",
    "\n",
    "    return vote"
   ]
  },
  {
   "cell_type": "code",
   "execution_count": 57,
   "metadata": {},
   "outputs": [
    {
     "data": {
      "text/html": [
       "<div>\n",
       "<style scoped>\n",
       "    .dataframe tbody tr th:only-of-type {\n",
       "        vertical-align: middle;\n",
       "    }\n",
       "\n",
       "    .dataframe tbody tr th {\n",
       "        vertical-align: top;\n",
       "    }\n",
       "\n",
       "    .dataframe thead th {\n",
       "        text-align: right;\n",
       "    }\n",
       "</style>\n",
       "<table border=\"1\" class=\"dataframe\">\n",
       "  <thead>\n",
       "    <tr style=\"text-align: right;\">\n",
       "      <th></th>\n",
       "      <th>candidate</th>\n",
       "      <th>score</th>\n",
       "    </tr>\n",
       "  </thead>\n",
       "  <tbody>\n",
       "  </tbody>\n",
       "</table>\n",
       "</div>"
      ],
      "text/plain": [
       "Empty DataFrame\n",
       "Columns: [candidate, score]\n",
       "Index: []"
      ]
     },
     "execution_count": 57,
     "metadata": {},
     "output_type": "execute_result"
    }
   ],
   "source": [
    "# Compute Top 5 closest SDF classes\n",
    "votes = (Parallel(n_jobs=12)(delayed(get_closest_classes)(noninteg_class,integ_classes,i) for i in range(noninteg_class.shape[0])))\n",
    "voting_result_df = calc_voting_result_df(votes)\n",
    "closest_classes = voting_result_df.candidate.iloc[0:5].tolist()\n",
    "voting_result_df"
   ]
  },
  {
   "cell_type": "markdown",
   "metadata": {},
   "source": [
    "### Compare AirQuality Devices"
   ]
  },
  {
   "cell_type": "code",
   "execution_count": 58,
   "metadata": {},
   "outputs": [],
   "source": [
    "# Select data to plot\n",
    "dev1_uuid = 'indoors_airquality'\n",
    "dev1_df = devs_df[devs_df.uuid == dev1_uuid]\n",
    "dev1_timestamps = [datetime.strptime(timestamp,\"%Y-%m-%dT%H:%M:%S.%f\") for timestamp in devices[dev1_uuid]['timestamps']]\n",
    "\n",
    "dev2_uuid = 'outdoors_airquality'\n",
    "dev2_df = devs_df[devs_df.uuid == dev2_uuid]\n",
    "dev2_timestamps = [datetime.strptime(timestamp,\"%Y-%m-%dT%H:%M:%S.%f\") for timestamp in devices[dev2_uuid]['timestamps']]\n",
    "\n",
    "#dev3_uuid = 'indoors_airqualitysimp'\n",
    "#dev3_df = devs_df[devs_df.uuid == dev3_uuid]\n",
    "#dev3_timestamps = [datetime.strptime(timestamp,\"%Y-%m-%dT%H:%M:%S.%f\") for timestamp in devices[dev3_uuid]['timestamps']]\n",
    "\n",
    "devs = [dev1_df,dev2_df]\n",
    "ts = [dev1_timestamps,dev2_timestamps]"
   ]
  },
  {
   "cell_type": "code",
   "execution_count": 59,
   "metadata": {},
   "outputs": [
    {
     "data": {
      "application/vnd.plotly.v1+json": {
       "config": {
        "plotlyServerURL": "https://plot.ly"
       },
       "data": [
        {
         "mode": "lines",
         "name": "indoors_airquality/temperature_sensor/temperature",
         "type": "scatter",
         "x": [
          "2022-12-26T18:56:13.250528",
          "2022-12-26T18:56:13.250528",
          "2022-12-26T18:56:15.253600",
          "2022-12-26T18:56:17.256360",
          "2022-12-26T18:56:19.260221",
          "2022-12-26T18:56:21.263652",
          "2022-12-26T18:56:23.266537",
          "2022-12-26T18:56:25.270212",
          "2022-12-26T18:56:27.274137",
          "2022-12-26T18:56:29.277346",
          "2022-12-26T18:56:31.280236",
          "2022-12-26T18:56:33.282370",
          "2022-12-26T18:56:35.285081",
          "2022-12-26T18:56:37.288077",
          "2022-12-26T18:56:39.291490",
          "2022-12-26T18:56:41.294444",
          "2022-12-26T18:56:43.297594",
          "2022-12-26T18:56:45.301485",
          "2022-12-26T18:56:47.304772",
          "2022-12-26T18:56:49.308301",
          "2022-12-26T18:56:51.310418",
          "2022-12-26T18:56:53.313620",
          "2022-12-26T18:56:55.317327",
          "2022-12-26T18:56:57.320450",
          "2022-12-26T18:56:59.324310",
          "2022-12-26T18:57:01.327158"
         ],
         "y": [
          19.849656771987178,
          19.915114955425928,
          19.815050586871422,
          19.900834898644025,
          19.651014838001423,
          19.64556329404115,
          19.609015515278642,
          19.71417622857751,
          19.75803172519785,
          19.625411186494933,
          19.713601776089767,
          19.733432627858708,
          19.754749541007687,
          19.716670812443947,
          19.800301644640477,
          19.90212086310637,
          19.827328689288745,
          19.762778745634822,
          19.850339083720176,
          19.960588717599336,
          19.946543495129205,
          19.991958694218546,
          20.190372464713814,
          20.122199543855167,
          20.181971617088728,
          null,
          null,
          null
         ]
        },
        {
         "mode": "lines",
         "name": "indoors_airquality/humidity_sensor/humidity",
         "type": "scatter",
         "x": [
          "2022-12-26T18:56:13.250528",
          "2022-12-26T18:56:13.250528",
          "2022-12-26T18:56:15.253600",
          "2022-12-26T18:56:17.256360",
          "2022-12-26T18:56:19.260221",
          "2022-12-26T18:56:21.263652",
          "2022-12-26T18:56:23.266537",
          "2022-12-26T18:56:25.270212",
          "2022-12-26T18:56:27.274137",
          "2022-12-26T18:56:29.277346",
          "2022-12-26T18:56:31.280236",
          "2022-12-26T18:56:33.282370",
          "2022-12-26T18:56:35.285081",
          "2022-12-26T18:56:37.288077",
          "2022-12-26T18:56:39.291490",
          "2022-12-26T18:56:41.294444",
          "2022-12-26T18:56:43.297594",
          "2022-12-26T18:56:45.301485",
          "2022-12-26T18:56:47.304772",
          "2022-12-26T18:56:49.308301",
          "2022-12-26T18:56:51.310418",
          "2022-12-26T18:56:53.313620",
          "2022-12-26T18:56:55.317327",
          "2022-12-26T18:56:57.320450",
          "2022-12-26T18:56:59.324310",
          "2022-12-26T18:57:01.327158"
         ],
         "y": [
          24.731785165391283,
          24.772556960219053,
          24.716708399057136,
          24.829568526262054,
          24.847157479590006,
          24.780216864051308,
          24.834948846449645,
          24.796408367841828,
          24.70926508420073,
          24.802871502267113,
          24.581715980496988,
          24.412455428507176,
          24.446739978189896,
          24.45218126145121,
          24.602186467849105,
          24.37387158608231,
          24.278645472954945,
          24.1011763440728,
          24.22634394716434,
          24.3578865625852,
          24.37976275838751,
          24.291848248414215,
          24.256236617156357,
          24.303091347493975,
          24.18192607923316,
          null,
          null,
          null
         ]
        },
        {
         "mode": "lines",
         "name": "outdoors_airquality/temperature_sensor/temperature",
         "type": "scatter",
         "x": [
          "2022-12-26T18:56:14.534754",
          "2022-12-26T18:56:14.534754",
          "2022-12-26T18:56:16.538003",
          "2022-12-26T18:56:18.541613",
          "2022-12-26T18:56:20.546410",
          "2022-12-26T18:56:22.548625",
          "2022-12-26T18:56:24.550364",
          "2022-12-26T18:56:26.551544",
          "2022-12-26T18:56:28.554299",
          "2022-12-26T18:56:30.557109",
          "2022-12-26T18:56:32.558394",
          "2022-12-26T18:56:34.561757",
          "2022-12-26T18:56:36.565000",
          "2022-12-26T18:56:38.568735",
          "2022-12-26T18:56:40.569942",
          "2022-12-26T18:56:42.573017",
          "2022-12-26T18:56:44.574438",
          "2022-12-26T18:56:46.577286",
          "2022-12-26T18:56:48.581040",
          "2022-12-26T18:56:50.582395",
          "2022-12-26T18:56:52.585238",
          "2022-12-26T18:56:54.586394",
          "2022-12-26T18:56:56.589191",
          "2022-12-26T18:56:58.590392",
          "2022-12-26T18:57:00.593231",
          "2022-12-26T18:57:02.595253"
         ],
         "y": [
          9.75536278313322,
          9.763843577709517,
          9.724742985522441,
          9.726760780696294,
          9.820182928166435,
          9.76271271610878,
          9.836892475346701,
          9.871707053328553,
          9.878167129496928,
          9.929306342552685,
          9.887845278109253,
          9.897680338247328,
          9.889979336981506,
          9.999268711691153,
          9.93555241166459,
          9.953758919464912,
          9.83836040590705,
          9.735135853690133,
          9.705221488186782,
          9.760036347731534,
          9.84427572923241,
          9.770684388073015,
          9.871542998777796,
          9.78909898779109,
          9.756305140736808,
          null,
          null,
          null
         ]
        },
        {
         "mode": "lines",
         "name": "outdoors_airquality/humidity_sensor/humidity",
         "type": "scatter",
         "x": [
          "2022-12-26T18:56:14.534754",
          "2022-12-26T18:56:14.534754",
          "2022-12-26T18:56:16.538003",
          "2022-12-26T18:56:18.541613",
          "2022-12-26T18:56:20.546410",
          "2022-12-26T18:56:22.548625",
          "2022-12-26T18:56:24.550364",
          "2022-12-26T18:56:26.551544",
          "2022-12-26T18:56:28.554299",
          "2022-12-26T18:56:30.557109",
          "2022-12-26T18:56:32.558394",
          "2022-12-26T18:56:34.561757",
          "2022-12-26T18:56:36.565000",
          "2022-12-26T18:56:38.568735",
          "2022-12-26T18:56:40.569942",
          "2022-12-26T18:56:42.573017",
          "2022-12-26T18:56:44.574438",
          "2022-12-26T18:56:46.577286",
          "2022-12-26T18:56:48.581040",
          "2022-12-26T18:56:50.582395",
          "2022-12-26T18:56:52.585238",
          "2022-12-26T18:56:54.586394",
          "2022-12-26T18:56:56.589191",
          "2022-12-26T18:56:58.590392",
          "2022-12-26T18:57:00.593231",
          "2022-12-26T18:57:02.595253"
         ],
         "y": [
          49.9283664772344,
          50.015314143465986,
          49.760810185205855,
          49.837522633799296,
          49.96927441221742,
          50.42249975253276,
          50.4837791555721,
          50.16167917318183,
          50.06915328064562,
          49.42716331292544,
          49.281035278163124,
          49.27459889296822,
          49.45409845156133,
          49.3314387909655,
          49.27291156599202,
          49.13260445868971,
          49.340479643866004,
          49.30127831938036,
          48.87342456754529,
          48.74344409396216,
          48.835237740739025,
          49.19918416066588,
          49.00856870398976,
          49.20333023698471,
          49.350827471344,
          null,
          null,
          null
         ]
        }
       ],
       "layout": {
        "legend": {
         "x": 0.55,
         "xanchor": "left",
         "y": 0.8,
         "yanchor": "top"
        },
        "template": {
         "data": {
          "bar": [
           {
            "error_x": {
             "color": "#2a3f5f"
            },
            "error_y": {
             "color": "#2a3f5f"
            },
            "marker": {
             "line": {
              "color": "white",
              "width": 0.5
             },
             "pattern": {
              "fillmode": "overlay",
              "size": 10,
              "solidity": 0.2
             }
            },
            "type": "bar"
           }
          ],
          "barpolar": [
           {
            "marker": {
             "line": {
              "color": "white",
              "width": 0.5
             },
             "pattern": {
              "fillmode": "overlay",
              "size": 10,
              "solidity": 0.2
             }
            },
            "type": "barpolar"
           }
          ],
          "carpet": [
           {
            "aaxis": {
             "endlinecolor": "#2a3f5f",
             "gridcolor": "#C8D4E3",
             "linecolor": "#C8D4E3",
             "minorgridcolor": "#C8D4E3",
             "startlinecolor": "#2a3f5f"
            },
            "baxis": {
             "endlinecolor": "#2a3f5f",
             "gridcolor": "#C8D4E3",
             "linecolor": "#C8D4E3",
             "minorgridcolor": "#C8D4E3",
             "startlinecolor": "#2a3f5f"
            },
            "type": "carpet"
           }
          ],
          "choropleth": [
           {
            "colorbar": {
             "outlinewidth": 0,
             "ticks": ""
            },
            "type": "choropleth"
           }
          ],
          "contour": [
           {
            "colorbar": {
             "outlinewidth": 0,
             "ticks": ""
            },
            "colorscale": [
             [
              0,
              "#0d0887"
             ],
             [
              0.1111111111111111,
              "#46039f"
             ],
             [
              0.2222222222222222,
              "#7201a8"
             ],
             [
              0.3333333333333333,
              "#9c179e"
             ],
             [
              0.4444444444444444,
              "#bd3786"
             ],
             [
              0.5555555555555556,
              "#d8576b"
             ],
             [
              0.6666666666666666,
              "#ed7953"
             ],
             [
              0.7777777777777778,
              "#fb9f3a"
             ],
             [
              0.8888888888888888,
              "#fdca26"
             ],
             [
              1,
              "#f0f921"
             ]
            ],
            "type": "contour"
           }
          ],
          "contourcarpet": [
           {
            "colorbar": {
             "outlinewidth": 0,
             "ticks": ""
            },
            "type": "contourcarpet"
           }
          ],
          "heatmap": [
           {
            "colorbar": {
             "outlinewidth": 0,
             "ticks": ""
            },
            "colorscale": [
             [
              0,
              "#0d0887"
             ],
             [
              0.1111111111111111,
              "#46039f"
             ],
             [
              0.2222222222222222,
              "#7201a8"
             ],
             [
              0.3333333333333333,
              "#9c179e"
             ],
             [
              0.4444444444444444,
              "#bd3786"
             ],
             [
              0.5555555555555556,
              "#d8576b"
             ],
             [
              0.6666666666666666,
              "#ed7953"
             ],
             [
              0.7777777777777778,
              "#fb9f3a"
             ],
             [
              0.8888888888888888,
              "#fdca26"
             ],
             [
              1,
              "#f0f921"
             ]
            ],
            "type": "heatmap"
           }
          ],
          "heatmapgl": [
           {
            "colorbar": {
             "outlinewidth": 0,
             "ticks": ""
            },
            "colorscale": [
             [
              0,
              "#0d0887"
             ],
             [
              0.1111111111111111,
              "#46039f"
             ],
             [
              0.2222222222222222,
              "#7201a8"
             ],
             [
              0.3333333333333333,
              "#9c179e"
             ],
             [
              0.4444444444444444,
              "#bd3786"
             ],
             [
              0.5555555555555556,
              "#d8576b"
             ],
             [
              0.6666666666666666,
              "#ed7953"
             ],
             [
              0.7777777777777778,
              "#fb9f3a"
             ],
             [
              0.8888888888888888,
              "#fdca26"
             ],
             [
              1,
              "#f0f921"
             ]
            ],
            "type": "heatmapgl"
           }
          ],
          "histogram": [
           {
            "marker": {
             "pattern": {
              "fillmode": "overlay",
              "size": 10,
              "solidity": 0.2
             }
            },
            "type": "histogram"
           }
          ],
          "histogram2d": [
           {
            "colorbar": {
             "outlinewidth": 0,
             "ticks": ""
            },
            "colorscale": [
             [
              0,
              "#0d0887"
             ],
             [
              0.1111111111111111,
              "#46039f"
             ],
             [
              0.2222222222222222,
              "#7201a8"
             ],
             [
              0.3333333333333333,
              "#9c179e"
             ],
             [
              0.4444444444444444,
              "#bd3786"
             ],
             [
              0.5555555555555556,
              "#d8576b"
             ],
             [
              0.6666666666666666,
              "#ed7953"
             ],
             [
              0.7777777777777778,
              "#fb9f3a"
             ],
             [
              0.8888888888888888,
              "#fdca26"
             ],
             [
              1,
              "#f0f921"
             ]
            ],
            "type": "histogram2d"
           }
          ],
          "histogram2dcontour": [
           {
            "colorbar": {
             "outlinewidth": 0,
             "ticks": ""
            },
            "colorscale": [
             [
              0,
              "#0d0887"
             ],
             [
              0.1111111111111111,
              "#46039f"
             ],
             [
              0.2222222222222222,
              "#7201a8"
             ],
             [
              0.3333333333333333,
              "#9c179e"
             ],
             [
              0.4444444444444444,
              "#bd3786"
             ],
             [
              0.5555555555555556,
              "#d8576b"
             ],
             [
              0.6666666666666666,
              "#ed7953"
             ],
             [
              0.7777777777777778,
              "#fb9f3a"
             ],
             [
              0.8888888888888888,
              "#fdca26"
             ],
             [
              1,
              "#f0f921"
             ]
            ],
            "type": "histogram2dcontour"
           }
          ],
          "mesh3d": [
           {
            "colorbar": {
             "outlinewidth": 0,
             "ticks": ""
            },
            "type": "mesh3d"
           }
          ],
          "parcoords": [
           {
            "line": {
             "colorbar": {
              "outlinewidth": 0,
              "ticks": ""
             }
            },
            "type": "parcoords"
           }
          ],
          "pie": [
           {
            "automargin": true,
            "type": "pie"
           }
          ],
          "scatter": [
           {
            "fillpattern": {
             "fillmode": "overlay",
             "size": 10,
             "solidity": 0.2
            },
            "type": "scatter"
           }
          ],
          "scatter3d": [
           {
            "line": {
             "colorbar": {
              "outlinewidth": 0,
              "ticks": ""
             }
            },
            "marker": {
             "colorbar": {
              "outlinewidth": 0,
              "ticks": ""
             }
            },
            "type": "scatter3d"
           }
          ],
          "scattercarpet": [
           {
            "marker": {
             "colorbar": {
              "outlinewidth": 0,
              "ticks": ""
             }
            },
            "type": "scattercarpet"
           }
          ],
          "scattergeo": [
           {
            "marker": {
             "colorbar": {
              "outlinewidth": 0,
              "ticks": ""
             }
            },
            "type": "scattergeo"
           }
          ],
          "scattergl": [
           {
            "marker": {
             "colorbar": {
              "outlinewidth": 0,
              "ticks": ""
             }
            },
            "type": "scattergl"
           }
          ],
          "scattermapbox": [
           {
            "marker": {
             "colorbar": {
              "outlinewidth": 0,
              "ticks": ""
             }
            },
            "type": "scattermapbox"
           }
          ],
          "scatterpolar": [
           {
            "marker": {
             "colorbar": {
              "outlinewidth": 0,
              "ticks": ""
             }
            },
            "type": "scatterpolar"
           }
          ],
          "scatterpolargl": [
           {
            "marker": {
             "colorbar": {
              "outlinewidth": 0,
              "ticks": ""
             }
            },
            "type": "scatterpolargl"
           }
          ],
          "scatterternary": [
           {
            "marker": {
             "colorbar": {
              "outlinewidth": 0,
              "ticks": ""
             }
            },
            "type": "scatterternary"
           }
          ],
          "surface": [
           {
            "colorbar": {
             "outlinewidth": 0,
             "ticks": ""
            },
            "colorscale": [
             [
              0,
              "#0d0887"
             ],
             [
              0.1111111111111111,
              "#46039f"
             ],
             [
              0.2222222222222222,
              "#7201a8"
             ],
             [
              0.3333333333333333,
              "#9c179e"
             ],
             [
              0.4444444444444444,
              "#bd3786"
             ],
             [
              0.5555555555555556,
              "#d8576b"
             ],
             [
              0.6666666666666666,
              "#ed7953"
             ],
             [
              0.7777777777777778,
              "#fb9f3a"
             ],
             [
              0.8888888888888888,
              "#fdca26"
             ],
             [
              1,
              "#f0f921"
             ]
            ],
            "type": "surface"
           }
          ],
          "table": [
           {
            "cells": {
             "fill": {
              "color": "#EBF0F8"
             },
             "line": {
              "color": "white"
             }
            },
            "header": {
             "fill": {
              "color": "#C8D4E3"
             },
             "line": {
              "color": "white"
             }
            },
            "type": "table"
           }
          ]
         },
         "layout": {
          "annotationdefaults": {
           "arrowcolor": "#2a3f5f",
           "arrowhead": 0,
           "arrowwidth": 1
          },
          "autotypenumbers": "strict",
          "coloraxis": {
           "colorbar": {
            "outlinewidth": 0,
            "ticks": ""
           }
          },
          "colorscale": {
           "diverging": [
            [
             0,
             "#8e0152"
            ],
            [
             0.1,
             "#c51b7d"
            ],
            [
             0.2,
             "#de77ae"
            ],
            [
             0.3,
             "#f1b6da"
            ],
            [
             0.4,
             "#fde0ef"
            ],
            [
             0.5,
             "#f7f7f7"
            ],
            [
             0.6,
             "#e6f5d0"
            ],
            [
             0.7,
             "#b8e186"
            ],
            [
             0.8,
             "#7fbc41"
            ],
            [
             0.9,
             "#4d9221"
            ],
            [
             1,
             "#276419"
            ]
           ],
           "sequential": [
            [
             0,
             "#0d0887"
            ],
            [
             0.1111111111111111,
             "#46039f"
            ],
            [
             0.2222222222222222,
             "#7201a8"
            ],
            [
             0.3333333333333333,
             "#9c179e"
            ],
            [
             0.4444444444444444,
             "#bd3786"
            ],
            [
             0.5555555555555556,
             "#d8576b"
            ],
            [
             0.6666666666666666,
             "#ed7953"
            ],
            [
             0.7777777777777778,
             "#fb9f3a"
            ],
            [
             0.8888888888888888,
             "#fdca26"
            ],
            [
             1,
             "#f0f921"
            ]
           ],
           "sequentialminus": [
            [
             0,
             "#0d0887"
            ],
            [
             0.1111111111111111,
             "#46039f"
            ],
            [
             0.2222222222222222,
             "#7201a8"
            ],
            [
             0.3333333333333333,
             "#9c179e"
            ],
            [
             0.4444444444444444,
             "#bd3786"
            ],
            [
             0.5555555555555556,
             "#d8576b"
            ],
            [
             0.6666666666666666,
             "#ed7953"
            ],
            [
             0.7777777777777778,
             "#fb9f3a"
            ],
            [
             0.8888888888888888,
             "#fdca26"
            ],
            [
             1,
             "#f0f921"
            ]
           ]
          },
          "colorway": [
           "#636efa",
           "#EF553B",
           "#00cc96",
           "#ab63fa",
           "#FFA15A",
           "#19d3f3",
           "#FF6692",
           "#B6E880",
           "#FF97FF",
           "#FECB52"
          ],
          "font": {
           "color": "#2a3f5f"
          },
          "geo": {
           "bgcolor": "white",
           "lakecolor": "white",
           "landcolor": "white",
           "showlakes": true,
           "showland": true,
           "subunitcolor": "#C8D4E3"
          },
          "hoverlabel": {
           "align": "left"
          },
          "hovermode": "closest",
          "mapbox": {
           "style": "light"
          },
          "paper_bgcolor": "white",
          "plot_bgcolor": "white",
          "polar": {
           "angularaxis": {
            "gridcolor": "#EBF0F8",
            "linecolor": "#EBF0F8",
            "ticks": ""
           },
           "bgcolor": "white",
           "radialaxis": {
            "gridcolor": "#EBF0F8",
            "linecolor": "#EBF0F8",
            "ticks": ""
           }
          },
          "scene": {
           "xaxis": {
            "backgroundcolor": "white",
            "gridcolor": "#DFE8F3",
            "gridwidth": 2,
            "linecolor": "#EBF0F8",
            "showbackground": true,
            "ticks": "",
            "zerolinecolor": "#EBF0F8"
           },
           "yaxis": {
            "backgroundcolor": "white",
            "gridcolor": "#DFE8F3",
            "gridwidth": 2,
            "linecolor": "#EBF0F8",
            "showbackground": true,
            "ticks": "",
            "zerolinecolor": "#EBF0F8"
           },
           "zaxis": {
            "backgroundcolor": "white",
            "gridcolor": "#DFE8F3",
            "gridwidth": 2,
            "linecolor": "#EBF0F8",
            "showbackground": true,
            "ticks": "",
            "zerolinecolor": "#EBF0F8"
           }
          },
          "shapedefaults": {
           "line": {
            "color": "#2a3f5f"
           }
          },
          "ternary": {
           "aaxis": {
            "gridcolor": "#DFE8F3",
            "linecolor": "#A2B1C6",
            "ticks": ""
           },
           "baxis": {
            "gridcolor": "#DFE8F3",
            "linecolor": "#A2B1C6",
            "ticks": ""
           },
           "bgcolor": "white",
           "caxis": {
            "gridcolor": "#DFE8F3",
            "linecolor": "#A2B1C6",
            "ticks": ""
           }
          },
          "title": {
           "x": 0.05
          },
          "xaxis": {
           "automargin": true,
           "gridcolor": "#EBF0F8",
           "linecolor": "#EBF0F8",
           "ticks": "",
           "title": {
            "standoff": 15
           },
           "zerolinecolor": "#EBF0F8",
           "zerolinewidth": 2
          },
          "yaxis": {
           "automargin": true,
           "gridcolor": "#EBF0F8",
           "linecolor": "#EBF0F8",
           "ticks": "",
           "title": {
            "standoff": 15
           },
           "zerolinecolor": "#EBF0F8",
           "zerolinewidth": 2
          }
         }
        }
       }
      },
      "text/html": [
       "<div>                            <div id=\"81c17ab7-a336-4d0b-b305-9eb3576864c8\" class=\"plotly-graph-div\" style=\"height:525px; width:100%;\"></div>            <script type=\"text/javascript\">                require([\"plotly\"], function(Plotly) {                    window.PLOTLYENV=window.PLOTLYENV || {};                                    if (document.getElementById(\"81c17ab7-a336-4d0b-b305-9eb3576864c8\")) {                    Plotly.newPlot(                        \"81c17ab7-a336-4d0b-b305-9eb3576864c8\",                        [{\"mode\":\"lines\",\"name\":\"indoors_airquality/temperature_sensor/temperature\",\"x\":[\"2022-12-26T18:56:13.250528\",\"2022-12-26T18:56:13.250528\",\"2022-12-26T18:56:15.253600\",\"2022-12-26T18:56:17.256360\",\"2022-12-26T18:56:19.260221\",\"2022-12-26T18:56:21.263652\",\"2022-12-26T18:56:23.266537\",\"2022-12-26T18:56:25.270212\",\"2022-12-26T18:56:27.274137\",\"2022-12-26T18:56:29.277346\",\"2022-12-26T18:56:31.280236\",\"2022-12-26T18:56:33.282370\",\"2022-12-26T18:56:35.285081\",\"2022-12-26T18:56:37.288077\",\"2022-12-26T18:56:39.291490\",\"2022-12-26T18:56:41.294444\",\"2022-12-26T18:56:43.297594\",\"2022-12-26T18:56:45.301485\",\"2022-12-26T18:56:47.304772\",\"2022-12-26T18:56:49.308301\",\"2022-12-26T18:56:51.310418\",\"2022-12-26T18:56:53.313620\",\"2022-12-26T18:56:55.317327\",\"2022-12-26T18:56:57.320450\",\"2022-12-26T18:56:59.324310\",\"2022-12-26T18:57:01.327158\"],\"y\":[19.849656771987178,19.915114955425928,19.815050586871422,19.900834898644025,19.651014838001423,19.64556329404115,19.609015515278642,19.71417622857751,19.75803172519785,19.625411186494933,19.713601776089767,19.733432627858708,19.754749541007687,19.716670812443947,19.800301644640477,19.90212086310637,19.827328689288745,19.762778745634822,19.850339083720176,19.960588717599336,19.946543495129205,19.991958694218546,20.190372464713814,20.122199543855167,20.181971617088728,null,null,null],\"type\":\"scatter\"},{\"mode\":\"lines\",\"name\":\"indoors_airquality/humidity_sensor/humidity\",\"x\":[\"2022-12-26T18:56:13.250528\",\"2022-12-26T18:56:13.250528\",\"2022-12-26T18:56:15.253600\",\"2022-12-26T18:56:17.256360\",\"2022-12-26T18:56:19.260221\",\"2022-12-26T18:56:21.263652\",\"2022-12-26T18:56:23.266537\",\"2022-12-26T18:56:25.270212\",\"2022-12-26T18:56:27.274137\",\"2022-12-26T18:56:29.277346\",\"2022-12-26T18:56:31.280236\",\"2022-12-26T18:56:33.282370\",\"2022-12-26T18:56:35.285081\",\"2022-12-26T18:56:37.288077\",\"2022-12-26T18:56:39.291490\",\"2022-12-26T18:56:41.294444\",\"2022-12-26T18:56:43.297594\",\"2022-12-26T18:56:45.301485\",\"2022-12-26T18:56:47.304772\",\"2022-12-26T18:56:49.308301\",\"2022-12-26T18:56:51.310418\",\"2022-12-26T18:56:53.313620\",\"2022-12-26T18:56:55.317327\",\"2022-12-26T18:56:57.320450\",\"2022-12-26T18:56:59.324310\",\"2022-12-26T18:57:01.327158\"],\"y\":[24.731785165391283,24.772556960219053,24.716708399057136,24.829568526262054,24.847157479590006,24.780216864051308,24.834948846449645,24.796408367841828,24.70926508420073,24.802871502267113,24.581715980496988,24.412455428507176,24.446739978189896,24.45218126145121,24.602186467849105,24.37387158608231,24.278645472954945,24.1011763440728,24.22634394716434,24.3578865625852,24.37976275838751,24.291848248414215,24.256236617156357,24.303091347493975,24.18192607923316,null,null,null],\"type\":\"scatter\"},{\"mode\":\"lines\",\"name\":\"outdoors_airquality/temperature_sensor/temperature\",\"x\":[\"2022-12-26T18:56:14.534754\",\"2022-12-26T18:56:14.534754\",\"2022-12-26T18:56:16.538003\",\"2022-12-26T18:56:18.541613\",\"2022-12-26T18:56:20.546410\",\"2022-12-26T18:56:22.548625\",\"2022-12-26T18:56:24.550364\",\"2022-12-26T18:56:26.551544\",\"2022-12-26T18:56:28.554299\",\"2022-12-26T18:56:30.557109\",\"2022-12-26T18:56:32.558394\",\"2022-12-26T18:56:34.561757\",\"2022-12-26T18:56:36.565000\",\"2022-12-26T18:56:38.568735\",\"2022-12-26T18:56:40.569942\",\"2022-12-26T18:56:42.573017\",\"2022-12-26T18:56:44.574438\",\"2022-12-26T18:56:46.577286\",\"2022-12-26T18:56:48.581040\",\"2022-12-26T18:56:50.582395\",\"2022-12-26T18:56:52.585238\",\"2022-12-26T18:56:54.586394\",\"2022-12-26T18:56:56.589191\",\"2022-12-26T18:56:58.590392\",\"2022-12-26T18:57:00.593231\",\"2022-12-26T18:57:02.595253\"],\"y\":[9.75536278313322,9.763843577709517,9.724742985522441,9.726760780696294,9.820182928166435,9.76271271610878,9.836892475346701,9.871707053328553,9.878167129496928,9.929306342552685,9.887845278109253,9.897680338247328,9.889979336981506,9.999268711691153,9.93555241166459,9.953758919464912,9.83836040590705,9.735135853690133,9.705221488186782,9.760036347731534,9.84427572923241,9.770684388073015,9.871542998777796,9.78909898779109,9.756305140736808,null,null,null],\"type\":\"scatter\"},{\"mode\":\"lines\",\"name\":\"outdoors_airquality/humidity_sensor/humidity\",\"x\":[\"2022-12-26T18:56:14.534754\",\"2022-12-26T18:56:14.534754\",\"2022-12-26T18:56:16.538003\",\"2022-12-26T18:56:18.541613\",\"2022-12-26T18:56:20.546410\",\"2022-12-26T18:56:22.548625\",\"2022-12-26T18:56:24.550364\",\"2022-12-26T18:56:26.551544\",\"2022-12-26T18:56:28.554299\",\"2022-12-26T18:56:30.557109\",\"2022-12-26T18:56:32.558394\",\"2022-12-26T18:56:34.561757\",\"2022-12-26T18:56:36.565000\",\"2022-12-26T18:56:38.568735\",\"2022-12-26T18:56:40.569942\",\"2022-12-26T18:56:42.573017\",\"2022-12-26T18:56:44.574438\",\"2022-12-26T18:56:46.577286\",\"2022-12-26T18:56:48.581040\",\"2022-12-26T18:56:50.582395\",\"2022-12-26T18:56:52.585238\",\"2022-12-26T18:56:54.586394\",\"2022-12-26T18:56:56.589191\",\"2022-12-26T18:56:58.590392\",\"2022-12-26T18:57:00.593231\",\"2022-12-26T18:57:02.595253\"],\"y\":[49.9283664772344,50.015314143465986,49.760810185205855,49.837522633799296,49.96927441221742,50.42249975253276,50.4837791555721,50.16167917318183,50.06915328064562,49.42716331292544,49.281035278163124,49.27459889296822,49.45409845156133,49.3314387909655,49.27291156599202,49.13260445868971,49.340479643866004,49.30127831938036,48.87342456754529,48.74344409396216,48.835237740739025,49.19918416066588,49.00856870398976,49.20333023698471,49.350827471344,null,null,null],\"type\":\"scatter\"}],                        {\"template\":{\"data\":{\"histogram2dcontour\":[{\"type\":\"histogram2dcontour\",\"colorbar\":{\"outlinewidth\":0,\"ticks\":\"\"},\"colorscale\":[[0.0,\"#0d0887\"],[0.1111111111111111,\"#46039f\"],[0.2222222222222222,\"#7201a8\"],[0.3333333333333333,\"#9c179e\"],[0.4444444444444444,\"#bd3786\"],[0.5555555555555556,\"#d8576b\"],[0.6666666666666666,\"#ed7953\"],[0.7777777777777778,\"#fb9f3a\"],[0.8888888888888888,\"#fdca26\"],[1.0,\"#f0f921\"]]}],\"choropleth\":[{\"type\":\"choropleth\",\"colorbar\":{\"outlinewidth\":0,\"ticks\":\"\"}}],\"histogram2d\":[{\"type\":\"histogram2d\",\"colorbar\":{\"outlinewidth\":0,\"ticks\":\"\"},\"colorscale\":[[0.0,\"#0d0887\"],[0.1111111111111111,\"#46039f\"],[0.2222222222222222,\"#7201a8\"],[0.3333333333333333,\"#9c179e\"],[0.4444444444444444,\"#bd3786\"],[0.5555555555555556,\"#d8576b\"],[0.6666666666666666,\"#ed7953\"],[0.7777777777777778,\"#fb9f3a\"],[0.8888888888888888,\"#fdca26\"],[1.0,\"#f0f921\"]]}],\"heatmap\":[{\"type\":\"heatmap\",\"colorbar\":{\"outlinewidth\":0,\"ticks\":\"\"},\"colorscale\":[[0.0,\"#0d0887\"],[0.1111111111111111,\"#46039f\"],[0.2222222222222222,\"#7201a8\"],[0.3333333333333333,\"#9c179e\"],[0.4444444444444444,\"#bd3786\"],[0.5555555555555556,\"#d8576b\"],[0.6666666666666666,\"#ed7953\"],[0.7777777777777778,\"#fb9f3a\"],[0.8888888888888888,\"#fdca26\"],[1.0,\"#f0f921\"]]}],\"heatmapgl\":[{\"type\":\"heatmapgl\",\"colorbar\":{\"outlinewidth\":0,\"ticks\":\"\"},\"colorscale\":[[0.0,\"#0d0887\"],[0.1111111111111111,\"#46039f\"],[0.2222222222222222,\"#7201a8\"],[0.3333333333333333,\"#9c179e\"],[0.4444444444444444,\"#bd3786\"],[0.5555555555555556,\"#d8576b\"],[0.6666666666666666,\"#ed7953\"],[0.7777777777777778,\"#fb9f3a\"],[0.8888888888888888,\"#fdca26\"],[1.0,\"#f0f921\"]]}],\"contourcarpet\":[{\"type\":\"contourcarpet\",\"colorbar\":{\"outlinewidth\":0,\"ticks\":\"\"}}],\"contour\":[{\"type\":\"contour\",\"colorbar\":{\"outlinewidth\":0,\"ticks\":\"\"},\"colorscale\":[[0.0,\"#0d0887\"],[0.1111111111111111,\"#46039f\"],[0.2222222222222222,\"#7201a8\"],[0.3333333333333333,\"#9c179e\"],[0.4444444444444444,\"#bd3786\"],[0.5555555555555556,\"#d8576b\"],[0.6666666666666666,\"#ed7953\"],[0.7777777777777778,\"#fb9f3a\"],[0.8888888888888888,\"#fdca26\"],[1.0,\"#f0f921\"]]}],\"surface\":[{\"type\":\"surface\",\"colorbar\":{\"outlinewidth\":0,\"ticks\":\"\"},\"colorscale\":[[0.0,\"#0d0887\"],[0.1111111111111111,\"#46039f\"],[0.2222222222222222,\"#7201a8\"],[0.3333333333333333,\"#9c179e\"],[0.4444444444444444,\"#bd3786\"],[0.5555555555555556,\"#d8576b\"],[0.6666666666666666,\"#ed7953\"],[0.7777777777777778,\"#fb9f3a\"],[0.8888888888888888,\"#fdca26\"],[1.0,\"#f0f921\"]]}],\"mesh3d\":[{\"type\":\"mesh3d\",\"colorbar\":{\"outlinewidth\":0,\"ticks\":\"\"}}],\"scatter\":[{\"fillpattern\":{\"fillmode\":\"overlay\",\"size\":10,\"solidity\":0.2},\"type\":\"scatter\"}],\"parcoords\":[{\"type\":\"parcoords\",\"line\":{\"colorbar\":{\"outlinewidth\":0,\"ticks\":\"\"}}}],\"scatterpolargl\":[{\"type\":\"scatterpolargl\",\"marker\":{\"colorbar\":{\"outlinewidth\":0,\"ticks\":\"\"}}}],\"bar\":[{\"error_x\":{\"color\":\"#2a3f5f\"},\"error_y\":{\"color\":\"#2a3f5f\"},\"marker\":{\"line\":{\"color\":\"white\",\"width\":0.5},\"pattern\":{\"fillmode\":\"overlay\",\"size\":10,\"solidity\":0.2}},\"type\":\"bar\"}],\"scattergeo\":[{\"type\":\"scattergeo\",\"marker\":{\"colorbar\":{\"outlinewidth\":0,\"ticks\":\"\"}}}],\"scatterpolar\":[{\"type\":\"scatterpolar\",\"marker\":{\"colorbar\":{\"outlinewidth\":0,\"ticks\":\"\"}}}],\"histogram\":[{\"marker\":{\"pattern\":{\"fillmode\":\"overlay\",\"size\":10,\"solidity\":0.2}},\"type\":\"histogram\"}],\"scattergl\":[{\"type\":\"scattergl\",\"marker\":{\"colorbar\":{\"outlinewidth\":0,\"ticks\":\"\"}}}],\"scatter3d\":[{\"type\":\"scatter3d\",\"line\":{\"colorbar\":{\"outlinewidth\":0,\"ticks\":\"\"}},\"marker\":{\"colorbar\":{\"outlinewidth\":0,\"ticks\":\"\"}}}],\"scattermapbox\":[{\"type\":\"scattermapbox\",\"marker\":{\"colorbar\":{\"outlinewidth\":0,\"ticks\":\"\"}}}],\"scatterternary\":[{\"type\":\"scatterternary\",\"marker\":{\"colorbar\":{\"outlinewidth\":0,\"ticks\":\"\"}}}],\"scattercarpet\":[{\"type\":\"scattercarpet\",\"marker\":{\"colorbar\":{\"outlinewidth\":0,\"ticks\":\"\"}}}],\"carpet\":[{\"aaxis\":{\"endlinecolor\":\"#2a3f5f\",\"gridcolor\":\"#C8D4E3\",\"linecolor\":\"#C8D4E3\",\"minorgridcolor\":\"#C8D4E3\",\"startlinecolor\":\"#2a3f5f\"},\"baxis\":{\"endlinecolor\":\"#2a3f5f\",\"gridcolor\":\"#C8D4E3\",\"linecolor\":\"#C8D4E3\",\"minorgridcolor\":\"#C8D4E3\",\"startlinecolor\":\"#2a3f5f\"},\"type\":\"carpet\"}],\"table\":[{\"cells\":{\"fill\":{\"color\":\"#EBF0F8\"},\"line\":{\"color\":\"white\"}},\"header\":{\"fill\":{\"color\":\"#C8D4E3\"},\"line\":{\"color\":\"white\"}},\"type\":\"table\"}],\"barpolar\":[{\"marker\":{\"line\":{\"color\":\"white\",\"width\":0.5},\"pattern\":{\"fillmode\":\"overlay\",\"size\":10,\"solidity\":0.2}},\"type\":\"barpolar\"}],\"pie\":[{\"automargin\":true,\"type\":\"pie\"}]},\"layout\":{\"autotypenumbers\":\"strict\",\"colorway\":[\"#636efa\",\"#EF553B\",\"#00cc96\",\"#ab63fa\",\"#FFA15A\",\"#19d3f3\",\"#FF6692\",\"#B6E880\",\"#FF97FF\",\"#FECB52\"],\"font\":{\"color\":\"#2a3f5f\"},\"hovermode\":\"closest\",\"hoverlabel\":{\"align\":\"left\"},\"paper_bgcolor\":\"white\",\"plot_bgcolor\":\"white\",\"polar\":{\"bgcolor\":\"white\",\"angularaxis\":{\"gridcolor\":\"#EBF0F8\",\"linecolor\":\"#EBF0F8\",\"ticks\":\"\"},\"radialaxis\":{\"gridcolor\":\"#EBF0F8\",\"linecolor\":\"#EBF0F8\",\"ticks\":\"\"}},\"ternary\":{\"bgcolor\":\"white\",\"aaxis\":{\"gridcolor\":\"#DFE8F3\",\"linecolor\":\"#A2B1C6\",\"ticks\":\"\"},\"baxis\":{\"gridcolor\":\"#DFE8F3\",\"linecolor\":\"#A2B1C6\",\"ticks\":\"\"},\"caxis\":{\"gridcolor\":\"#DFE8F3\",\"linecolor\":\"#A2B1C6\",\"ticks\":\"\"}},\"coloraxis\":{\"colorbar\":{\"outlinewidth\":0,\"ticks\":\"\"}},\"colorscale\":{\"sequential\":[[0.0,\"#0d0887\"],[0.1111111111111111,\"#46039f\"],[0.2222222222222222,\"#7201a8\"],[0.3333333333333333,\"#9c179e\"],[0.4444444444444444,\"#bd3786\"],[0.5555555555555556,\"#d8576b\"],[0.6666666666666666,\"#ed7953\"],[0.7777777777777778,\"#fb9f3a\"],[0.8888888888888888,\"#fdca26\"],[1.0,\"#f0f921\"]],\"sequentialminus\":[[0.0,\"#0d0887\"],[0.1111111111111111,\"#46039f\"],[0.2222222222222222,\"#7201a8\"],[0.3333333333333333,\"#9c179e\"],[0.4444444444444444,\"#bd3786\"],[0.5555555555555556,\"#d8576b\"],[0.6666666666666666,\"#ed7953\"],[0.7777777777777778,\"#fb9f3a\"],[0.8888888888888888,\"#fdca26\"],[1.0,\"#f0f921\"]],\"diverging\":[[0,\"#8e0152\"],[0.1,\"#c51b7d\"],[0.2,\"#de77ae\"],[0.3,\"#f1b6da\"],[0.4,\"#fde0ef\"],[0.5,\"#f7f7f7\"],[0.6,\"#e6f5d0\"],[0.7,\"#b8e186\"],[0.8,\"#7fbc41\"],[0.9,\"#4d9221\"],[1,\"#276419\"]]},\"xaxis\":{\"gridcolor\":\"#EBF0F8\",\"linecolor\":\"#EBF0F8\",\"ticks\":\"\",\"title\":{\"standoff\":15},\"zerolinecolor\":\"#EBF0F8\",\"automargin\":true,\"zerolinewidth\":2},\"yaxis\":{\"gridcolor\":\"#EBF0F8\",\"linecolor\":\"#EBF0F8\",\"ticks\":\"\",\"title\":{\"standoff\":15},\"zerolinecolor\":\"#EBF0F8\",\"automargin\":true,\"zerolinewidth\":2},\"scene\":{\"xaxis\":{\"backgroundcolor\":\"white\",\"gridcolor\":\"#DFE8F3\",\"linecolor\":\"#EBF0F8\",\"showbackground\":true,\"ticks\":\"\",\"zerolinecolor\":\"#EBF0F8\",\"gridwidth\":2},\"yaxis\":{\"backgroundcolor\":\"white\",\"gridcolor\":\"#DFE8F3\",\"linecolor\":\"#EBF0F8\",\"showbackground\":true,\"ticks\":\"\",\"zerolinecolor\":\"#EBF0F8\",\"gridwidth\":2},\"zaxis\":{\"backgroundcolor\":\"white\",\"gridcolor\":\"#DFE8F3\",\"linecolor\":\"#EBF0F8\",\"showbackground\":true,\"ticks\":\"\",\"zerolinecolor\":\"#EBF0F8\",\"gridwidth\":2}},\"shapedefaults\":{\"line\":{\"color\":\"#2a3f5f\"}},\"annotationdefaults\":{\"arrowcolor\":\"#2a3f5f\",\"arrowhead\":0,\"arrowwidth\":1},\"geo\":{\"bgcolor\":\"white\",\"landcolor\":\"white\",\"subunitcolor\":\"#C8D4E3\",\"showland\":true,\"showlakes\":true,\"lakecolor\":\"white\"},\"title\":{\"x\":0.05},\"mapbox\":{\"style\":\"light\"}}},\"legend\":{\"yanchor\":\"top\",\"y\":0.8,\"xanchor\":\"left\",\"x\":0.55}},                        {\"responsive\": true}                    ).then(function(){\n",
       "                            \n",
       "var gd = document.getElementById('81c17ab7-a336-4d0b-b305-9eb3576864c8');\n",
       "var x = new MutationObserver(function (mutations, observer) {{\n",
       "        var display = window.getComputedStyle(gd).display;\n",
       "        if (!display || display === 'none') {{\n",
       "            console.log([gd, 'removed!']);\n",
       "            Plotly.purge(gd);\n",
       "            observer.disconnect();\n",
       "        }}\n",
       "}});\n",
       "\n",
       "// Listen for the removal of the full notebook cells\n",
       "var notebookContainer = gd.closest('#notebook-container');\n",
       "if (notebookContainer) {{\n",
       "    x.observe(notebookContainer, {childList: true});\n",
       "}}\n",
       "\n",
       "// Listen for the clearing of the current output cell\n",
       "var outputEl = gd.closest('.output');\n",
       "if (outputEl) {{\n",
       "    x.observe(outputEl, {childList: true});\n",
       "}}\n",
       "\n",
       "                        })                };                });            </script>        </div>"
      ]
     },
     "metadata": {},
     "output_type": "display_data"
    }
   ],
   "source": [
    "names = []\n",
    "fig = go.Figure()\n",
    "for i, (dev, t) in enumerate(zip(devs,ts)) :\n",
    "    for j, row in dev.iterrows() :\n",
    "        dev_uuid = row.uuid\n",
    "        dev_class, mod_name, attrib_name = row['class'], row['mod'], row['attrib']\n",
    "        if mod_name in  ['air_quality_sensor','pressure_sensor'] : continue\n",
    "        name = row.uuid + '/' + mod_name + '/' + attrib_name\n",
    "        fig.add_trace(go.Scatter(x=t, y=row[val_cols],\n",
    "                    mode='lines',\n",
    "                    name=name))\n",
    "        names.append(name)\n",
    "fig.update_layout(legend=dict(\n",
    "    yanchor=\"top\",\n",
    "    y=0.8,\n",
    "    xanchor=\"left\",\n",
    "    x=0.55\n",
    "))\n",
    "fig.show()"
   ]
  },
  {
   "cell_type": "markdown",
   "metadata": {},
   "source": [
    "### Compare PickUpRobot Devices"
   ]
  },
  {
   "cell_type": "code",
   "execution_count": 62,
   "metadata": {},
   "outputs": [],
   "source": [
    "# Select data to plot\n",
    "dev1_uuid = 'bodyconfig_pickuprob'\n",
    "dev1_df = devs_df[devs_df.uuid == dev1_uuid]\n",
    "dev1_timestamps = [datetime.strptime(timestamp,\"%Y-%m-%dT%H:%M:%S.%f\") for timestamp in devices[dev1_uuid]['timestamps']]\n",
    "\n",
    "dev2_uuid = 'windowmilling_pickuprob'\n",
    "dev2_df = devs_df[devs_df.uuid == dev2_uuid]\n",
    "dev2_timestamps = [datetime.strptime(timestamp,\"%Y-%m-%dT%H:%M:%S.%f\") for timestamp in devices[dev2_uuid]['timestamps']]\n",
    "\n",
    "#dev3_uuid = 'bodyconfig_pickuprob2'\n",
    "#dev3_df = devs_df[devs_df.uuid == dev3_uuid]\n",
    "#dev3_timestamps = [datetime.strptime(timestamp,\"%Y-%m-%dT%H:%M:%S.%f\") for timestamp in devices[dev3_uuid]['timestamps']]\n",
    "\n",
    "devs = [dev1_df,dev2_df]\n",
    "ts = [dev1_timestamps,dev2_timestamps]"
   ]
  },
  {
   "cell_type": "code",
   "execution_count": 65,
   "metadata": {},
   "outputs": [
    {
     "data": {
      "application/vnd.plotly.v1+json": {
       "config": {
        "plotlyServerURL": "https://plot.ly"
       },
       "data": [
        {
         "mode": "lines",
         "name": "bodyconfig_pickuprob/joint/x_position",
         "type": "scatter",
         "x": [
          "2022-12-26T18:56:09.232326",
          "2022-12-26T18:56:09.232326",
          "2022-12-26T18:56:12.237928",
          "2022-12-26T18:56:15.242376",
          "2022-12-26T18:56:18.246393",
          "2022-12-26T18:56:21.247923",
          "2022-12-26T18:56:24.250431",
          "2022-12-26T18:56:27.255534",
          "2022-12-26T18:56:30.259981",
          "2022-12-26T18:56:33.262495",
          "2022-12-26T18:56:36.267272",
          "2022-12-26T18:56:39.272215",
          "2022-12-26T18:56:42.277207",
          "2022-12-26T18:56:45.282419",
          "2022-12-26T18:56:48.286433",
          "2022-12-26T18:56:51.290432",
          "2022-12-26T18:56:54.294490",
          "2022-12-26T18:56:57.299281",
          "2022-12-26T18:57:00.302389"
         ],
         "y": [
          -0.8691530024295616,
          -0.8742997335781341,
          -0.9154736233153855,
          1.0020715196983354,
          0.2853616883889776,
          0.6162300200076927,
          0.6591737137948176,
          0.27918511373735033,
          -0.6335723632240604,
          -0.40081154006042524,
          0.9474510820446597,
          0.9554308634667852,
          0.940336001270828,
          0.8510384788619632,
          -0.30572350258386327,
          0.6962077447714572,
          0.01691315685231029,
          0.5517412545385121,
          null,
          null,
          null,
          null,
          null,
          null,
          null,
          null,
          null,
          null
         ]
        },
        {
         "mode": "lines",
         "name": "bodyconfig_pickuprob/actuator/x_position",
         "type": "scatter",
         "x": [
          "2022-12-26T18:56:09.232326",
          "2022-12-26T18:56:09.232326",
          "2022-12-26T18:56:12.237928",
          "2022-12-26T18:56:15.242376",
          "2022-12-26T18:56:18.246393",
          "2022-12-26T18:56:21.247923",
          "2022-12-26T18:56:24.250431",
          "2022-12-26T18:56:27.255534",
          "2022-12-26T18:56:30.259981",
          "2022-12-26T18:56:33.262495",
          "2022-12-26T18:56:36.267272",
          "2022-12-26T18:56:39.272215",
          "2022-12-26T18:56:42.277207",
          "2022-12-26T18:56:45.282419",
          "2022-12-26T18:56:48.286433",
          "2022-12-26T18:56:51.290432",
          "2022-12-26T18:56:54.294490",
          "2022-12-26T18:56:57.299281",
          "2022-12-26T18:57:00.302389"
         ],
         "y": [
          -1.0002409824023692,
          -0.9970802648644177,
          -1.0169815716171182,
          1.00325000913559,
          0.991228081608458,
          0.9860319460340554,
          1.0103556905595146,
          1.011540381315218,
          -1.0089313328640306,
          -0.9834129392612994,
          0.9902994995387734,
          1.0063146213985916,
          1.0277214676387274,
          0.9978084896683304,
          -0.993829290644924,
          0.9889751284704218,
          0.9851867983330453,
          0.9909624919555944,
          null,
          null,
          null,
          null,
          null,
          null,
          null,
          null,
          null,
          null
         ]
        },
        {
         "mode": "lines",
         "name": "windowmilling_pickuprob/joint/x_position",
         "type": "scatter",
         "x": [
          "2022-12-26T18:56:11.655730",
          "2022-12-26T18:56:11.655730",
          "2022-12-26T18:56:14.658375",
          "2022-12-26T18:56:17.662344",
          "2022-12-26T18:56:20.664236",
          "2022-12-26T18:56:23.669943",
          "2022-12-26T18:56:26.674512",
          "2022-12-26T18:56:29.679113",
          "2022-12-26T18:56:32.682413",
          "2022-12-26T18:56:35.686715",
          "2022-12-26T18:56:38.690394",
          "2022-12-26T18:56:41.691617",
          "2022-12-26T18:56:44.694442",
          "2022-12-26T18:56:47.699064",
          "2022-12-26T18:56:50.703924",
          "2022-12-26T18:56:53.706507",
          "2022-12-26T18:56:56.710403",
          "2022-12-26T18:56:59.714432",
          "2022-12-26T18:57:02.718688"
         ],
         "y": [
          1.419840905345907,
          1.4186979853667119,
          1.5343036854147272,
          1.233997747627853,
          1.487729609235085,
          1.4727446405429068,
          0.8283995841638888,
          0.7894345966165563,
          1.177451823300536,
          0.6272993852850507,
          0.607391993684805,
          0.7520479664430707,
          0.651276364865443,
          0.8048137295166514,
          0.5287575813751928,
          0.6994973707000813,
          0.5325701985353439,
          0.5042082830649312,
          null,
          null,
          null,
          null,
          null,
          null,
          null,
          null,
          null,
          null
         ]
        },
        {
         "mode": "lines",
         "name": "windowmilling_pickuprob/actuator/x_position",
         "type": "scatter",
         "x": [
          "2022-12-26T18:56:11.655730",
          "2022-12-26T18:56:11.655730",
          "2022-12-26T18:56:14.658375",
          "2022-12-26T18:56:17.662344",
          "2022-12-26T18:56:20.664236",
          "2022-12-26T18:56:23.669943",
          "2022-12-26T18:56:26.674512",
          "2022-12-26T18:56:29.679113",
          "2022-12-26T18:56:32.682413",
          "2022-12-26T18:56:35.686715",
          "2022-12-26T18:56:38.690394",
          "2022-12-26T18:56:41.691617",
          "2022-12-26T18:56:44.694442",
          "2022-12-26T18:56:47.699064",
          "2022-12-26T18:56:50.703924",
          "2022-12-26T18:56:53.706507",
          "2022-12-26T18:56:56.710403",
          "2022-12-26T18:56:59.714432",
          "2022-12-26T18:57:02.718688"
         ],
         "y": [
          1.5041977724198499,
          1.4954227817120154,
          1.492237021854122,
          1.4935382285870649,
          1.4965197817975282,
          1.4957208858210544,
          0.49964650807896854,
          0.5034590047159762,
          1.5010305261711274,
          0.5071907586492453,
          0.4949046572575779,
          0.49455471571233717,
          0.49764789545956445,
          0.49810263508647484,
          0.4967064304953625,
          0.500629644505343,
          0.5014724536231667,
          0.4928409507944435,
          null,
          null,
          null,
          null,
          null,
          null,
          null,
          null,
          null,
          null
         ]
        }
       ],
       "layout": {
        "legend": {
         "x": 0.55,
         "xanchor": "left",
         "y": 0.99,
         "yanchor": "top"
        },
        "template": {
         "data": {
          "bar": [
           {
            "error_x": {
             "color": "#2a3f5f"
            },
            "error_y": {
             "color": "#2a3f5f"
            },
            "marker": {
             "line": {
              "color": "white",
              "width": 0.5
             },
             "pattern": {
              "fillmode": "overlay",
              "size": 10,
              "solidity": 0.2
             }
            },
            "type": "bar"
           }
          ],
          "barpolar": [
           {
            "marker": {
             "line": {
              "color": "white",
              "width": 0.5
             },
             "pattern": {
              "fillmode": "overlay",
              "size": 10,
              "solidity": 0.2
             }
            },
            "type": "barpolar"
           }
          ],
          "carpet": [
           {
            "aaxis": {
             "endlinecolor": "#2a3f5f",
             "gridcolor": "#C8D4E3",
             "linecolor": "#C8D4E3",
             "minorgridcolor": "#C8D4E3",
             "startlinecolor": "#2a3f5f"
            },
            "baxis": {
             "endlinecolor": "#2a3f5f",
             "gridcolor": "#C8D4E3",
             "linecolor": "#C8D4E3",
             "minorgridcolor": "#C8D4E3",
             "startlinecolor": "#2a3f5f"
            },
            "type": "carpet"
           }
          ],
          "choropleth": [
           {
            "colorbar": {
             "outlinewidth": 0,
             "ticks": ""
            },
            "type": "choropleth"
           }
          ],
          "contour": [
           {
            "colorbar": {
             "outlinewidth": 0,
             "ticks": ""
            },
            "colorscale": [
             [
              0,
              "#0d0887"
             ],
             [
              0.1111111111111111,
              "#46039f"
             ],
             [
              0.2222222222222222,
              "#7201a8"
             ],
             [
              0.3333333333333333,
              "#9c179e"
             ],
             [
              0.4444444444444444,
              "#bd3786"
             ],
             [
              0.5555555555555556,
              "#d8576b"
             ],
             [
              0.6666666666666666,
              "#ed7953"
             ],
             [
              0.7777777777777778,
              "#fb9f3a"
             ],
             [
              0.8888888888888888,
              "#fdca26"
             ],
             [
              1,
              "#f0f921"
             ]
            ],
            "type": "contour"
           }
          ],
          "contourcarpet": [
           {
            "colorbar": {
             "outlinewidth": 0,
             "ticks": ""
            },
            "type": "contourcarpet"
           }
          ],
          "heatmap": [
           {
            "colorbar": {
             "outlinewidth": 0,
             "ticks": ""
            },
            "colorscale": [
             [
              0,
              "#0d0887"
             ],
             [
              0.1111111111111111,
              "#46039f"
             ],
             [
              0.2222222222222222,
              "#7201a8"
             ],
             [
              0.3333333333333333,
              "#9c179e"
             ],
             [
              0.4444444444444444,
              "#bd3786"
             ],
             [
              0.5555555555555556,
              "#d8576b"
             ],
             [
              0.6666666666666666,
              "#ed7953"
             ],
             [
              0.7777777777777778,
              "#fb9f3a"
             ],
             [
              0.8888888888888888,
              "#fdca26"
             ],
             [
              1,
              "#f0f921"
             ]
            ],
            "type": "heatmap"
           }
          ],
          "heatmapgl": [
           {
            "colorbar": {
             "outlinewidth": 0,
             "ticks": ""
            },
            "colorscale": [
             [
              0,
              "#0d0887"
             ],
             [
              0.1111111111111111,
              "#46039f"
             ],
             [
              0.2222222222222222,
              "#7201a8"
             ],
             [
              0.3333333333333333,
              "#9c179e"
             ],
             [
              0.4444444444444444,
              "#bd3786"
             ],
             [
              0.5555555555555556,
              "#d8576b"
             ],
             [
              0.6666666666666666,
              "#ed7953"
             ],
             [
              0.7777777777777778,
              "#fb9f3a"
             ],
             [
              0.8888888888888888,
              "#fdca26"
             ],
             [
              1,
              "#f0f921"
             ]
            ],
            "type": "heatmapgl"
           }
          ],
          "histogram": [
           {
            "marker": {
             "pattern": {
              "fillmode": "overlay",
              "size": 10,
              "solidity": 0.2
             }
            },
            "type": "histogram"
           }
          ],
          "histogram2d": [
           {
            "colorbar": {
             "outlinewidth": 0,
             "ticks": ""
            },
            "colorscale": [
             [
              0,
              "#0d0887"
             ],
             [
              0.1111111111111111,
              "#46039f"
             ],
             [
              0.2222222222222222,
              "#7201a8"
             ],
             [
              0.3333333333333333,
              "#9c179e"
             ],
             [
              0.4444444444444444,
              "#bd3786"
             ],
             [
              0.5555555555555556,
              "#d8576b"
             ],
             [
              0.6666666666666666,
              "#ed7953"
             ],
             [
              0.7777777777777778,
              "#fb9f3a"
             ],
             [
              0.8888888888888888,
              "#fdca26"
             ],
             [
              1,
              "#f0f921"
             ]
            ],
            "type": "histogram2d"
           }
          ],
          "histogram2dcontour": [
           {
            "colorbar": {
             "outlinewidth": 0,
             "ticks": ""
            },
            "colorscale": [
             [
              0,
              "#0d0887"
             ],
             [
              0.1111111111111111,
              "#46039f"
             ],
             [
              0.2222222222222222,
              "#7201a8"
             ],
             [
              0.3333333333333333,
              "#9c179e"
             ],
             [
              0.4444444444444444,
              "#bd3786"
             ],
             [
              0.5555555555555556,
              "#d8576b"
             ],
             [
              0.6666666666666666,
              "#ed7953"
             ],
             [
              0.7777777777777778,
              "#fb9f3a"
             ],
             [
              0.8888888888888888,
              "#fdca26"
             ],
             [
              1,
              "#f0f921"
             ]
            ],
            "type": "histogram2dcontour"
           }
          ],
          "mesh3d": [
           {
            "colorbar": {
             "outlinewidth": 0,
             "ticks": ""
            },
            "type": "mesh3d"
           }
          ],
          "parcoords": [
           {
            "line": {
             "colorbar": {
              "outlinewidth": 0,
              "ticks": ""
             }
            },
            "type": "parcoords"
           }
          ],
          "pie": [
           {
            "automargin": true,
            "type": "pie"
           }
          ],
          "scatter": [
           {
            "fillpattern": {
             "fillmode": "overlay",
             "size": 10,
             "solidity": 0.2
            },
            "type": "scatter"
           }
          ],
          "scatter3d": [
           {
            "line": {
             "colorbar": {
              "outlinewidth": 0,
              "ticks": ""
             }
            },
            "marker": {
             "colorbar": {
              "outlinewidth": 0,
              "ticks": ""
             }
            },
            "type": "scatter3d"
           }
          ],
          "scattercarpet": [
           {
            "marker": {
             "colorbar": {
              "outlinewidth": 0,
              "ticks": ""
             }
            },
            "type": "scattercarpet"
           }
          ],
          "scattergeo": [
           {
            "marker": {
             "colorbar": {
              "outlinewidth": 0,
              "ticks": ""
             }
            },
            "type": "scattergeo"
           }
          ],
          "scattergl": [
           {
            "marker": {
             "colorbar": {
              "outlinewidth": 0,
              "ticks": ""
             }
            },
            "type": "scattergl"
           }
          ],
          "scattermapbox": [
           {
            "marker": {
             "colorbar": {
              "outlinewidth": 0,
              "ticks": ""
             }
            },
            "type": "scattermapbox"
           }
          ],
          "scatterpolar": [
           {
            "marker": {
             "colorbar": {
              "outlinewidth": 0,
              "ticks": ""
             }
            },
            "type": "scatterpolar"
           }
          ],
          "scatterpolargl": [
           {
            "marker": {
             "colorbar": {
              "outlinewidth": 0,
              "ticks": ""
             }
            },
            "type": "scatterpolargl"
           }
          ],
          "scatterternary": [
           {
            "marker": {
             "colorbar": {
              "outlinewidth": 0,
              "ticks": ""
             }
            },
            "type": "scatterternary"
           }
          ],
          "surface": [
           {
            "colorbar": {
             "outlinewidth": 0,
             "ticks": ""
            },
            "colorscale": [
             [
              0,
              "#0d0887"
             ],
             [
              0.1111111111111111,
              "#46039f"
             ],
             [
              0.2222222222222222,
              "#7201a8"
             ],
             [
              0.3333333333333333,
              "#9c179e"
             ],
             [
              0.4444444444444444,
              "#bd3786"
             ],
             [
              0.5555555555555556,
              "#d8576b"
             ],
             [
              0.6666666666666666,
              "#ed7953"
             ],
             [
              0.7777777777777778,
              "#fb9f3a"
             ],
             [
              0.8888888888888888,
              "#fdca26"
             ],
             [
              1,
              "#f0f921"
             ]
            ],
            "type": "surface"
           }
          ],
          "table": [
           {
            "cells": {
             "fill": {
              "color": "#EBF0F8"
             },
             "line": {
              "color": "white"
             }
            },
            "header": {
             "fill": {
              "color": "#C8D4E3"
             },
             "line": {
              "color": "white"
             }
            },
            "type": "table"
           }
          ]
         },
         "layout": {
          "annotationdefaults": {
           "arrowcolor": "#2a3f5f",
           "arrowhead": 0,
           "arrowwidth": 1
          },
          "autotypenumbers": "strict",
          "coloraxis": {
           "colorbar": {
            "outlinewidth": 0,
            "ticks": ""
           }
          },
          "colorscale": {
           "diverging": [
            [
             0,
             "#8e0152"
            ],
            [
             0.1,
             "#c51b7d"
            ],
            [
             0.2,
             "#de77ae"
            ],
            [
             0.3,
             "#f1b6da"
            ],
            [
             0.4,
             "#fde0ef"
            ],
            [
             0.5,
             "#f7f7f7"
            ],
            [
             0.6,
             "#e6f5d0"
            ],
            [
             0.7,
             "#b8e186"
            ],
            [
             0.8,
             "#7fbc41"
            ],
            [
             0.9,
             "#4d9221"
            ],
            [
             1,
             "#276419"
            ]
           ],
           "sequential": [
            [
             0,
             "#0d0887"
            ],
            [
             0.1111111111111111,
             "#46039f"
            ],
            [
             0.2222222222222222,
             "#7201a8"
            ],
            [
             0.3333333333333333,
             "#9c179e"
            ],
            [
             0.4444444444444444,
             "#bd3786"
            ],
            [
             0.5555555555555556,
             "#d8576b"
            ],
            [
             0.6666666666666666,
             "#ed7953"
            ],
            [
             0.7777777777777778,
             "#fb9f3a"
            ],
            [
             0.8888888888888888,
             "#fdca26"
            ],
            [
             1,
             "#f0f921"
            ]
           ],
           "sequentialminus": [
            [
             0,
             "#0d0887"
            ],
            [
             0.1111111111111111,
             "#46039f"
            ],
            [
             0.2222222222222222,
             "#7201a8"
            ],
            [
             0.3333333333333333,
             "#9c179e"
            ],
            [
             0.4444444444444444,
             "#bd3786"
            ],
            [
             0.5555555555555556,
             "#d8576b"
            ],
            [
             0.6666666666666666,
             "#ed7953"
            ],
            [
             0.7777777777777778,
             "#fb9f3a"
            ],
            [
             0.8888888888888888,
             "#fdca26"
            ],
            [
             1,
             "#f0f921"
            ]
           ]
          },
          "colorway": [
           "#636efa",
           "#EF553B",
           "#00cc96",
           "#ab63fa",
           "#FFA15A",
           "#19d3f3",
           "#FF6692",
           "#B6E880",
           "#FF97FF",
           "#FECB52"
          ],
          "font": {
           "color": "#2a3f5f"
          },
          "geo": {
           "bgcolor": "white",
           "lakecolor": "white",
           "landcolor": "white",
           "showlakes": true,
           "showland": true,
           "subunitcolor": "#C8D4E3"
          },
          "hoverlabel": {
           "align": "left"
          },
          "hovermode": "closest",
          "mapbox": {
           "style": "light"
          },
          "paper_bgcolor": "white",
          "plot_bgcolor": "white",
          "polar": {
           "angularaxis": {
            "gridcolor": "#EBF0F8",
            "linecolor": "#EBF0F8",
            "ticks": ""
           },
           "bgcolor": "white",
           "radialaxis": {
            "gridcolor": "#EBF0F8",
            "linecolor": "#EBF0F8",
            "ticks": ""
           }
          },
          "scene": {
           "xaxis": {
            "backgroundcolor": "white",
            "gridcolor": "#DFE8F3",
            "gridwidth": 2,
            "linecolor": "#EBF0F8",
            "showbackground": true,
            "ticks": "",
            "zerolinecolor": "#EBF0F8"
           },
           "yaxis": {
            "backgroundcolor": "white",
            "gridcolor": "#DFE8F3",
            "gridwidth": 2,
            "linecolor": "#EBF0F8",
            "showbackground": true,
            "ticks": "",
            "zerolinecolor": "#EBF0F8"
           },
           "zaxis": {
            "backgroundcolor": "white",
            "gridcolor": "#DFE8F3",
            "gridwidth": 2,
            "linecolor": "#EBF0F8",
            "showbackground": true,
            "ticks": "",
            "zerolinecolor": "#EBF0F8"
           }
          },
          "shapedefaults": {
           "line": {
            "color": "#2a3f5f"
           }
          },
          "ternary": {
           "aaxis": {
            "gridcolor": "#DFE8F3",
            "linecolor": "#A2B1C6",
            "ticks": ""
           },
           "baxis": {
            "gridcolor": "#DFE8F3",
            "linecolor": "#A2B1C6",
            "ticks": ""
           },
           "bgcolor": "white",
           "caxis": {
            "gridcolor": "#DFE8F3",
            "linecolor": "#A2B1C6",
            "ticks": ""
           }
          },
          "title": {
           "x": 0.05
          },
          "xaxis": {
           "automargin": true,
           "gridcolor": "#EBF0F8",
           "linecolor": "#EBF0F8",
           "ticks": "",
           "title": {
            "standoff": 15
           },
           "zerolinecolor": "#EBF0F8",
           "zerolinewidth": 2
          },
          "yaxis": {
           "automargin": true,
           "gridcolor": "#EBF0F8",
           "linecolor": "#EBF0F8",
           "ticks": "",
           "title": {
            "standoff": 15
           },
           "zerolinecolor": "#EBF0F8",
           "zerolinewidth": 2
          }
         }
        }
       }
      },
      "text/html": [
       "<div>                            <div id=\"ce9d33fb-1afa-4315-a0e1-bf63276de3e4\" class=\"plotly-graph-div\" style=\"height:525px; width:100%;\"></div>            <script type=\"text/javascript\">                require([\"plotly\"], function(Plotly) {                    window.PLOTLYENV=window.PLOTLYENV || {};                                    if (document.getElementById(\"ce9d33fb-1afa-4315-a0e1-bf63276de3e4\")) {                    Plotly.newPlot(                        \"ce9d33fb-1afa-4315-a0e1-bf63276de3e4\",                        [{\"mode\":\"lines\",\"name\":\"bodyconfig_pickuprob/joint/x_position\",\"x\":[\"2022-12-26T18:56:09.232326\",\"2022-12-26T18:56:09.232326\",\"2022-12-26T18:56:12.237928\",\"2022-12-26T18:56:15.242376\",\"2022-12-26T18:56:18.246393\",\"2022-12-26T18:56:21.247923\",\"2022-12-26T18:56:24.250431\",\"2022-12-26T18:56:27.255534\",\"2022-12-26T18:56:30.259981\",\"2022-12-26T18:56:33.262495\",\"2022-12-26T18:56:36.267272\",\"2022-12-26T18:56:39.272215\",\"2022-12-26T18:56:42.277207\",\"2022-12-26T18:56:45.282419\",\"2022-12-26T18:56:48.286433\",\"2022-12-26T18:56:51.290432\",\"2022-12-26T18:56:54.294490\",\"2022-12-26T18:56:57.299281\",\"2022-12-26T18:57:00.302389\"],\"y\":[-0.8691530024295616,-0.8742997335781341,-0.9154736233153855,1.0020715196983354,0.2853616883889776,0.6162300200076927,0.6591737137948176,0.27918511373735033,-0.6335723632240604,-0.40081154006042524,0.9474510820446597,0.9554308634667852,0.940336001270828,0.8510384788619632,-0.30572350258386327,0.6962077447714572,0.01691315685231029,0.5517412545385121,null,null,null,null,null,null,null,null,null,null],\"type\":\"scatter\"},{\"mode\":\"lines\",\"name\":\"bodyconfig_pickuprob/actuator/x_position\",\"x\":[\"2022-12-26T18:56:09.232326\",\"2022-12-26T18:56:09.232326\",\"2022-12-26T18:56:12.237928\",\"2022-12-26T18:56:15.242376\",\"2022-12-26T18:56:18.246393\",\"2022-12-26T18:56:21.247923\",\"2022-12-26T18:56:24.250431\",\"2022-12-26T18:56:27.255534\",\"2022-12-26T18:56:30.259981\",\"2022-12-26T18:56:33.262495\",\"2022-12-26T18:56:36.267272\",\"2022-12-26T18:56:39.272215\",\"2022-12-26T18:56:42.277207\",\"2022-12-26T18:56:45.282419\",\"2022-12-26T18:56:48.286433\",\"2022-12-26T18:56:51.290432\",\"2022-12-26T18:56:54.294490\",\"2022-12-26T18:56:57.299281\",\"2022-12-26T18:57:00.302389\"],\"y\":[-1.0002409824023692,-0.9970802648644177,-1.0169815716171182,1.00325000913559,0.991228081608458,0.9860319460340554,1.0103556905595146,1.011540381315218,-1.0089313328640306,-0.9834129392612994,0.9902994995387734,1.0063146213985916,1.0277214676387274,0.9978084896683304,-0.993829290644924,0.9889751284704218,0.9851867983330453,0.9909624919555944,null,null,null,null,null,null,null,null,null,null],\"type\":\"scatter\"},{\"mode\":\"lines\",\"name\":\"windowmilling_pickuprob/joint/x_position\",\"x\":[\"2022-12-26T18:56:11.655730\",\"2022-12-26T18:56:11.655730\",\"2022-12-26T18:56:14.658375\",\"2022-12-26T18:56:17.662344\",\"2022-12-26T18:56:20.664236\",\"2022-12-26T18:56:23.669943\",\"2022-12-26T18:56:26.674512\",\"2022-12-26T18:56:29.679113\",\"2022-12-26T18:56:32.682413\",\"2022-12-26T18:56:35.686715\",\"2022-12-26T18:56:38.690394\",\"2022-12-26T18:56:41.691617\",\"2022-12-26T18:56:44.694442\",\"2022-12-26T18:56:47.699064\",\"2022-12-26T18:56:50.703924\",\"2022-12-26T18:56:53.706507\",\"2022-12-26T18:56:56.710403\",\"2022-12-26T18:56:59.714432\",\"2022-12-26T18:57:02.718688\"],\"y\":[1.419840905345907,1.4186979853667119,1.5343036854147272,1.233997747627853,1.487729609235085,1.4727446405429068,0.8283995841638888,0.7894345966165563,1.177451823300536,0.6272993852850507,0.607391993684805,0.7520479664430707,0.651276364865443,0.8048137295166514,0.5287575813751928,0.6994973707000813,0.5325701985353439,0.5042082830649312,null,null,null,null,null,null,null,null,null,null],\"type\":\"scatter\"},{\"mode\":\"lines\",\"name\":\"windowmilling_pickuprob/actuator/x_position\",\"x\":[\"2022-12-26T18:56:11.655730\",\"2022-12-26T18:56:11.655730\",\"2022-12-26T18:56:14.658375\",\"2022-12-26T18:56:17.662344\",\"2022-12-26T18:56:20.664236\",\"2022-12-26T18:56:23.669943\",\"2022-12-26T18:56:26.674512\",\"2022-12-26T18:56:29.679113\",\"2022-12-26T18:56:32.682413\",\"2022-12-26T18:56:35.686715\",\"2022-12-26T18:56:38.690394\",\"2022-12-26T18:56:41.691617\",\"2022-12-26T18:56:44.694442\",\"2022-12-26T18:56:47.699064\",\"2022-12-26T18:56:50.703924\",\"2022-12-26T18:56:53.706507\",\"2022-12-26T18:56:56.710403\",\"2022-12-26T18:56:59.714432\",\"2022-12-26T18:57:02.718688\"],\"y\":[1.5041977724198499,1.4954227817120154,1.492237021854122,1.4935382285870649,1.4965197817975282,1.4957208858210544,0.49964650807896854,0.5034590047159762,1.5010305261711274,0.5071907586492453,0.4949046572575779,0.49455471571233717,0.49764789545956445,0.49810263508647484,0.4967064304953625,0.500629644505343,0.5014724536231667,0.4928409507944435,null,null,null,null,null,null,null,null,null,null],\"type\":\"scatter\"}],                        {\"template\":{\"data\":{\"histogram2dcontour\":[{\"type\":\"histogram2dcontour\",\"colorbar\":{\"outlinewidth\":0,\"ticks\":\"\"},\"colorscale\":[[0.0,\"#0d0887\"],[0.1111111111111111,\"#46039f\"],[0.2222222222222222,\"#7201a8\"],[0.3333333333333333,\"#9c179e\"],[0.4444444444444444,\"#bd3786\"],[0.5555555555555556,\"#d8576b\"],[0.6666666666666666,\"#ed7953\"],[0.7777777777777778,\"#fb9f3a\"],[0.8888888888888888,\"#fdca26\"],[1.0,\"#f0f921\"]]}],\"choropleth\":[{\"type\":\"choropleth\",\"colorbar\":{\"outlinewidth\":0,\"ticks\":\"\"}}],\"histogram2d\":[{\"type\":\"histogram2d\",\"colorbar\":{\"outlinewidth\":0,\"ticks\":\"\"},\"colorscale\":[[0.0,\"#0d0887\"],[0.1111111111111111,\"#46039f\"],[0.2222222222222222,\"#7201a8\"],[0.3333333333333333,\"#9c179e\"],[0.4444444444444444,\"#bd3786\"],[0.5555555555555556,\"#d8576b\"],[0.6666666666666666,\"#ed7953\"],[0.7777777777777778,\"#fb9f3a\"],[0.8888888888888888,\"#fdca26\"],[1.0,\"#f0f921\"]]}],\"heatmap\":[{\"type\":\"heatmap\",\"colorbar\":{\"outlinewidth\":0,\"ticks\":\"\"},\"colorscale\":[[0.0,\"#0d0887\"],[0.1111111111111111,\"#46039f\"],[0.2222222222222222,\"#7201a8\"],[0.3333333333333333,\"#9c179e\"],[0.4444444444444444,\"#bd3786\"],[0.5555555555555556,\"#d8576b\"],[0.6666666666666666,\"#ed7953\"],[0.7777777777777778,\"#fb9f3a\"],[0.8888888888888888,\"#fdca26\"],[1.0,\"#f0f921\"]]}],\"heatmapgl\":[{\"type\":\"heatmapgl\",\"colorbar\":{\"outlinewidth\":0,\"ticks\":\"\"},\"colorscale\":[[0.0,\"#0d0887\"],[0.1111111111111111,\"#46039f\"],[0.2222222222222222,\"#7201a8\"],[0.3333333333333333,\"#9c179e\"],[0.4444444444444444,\"#bd3786\"],[0.5555555555555556,\"#d8576b\"],[0.6666666666666666,\"#ed7953\"],[0.7777777777777778,\"#fb9f3a\"],[0.8888888888888888,\"#fdca26\"],[1.0,\"#f0f921\"]]}],\"contourcarpet\":[{\"type\":\"contourcarpet\",\"colorbar\":{\"outlinewidth\":0,\"ticks\":\"\"}}],\"contour\":[{\"type\":\"contour\",\"colorbar\":{\"outlinewidth\":0,\"ticks\":\"\"},\"colorscale\":[[0.0,\"#0d0887\"],[0.1111111111111111,\"#46039f\"],[0.2222222222222222,\"#7201a8\"],[0.3333333333333333,\"#9c179e\"],[0.4444444444444444,\"#bd3786\"],[0.5555555555555556,\"#d8576b\"],[0.6666666666666666,\"#ed7953\"],[0.7777777777777778,\"#fb9f3a\"],[0.8888888888888888,\"#fdca26\"],[1.0,\"#f0f921\"]]}],\"surface\":[{\"type\":\"surface\",\"colorbar\":{\"outlinewidth\":0,\"ticks\":\"\"},\"colorscale\":[[0.0,\"#0d0887\"],[0.1111111111111111,\"#46039f\"],[0.2222222222222222,\"#7201a8\"],[0.3333333333333333,\"#9c179e\"],[0.4444444444444444,\"#bd3786\"],[0.5555555555555556,\"#d8576b\"],[0.6666666666666666,\"#ed7953\"],[0.7777777777777778,\"#fb9f3a\"],[0.8888888888888888,\"#fdca26\"],[1.0,\"#f0f921\"]]}],\"mesh3d\":[{\"type\":\"mesh3d\",\"colorbar\":{\"outlinewidth\":0,\"ticks\":\"\"}}],\"scatter\":[{\"fillpattern\":{\"fillmode\":\"overlay\",\"size\":10,\"solidity\":0.2},\"type\":\"scatter\"}],\"parcoords\":[{\"type\":\"parcoords\",\"line\":{\"colorbar\":{\"outlinewidth\":0,\"ticks\":\"\"}}}],\"scatterpolargl\":[{\"type\":\"scatterpolargl\",\"marker\":{\"colorbar\":{\"outlinewidth\":0,\"ticks\":\"\"}}}],\"bar\":[{\"error_x\":{\"color\":\"#2a3f5f\"},\"error_y\":{\"color\":\"#2a3f5f\"},\"marker\":{\"line\":{\"color\":\"white\",\"width\":0.5},\"pattern\":{\"fillmode\":\"overlay\",\"size\":10,\"solidity\":0.2}},\"type\":\"bar\"}],\"scattergeo\":[{\"type\":\"scattergeo\",\"marker\":{\"colorbar\":{\"outlinewidth\":0,\"ticks\":\"\"}}}],\"scatterpolar\":[{\"type\":\"scatterpolar\",\"marker\":{\"colorbar\":{\"outlinewidth\":0,\"ticks\":\"\"}}}],\"histogram\":[{\"marker\":{\"pattern\":{\"fillmode\":\"overlay\",\"size\":10,\"solidity\":0.2}},\"type\":\"histogram\"}],\"scattergl\":[{\"type\":\"scattergl\",\"marker\":{\"colorbar\":{\"outlinewidth\":0,\"ticks\":\"\"}}}],\"scatter3d\":[{\"type\":\"scatter3d\",\"line\":{\"colorbar\":{\"outlinewidth\":0,\"ticks\":\"\"}},\"marker\":{\"colorbar\":{\"outlinewidth\":0,\"ticks\":\"\"}}}],\"scattermapbox\":[{\"type\":\"scattermapbox\",\"marker\":{\"colorbar\":{\"outlinewidth\":0,\"ticks\":\"\"}}}],\"scatterternary\":[{\"type\":\"scatterternary\",\"marker\":{\"colorbar\":{\"outlinewidth\":0,\"ticks\":\"\"}}}],\"scattercarpet\":[{\"type\":\"scattercarpet\",\"marker\":{\"colorbar\":{\"outlinewidth\":0,\"ticks\":\"\"}}}],\"carpet\":[{\"aaxis\":{\"endlinecolor\":\"#2a3f5f\",\"gridcolor\":\"#C8D4E3\",\"linecolor\":\"#C8D4E3\",\"minorgridcolor\":\"#C8D4E3\",\"startlinecolor\":\"#2a3f5f\"},\"baxis\":{\"endlinecolor\":\"#2a3f5f\",\"gridcolor\":\"#C8D4E3\",\"linecolor\":\"#C8D4E3\",\"minorgridcolor\":\"#C8D4E3\",\"startlinecolor\":\"#2a3f5f\"},\"type\":\"carpet\"}],\"table\":[{\"cells\":{\"fill\":{\"color\":\"#EBF0F8\"},\"line\":{\"color\":\"white\"}},\"header\":{\"fill\":{\"color\":\"#C8D4E3\"},\"line\":{\"color\":\"white\"}},\"type\":\"table\"}],\"barpolar\":[{\"marker\":{\"line\":{\"color\":\"white\",\"width\":0.5},\"pattern\":{\"fillmode\":\"overlay\",\"size\":10,\"solidity\":0.2}},\"type\":\"barpolar\"}],\"pie\":[{\"automargin\":true,\"type\":\"pie\"}]},\"layout\":{\"autotypenumbers\":\"strict\",\"colorway\":[\"#636efa\",\"#EF553B\",\"#00cc96\",\"#ab63fa\",\"#FFA15A\",\"#19d3f3\",\"#FF6692\",\"#B6E880\",\"#FF97FF\",\"#FECB52\"],\"font\":{\"color\":\"#2a3f5f\"},\"hovermode\":\"closest\",\"hoverlabel\":{\"align\":\"left\"},\"paper_bgcolor\":\"white\",\"plot_bgcolor\":\"white\",\"polar\":{\"bgcolor\":\"white\",\"angularaxis\":{\"gridcolor\":\"#EBF0F8\",\"linecolor\":\"#EBF0F8\",\"ticks\":\"\"},\"radialaxis\":{\"gridcolor\":\"#EBF0F8\",\"linecolor\":\"#EBF0F8\",\"ticks\":\"\"}},\"ternary\":{\"bgcolor\":\"white\",\"aaxis\":{\"gridcolor\":\"#DFE8F3\",\"linecolor\":\"#A2B1C6\",\"ticks\":\"\"},\"baxis\":{\"gridcolor\":\"#DFE8F3\",\"linecolor\":\"#A2B1C6\",\"ticks\":\"\"},\"caxis\":{\"gridcolor\":\"#DFE8F3\",\"linecolor\":\"#A2B1C6\",\"ticks\":\"\"}},\"coloraxis\":{\"colorbar\":{\"outlinewidth\":0,\"ticks\":\"\"}},\"colorscale\":{\"sequential\":[[0.0,\"#0d0887\"],[0.1111111111111111,\"#46039f\"],[0.2222222222222222,\"#7201a8\"],[0.3333333333333333,\"#9c179e\"],[0.4444444444444444,\"#bd3786\"],[0.5555555555555556,\"#d8576b\"],[0.6666666666666666,\"#ed7953\"],[0.7777777777777778,\"#fb9f3a\"],[0.8888888888888888,\"#fdca26\"],[1.0,\"#f0f921\"]],\"sequentialminus\":[[0.0,\"#0d0887\"],[0.1111111111111111,\"#46039f\"],[0.2222222222222222,\"#7201a8\"],[0.3333333333333333,\"#9c179e\"],[0.4444444444444444,\"#bd3786\"],[0.5555555555555556,\"#d8576b\"],[0.6666666666666666,\"#ed7953\"],[0.7777777777777778,\"#fb9f3a\"],[0.8888888888888888,\"#fdca26\"],[1.0,\"#f0f921\"]],\"diverging\":[[0,\"#8e0152\"],[0.1,\"#c51b7d\"],[0.2,\"#de77ae\"],[0.3,\"#f1b6da\"],[0.4,\"#fde0ef\"],[0.5,\"#f7f7f7\"],[0.6,\"#e6f5d0\"],[0.7,\"#b8e186\"],[0.8,\"#7fbc41\"],[0.9,\"#4d9221\"],[1,\"#276419\"]]},\"xaxis\":{\"gridcolor\":\"#EBF0F8\",\"linecolor\":\"#EBF0F8\",\"ticks\":\"\",\"title\":{\"standoff\":15},\"zerolinecolor\":\"#EBF0F8\",\"automargin\":true,\"zerolinewidth\":2},\"yaxis\":{\"gridcolor\":\"#EBF0F8\",\"linecolor\":\"#EBF0F8\",\"ticks\":\"\",\"title\":{\"standoff\":15},\"zerolinecolor\":\"#EBF0F8\",\"automargin\":true,\"zerolinewidth\":2},\"scene\":{\"xaxis\":{\"backgroundcolor\":\"white\",\"gridcolor\":\"#DFE8F3\",\"linecolor\":\"#EBF0F8\",\"showbackground\":true,\"ticks\":\"\",\"zerolinecolor\":\"#EBF0F8\",\"gridwidth\":2},\"yaxis\":{\"backgroundcolor\":\"white\",\"gridcolor\":\"#DFE8F3\",\"linecolor\":\"#EBF0F8\",\"showbackground\":true,\"ticks\":\"\",\"zerolinecolor\":\"#EBF0F8\",\"gridwidth\":2},\"zaxis\":{\"backgroundcolor\":\"white\",\"gridcolor\":\"#DFE8F3\",\"linecolor\":\"#EBF0F8\",\"showbackground\":true,\"ticks\":\"\",\"zerolinecolor\":\"#EBF0F8\",\"gridwidth\":2}},\"shapedefaults\":{\"line\":{\"color\":\"#2a3f5f\"}},\"annotationdefaults\":{\"arrowcolor\":\"#2a3f5f\",\"arrowhead\":0,\"arrowwidth\":1},\"geo\":{\"bgcolor\":\"white\",\"landcolor\":\"white\",\"subunitcolor\":\"#C8D4E3\",\"showland\":true,\"showlakes\":true,\"lakecolor\":\"white\"},\"title\":{\"x\":0.05},\"mapbox\":{\"style\":\"light\"}}},\"legend\":{\"yanchor\":\"top\",\"y\":0.99,\"xanchor\":\"left\",\"x\":0.55}},                        {\"responsive\": true}                    ).then(function(){\n",
       "                            \n",
       "var gd = document.getElementById('ce9d33fb-1afa-4315-a0e1-bf63276de3e4');\n",
       "var x = new MutationObserver(function (mutations, observer) {{\n",
       "        var display = window.getComputedStyle(gd).display;\n",
       "        if (!display || display === 'none') {{\n",
       "            console.log([gd, 'removed!']);\n",
       "            Plotly.purge(gd);\n",
       "            observer.disconnect();\n",
       "        }}\n",
       "}});\n",
       "\n",
       "// Listen for the removal of the full notebook cells\n",
       "var notebookContainer = gd.closest('#notebook-container');\n",
       "if (notebookContainer) {{\n",
       "    x.observe(notebookContainer, {childList: true});\n",
       "}}\n",
       "\n",
       "// Listen for the clearing of the current output cell\n",
       "var outputEl = gd.closest('.output');\n",
       "if (outputEl) {{\n",
       "    x.observe(outputEl, {childList: true});\n",
       "}}\n",
       "\n",
       "                        })                };                });            </script>        </div>"
      ]
     },
     "metadata": {},
     "output_type": "display_data"
    }
   ],
   "source": [
    "names = []\n",
    "fig = go.Figure()\n",
    "for i, (dev, t) in enumerate(zip(devs,ts)) :\n",
    "    for j, row in dev.iterrows() :\n",
    "        dev_uuid = row.uuid\n",
    "        dev_class, mod_name, attrib_name = row['class'], row['mod'], row['attrib']\n",
    "        if attrib_name not in  ['x_position'] : continue\n",
    "        name = row.uuid + '/' + mod_name + '/' + attrib_name\n",
    "        fig.add_trace(go.Scatter(x=t, y=row[val_cols],\n",
    "                    mode='lines',\n",
    "                    name=name))\n",
    "        names.append(name)\n",
    "fig.update_layout(legend=dict(\n",
    "    yanchor=\"top\",\n",
    "    y=0.99,\n",
    "    xanchor=\"left\",\n",
    "    x=0.55\n",
    "))\n",
    "fig.show()"
   ]
  },
  {
   "cell_type": "markdown",
   "metadata": {},
   "source": [
    "### Determine closest device UUID by buffered values comparison\n",
    "\n",
    "Get the attribute with the closest values (euclidean distance) to each of the unknown device module attributes"
   ]
  },
  {
   "cell_type": "code",
   "execution_count": 71,
   "metadata": {},
   "outputs": [],
   "source": [
    "pickup_uuid = 'bodyconfig_pickuprob2'\n",
    "airqualitymod_uuid = 'indoors_airqualitymod'\n",
    "uuid = airqualitymod_uuid # UUID of the unknown device"
   ]
  },
  {
   "cell_type": "code",
   "execution_count": 72,
   "metadata": {},
   "outputs": [],
   "source": [
    "noninteg_dev = devs_df[devs_df.uuid == uuid]\n",
    "integ_devs = devs_df[(devs_df.integ == True) & (devs_df.uuid != uuid)]"
   ]
  },
  {
   "cell_type": "code",
   "execution_count": 73,
   "metadata": {},
   "outputs": [],
   "source": [
    "# Compute closest devices searching for closest time series pattern\n",
    "def get_closest_devs(noninteg_dev,integ_devs,closest_classes,i,score=1) :\n",
    "    # Create local copies\n",
    "    noninteg_dev_row = noninteg_dev.iloc[i].copy()\n",
    "    closest_classes.append(noninteg_dev_row.dev)\n",
    "    integ_devs = integ_devs[integ_devs.dev.isin(closest_classes)].copy()\n",
    "    val_cols = integ_devs.columns[6:]\n",
    "\n",
    "    # Compute device with closest time series pattern\n",
    "    min_dist_profile = np.Inf\n",
    "    query_series = noninteg_dev_row[val_cols[:20]].astype(float).to_numpy()\n",
    "    for i, integ_dev_row in integ_devs.iterrows() :\n",
    "        inspected_series = integ_dev_row[val_cols].dropna().astype(float).to_numpy()\n",
    "        if inspected_series.size < query_series.size : continue\n",
    "        # MASS Distance Profile\n",
    "        dist_profile = mass(query_series, inspected_series, normalize=False)\n",
    "        if np.min(dist_profile) < min_dist_profile :\n",
    "            min_dist_profile = np.min(dist_profile)\n",
    "            candidate = integ_dev_row.dev + '/' + integ_dev_row.uuid\n",
    "    \n",
    "    # The winner is the one with lower distance\n",
    "    return {candidate: score}\n",
    "    "
   ]
  },
  {
   "cell_type": "code",
   "execution_count": 74,
   "metadata": {},
   "outputs": [],
   "source": [
    "# Out of those 5 closest classes, get device that best matches time series pattern\n",
    "votes = (Parallel(n_jobs=12)(delayed(get_closest_devs)(noninteg_dev,integ_devs,closest_classes,i) for i in range(noninteg_dev.shape[0])))\n",
    "voting_result_df = calc_voting_result_df(votes)"
   ]
  },
  {
   "cell_type": "code",
   "execution_count": 75,
   "metadata": {},
   "outputs": [
    {
     "data": {
      "text/html": [
       "<div>\n",
       "<style scoped>\n",
       "    .dataframe tbody tr th:only-of-type {\n",
       "        vertical-align: middle;\n",
       "    }\n",
       "\n",
       "    .dataframe tbody tr th {\n",
       "        vertical-align: top;\n",
       "    }\n",
       "\n",
       "    .dataframe thead th {\n",
       "        text-align: right;\n",
       "    }\n",
       "</style>\n",
       "<table border=\"1\" class=\"dataframe\">\n",
       "  <thead>\n",
       "    <tr style=\"text-align: right;\">\n",
       "      <th></th>\n",
       "      <th>candidate</th>\n",
       "      <th>score</th>\n",
       "    </tr>\n",
       "  </thead>\n",
       "  <tbody>\n",
       "    <tr>\n",
       "      <th>0</th>\n",
       "      <td>AirQuality/indoors_airquality</td>\n",
       "      <td>4</td>\n",
       "    </tr>\n",
       "  </tbody>\n",
       "</table>\n",
       "</div>"
      ],
      "text/plain": [
       "                       candidate  score\n",
       "0  AirQuality/indoors_airquality      4"
      ]
     },
     "execution_count": 75,
     "metadata": {},
     "output_type": "execute_result"
    }
   ],
   "source": [
    "voting_result_df"
   ]
  },
  {
   "cell_type": "markdown",
   "metadata": {},
   "source": [
    "## USE SIMILARITY ANALYSIS TO SOLVE CASES. \n",
    "### Case 1. A KNOWN DEVICE DISAPPEARS AND A NEW ONE WITH SIMILAR CHARACTERISTICS APPEARS\n",
    "### Case 2. A COMPLEMENTARY DEVICE APPEARS IN A TASK"
   ]
  },
  {
   "cell_type": "markdown",
   "metadata": {},
   "source": [
    "Explain what needs to be done to be able to tackle CASE 3. What others steps should we take?\n",
    "Additionally, explain the weaknesses of our similarity comparison and how could these be tackled."
   ]
  }
 ],
 "metadata": {
  "kernelspec": {
   "display_name": "Python 3.10.4 64-bit",
   "language": "python",
   "name": "python3"
  },
  "language_info": {
   "codemirror_mode": {
    "name": "ipython",
    "version": 3
   },
   "file_extension": ".py",
   "mimetype": "text/x-python",
   "name": "python",
   "nbconvert_exporter": "python",
   "pygments_lexer": "ipython3",
   "version": "3.10.6"
  },
  "orig_nbformat": 4,
  "vscode": {
   "interpreter": {
    "hash": "31f2aee4e71d21fbe5cf8b01ff0e069b9275f58929596ceb00d14d90e3e16cd6"
   }
  }
 },
 "nbformat": 4,
 "nbformat_minor": 2
}

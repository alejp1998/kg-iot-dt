{
 "cells": [
  {
   "cell_type": "markdown",
   "metadata": {},
   "source": [
    "# Similarity / Distance between Devices"
   ]
  },
  {
   "cell_type": "code",
   "execution_count": 85,
   "metadata": {},
   "outputs": [],
   "source": [
    "from aux import *\n",
    "import pandas as pd\n",
    "from thefuzz import fuzz\n",
    "import numpy as np\n",
    "import json\n",
    "from joblib import Parallel, delayed\n",
    "import matplotlib.pyplot as plt\n",
    "plt.style.use('default')"
   ]
  },
  {
   "cell_type": "markdown",
   "metadata": {},
   "source": [
    "## Devices SDF definitions"
   ]
  },
  {
   "cell_type": "markdown",
   "metadata": {},
   "source": [
    "### Adapt SDF definition data for analysis"
   ]
  },
  {
   "cell_type": "code",
   "execution_count": 86,
   "metadata": {},
   "outputs": [],
   "source": [
    "# Load SDF files to compare\n",
    "sdf_manager = SDFManager(path='../iot/sdf/')\n",
    "sdfs = sdf_manager.get_all_sdfs()"
   ]
  },
  {
   "cell_type": "code",
   "execution_count": 87,
   "metadata": {},
   "outputs": [],
   "source": [
    "# Turn the SDF files into dataframes - Avoid redundant data\n",
    "sdfs_trans = {}\n",
    "columns = ['thing','thing_desc','obj','obj_desc','prop','prop_desc','prop_type','prop_unit']\n",
    "rows = []\n",
    "for name, sdf in sdfs.items() :\n",
    "    if name == 'Auxiliary':\n",
    "        continue\n",
    "    for sdfThing, thing_dic in sdf['sdfThing'].items():\n",
    "        thing_desc = thing_dic['description']\n",
    "        for sdfObject, object_dic in thing_dic['sdfObject'].items():\n",
    "            object_desc = object_dic['description']\n",
    "            for sdfProperty, prop_dic in object_dic['sdfProperty'].items():\n",
    "                if sdfProperty == 'uuid': continue\n",
    "                prop_desc = prop_dic['description']\n",
    "                prop_type = prop_dic['type']\n",
    "                prop_unit = prop_dic['unit'] if 'unit' in prop_dic else None\n",
    "                rows.append((sdfThing,thing_desc,sdfObject,object_desc,sdfProperty,prop_desc,prop_type,prop_unit))\n",
    "\n",
    "sdfs_df = pd.DataFrame(columns=columns,data=rows)"
   ]
  },
  {
   "cell_type": "code",
   "execution_count": 88,
   "metadata": {},
   "outputs": [
    {
     "data": {
      "text/html": [
       "<div>\n",
       "<style scoped>\n",
       "    .dataframe tbody tr th:only-of-type {\n",
       "        vertical-align: middle;\n",
       "    }\n",
       "\n",
       "    .dataframe tbody tr th {\n",
       "        vertical-align: top;\n",
       "    }\n",
       "\n",
       "    .dataframe thead th {\n",
       "        text-align: right;\n",
       "    }\n",
       "</style>\n",
       "<table border=\"1\" class=\"dataframe\">\n",
       "  <thead>\n",
       "    <tr style=\"text-align: right;\">\n",
       "      <th></th>\n",
       "      <th>obj</th>\n",
       "      <th>obj_desc</th>\n",
       "      <th>prop</th>\n",
       "      <th>prop_desc</th>\n",
       "      <th>prop_type</th>\n",
       "      <th>prop_unit</th>\n",
       "    </tr>\n",
       "  </thead>\n",
       "  <tbody>\n",
       "    <tr>\n",
       "      <th>0</th>\n",
       "      <td>temperature_humidity_sensor</td>\n",
       "      <td>Measures environmental temperature and humidity.</td>\n",
       "      <td>temperature</td>\n",
       "      <td>Temperature value</td>\n",
       "      <td>number</td>\n",
       "      <td>Cel</td>\n",
       "    </tr>\n",
       "    <tr>\n",
       "      <th>1</th>\n",
       "      <td>temperature_humidity_sensor</td>\n",
       "      <td>Measures environmental temperature and humidity.</td>\n",
       "      <td>humidity</td>\n",
       "      <td>Humidity value</td>\n",
       "      <td>number</td>\n",
       "      <td>%</td>\n",
       "    </tr>\n",
       "    <tr>\n",
       "      <th>2</th>\n",
       "      <td>air_quality_sensor</td>\n",
       "      <td>Measures air pollutants.</td>\n",
       "      <td>pm25</td>\n",
       "      <td>PM2.5 value</td>\n",
       "      <td>number</td>\n",
       "      <td>ug/m3</td>\n",
       "    </tr>\n",
       "    <tr>\n",
       "      <th>3</th>\n",
       "      <td>air_quality_sensor</td>\n",
       "      <td>Measures air pollutants.</td>\n",
       "      <td>pm10</td>\n",
       "      <td>PM10 value</td>\n",
       "      <td>number</td>\n",
       "      <td>ug/m3</td>\n",
       "    </tr>\n",
       "  </tbody>\n",
       "</table>\n",
       "</div>"
      ],
      "text/plain": [
       "                           obj  \\\n",
       "0  temperature_humidity_sensor   \n",
       "1  temperature_humidity_sensor   \n",
       "2           air_quality_sensor   \n",
       "3           air_quality_sensor   \n",
       "\n",
       "                                           obj_desc         prop  \\\n",
       "0  Measures environmental temperature and humidity.  temperature   \n",
       "1  Measures environmental temperature and humidity.     humidity   \n",
       "2                          Measures air pollutants.         pm25   \n",
       "3                          Measures air pollutants.         pm10   \n",
       "\n",
       "           prop_desc prop_type prop_unit  \n",
       "0  Temperature value    number       Cel  \n",
       "1     Humidity value    number         %  \n",
       "2        PM2.5 value    number     ug/m3  \n",
       "3         PM10 value    number     ug/m3  "
      ]
     },
     "execution_count": 88,
     "metadata": {},
     "output_type": "execute_result"
    }
   ],
   "source": [
    "# Air Quality SDF DATAFRAME\n",
    "sdfs_df[sdfs_df.thing=='AirQualityModified'].iloc[:,2:].reset_index(drop=True)"
   ]
  },
  {
   "cell_type": "markdown",
   "metadata": {},
   "source": [
    "## Devices data"
   ]
  },
  {
   "cell_type": "markdown",
   "metadata": {},
   "source": [
    "### Load devices data"
   ]
  },
  {
   "cell_type": "code",
   "execution_count": 89,
   "metadata": {},
   "outputs": [],
   "source": [
    "# Read devices data samples from JSON\n",
    "with open('devices.json', 'r') as f: devices = json.load(f)"
   ]
  },
  {
   "cell_type": "markdown",
   "metadata": {},
   "source": [
    "### Adapt devices data for analysis"
   ]
  },
  {
   "cell_type": "code",
   "execution_count": 90,
   "metadata": {},
   "outputs": [],
   "source": [
    "# Build devices dataframe\n",
    "rows = []\n",
    "for dev_uuid, dev in devices.items() :\n",
    "    # Dev row initialization\n",
    "    row = {\n",
    "        'uuid': dev_uuid,\n",
    "        'dev' : dev['name'],\n",
    "        'integ': dev['integrated'],\n",
    "        'timestamp': dev['timestamp'],\n",
    "        'period': dev['period']\n",
    "    }\n",
    "        \n",
    "    # Create a row for each module attribute with a column for each value in the buffer\n",
    "    for mod_uuid, mod in dev['modules'].items() :\n",
    "        row['mod'] = mod['name']\n",
    "        for prop_name, buffer in mod['attribs'].items() :\n",
    "            row['attrib'] = prop_name\n",
    "            for i, val in enumerate(buffer) :\n",
    "                row[f'v{i+1}'] = val\n",
    "            rows.append(row.copy())\n",
    "\n",
    "# Build devices dataframe\n",
    "devs_df = pd.DataFrame(rows)"
   ]
  },
  {
   "cell_type": "code",
   "execution_count": 91,
   "metadata": {},
   "outputs": [],
   "source": [
    "# Drop columns without useful information\n",
    "devs_df = devs_df.drop(columns=['integ','timestamp','period'])"
   ]
  },
  {
   "cell_type": "markdown",
   "metadata": {},
   "source": [
    "## Similarity Analysis\n",
    "Given an unknown device, determine the 5 closest devices according to SDF definition similarity, and then choose the closest device by including the buffered data. \n",
    "\n",
    "**Possible algorithm**\n",
    "\n",
    "    Given an unknown device(thing) module(object) attribute(property), find 5 closest thing-object-property tuples according to SDF definition.\n",
    "\n",
    "    Then, for each unknown module attribute, determine which attribute resembles the most to it of those in the 5 closest devices, and vote this device UUID as the candidate to be the closest.\n",
    "\n",
    "    Finally, the device that has the most attribute votes is chosen as the closest device."
   ]
  },
  {
   "cell_type": "code",
   "execution_count": 92,
   "metadata": {},
   "outputs": [],
   "source": [
    "# Value columns names\n",
    "n_vals = 50\n",
    "val_cols = [f'v{i+1}' for i in range(n_vals)]\n",
    "\n",
    "# Turn booleans into integers and cast all data to float\n",
    "devs_df[val_cols] = devs_df[val_cols].replace('False',0).replace('True',1)\n",
    "devs_df[val_cols] = devs_df[val_cols].astype(float)"
   ]
  },
  {
   "cell_type": "code",
   "execution_count": 93,
   "metadata": {},
   "outputs": [
    {
     "data": {
      "text/html": [
       "<div>\n",
       "<style scoped>\n",
       "    .dataframe tbody tr th:only-of-type {\n",
       "        vertical-align: middle;\n",
       "    }\n",
       "\n",
       "    .dataframe tbody tr th {\n",
       "        vertical-align: top;\n",
       "    }\n",
       "\n",
       "    .dataframe thead th {\n",
       "        text-align: right;\n",
       "    }\n",
       "</style>\n",
       "<table border=\"1\" class=\"dataframe\">\n",
       "  <thead>\n",
       "    <tr style=\"text-align: right;\">\n",
       "      <th></th>\n",
       "      <th>uuid</th>\n",
       "      <th>dev</th>\n",
       "      <th>mod</th>\n",
       "      <th>attrib</th>\n",
       "      <th>v1</th>\n",
       "      <th>v2</th>\n",
       "      <th>v3</th>\n",
       "      <th>v4</th>\n",
       "      <th>v5</th>\n",
       "      <th>v6</th>\n",
       "      <th>...</th>\n",
       "      <th>v41</th>\n",
       "      <th>v42</th>\n",
       "      <th>v43</th>\n",
       "      <th>v44</th>\n",
       "      <th>v45</th>\n",
       "      <th>v46</th>\n",
       "      <th>v47</th>\n",
       "      <th>v48</th>\n",
       "      <th>v49</th>\n",
       "      <th>v50</th>\n",
       "    </tr>\n",
       "  </thead>\n",
       "  <tbody>\n",
       "    <tr>\n",
       "      <th>277</th>\n",
       "      <td>ea2f12a1-4d2e-4b44-a5d3-06dc3af30f48</td>\n",
       "      <td>AirQualityModified</td>\n",
       "      <td>temperature_humidity_sensor</td>\n",
       "      <td>temperature</td>\n",
       "      <td>20.051467</td>\n",
       "      <td>20.064545</td>\n",
       "      <td>20.240651</td>\n",
       "      <td>20.155447</td>\n",
       "      <td>20.083972</td>\n",
       "      <td>20.051102</td>\n",
       "      <td>...</td>\n",
       "      <td>20.215958</td>\n",
       "      <td>20.364100</td>\n",
       "      <td>20.293053</td>\n",
       "      <td>20.260093</td>\n",
       "      <td>20.312733</td>\n",
       "      <td>20.439424</td>\n",
       "      <td>20.362026</td>\n",
       "      <td>20.461168</td>\n",
       "      <td>20.283213</td>\n",
       "      <td>20.354656</td>\n",
       "    </tr>\n",
       "    <tr>\n",
       "      <th>278</th>\n",
       "      <td>ea2f12a1-4d2e-4b44-a5d3-06dc3af30f48</td>\n",
       "      <td>AirQualityModified</td>\n",
       "      <td>temperature_humidity_sensor</td>\n",
       "      <td>humidity</td>\n",
       "      <td>25.499256</td>\n",
       "      <td>25.373659</td>\n",
       "      <td>25.196123</td>\n",
       "      <td>25.216046</td>\n",
       "      <td>25.191259</td>\n",
       "      <td>25.023164</td>\n",
       "      <td>...</td>\n",
       "      <td>24.650285</td>\n",
       "      <td>24.699842</td>\n",
       "      <td>24.527381</td>\n",
       "      <td>24.504257</td>\n",
       "      <td>24.444911</td>\n",
       "      <td>24.562229</td>\n",
       "      <td>24.441737</td>\n",
       "      <td>24.421557</td>\n",
       "      <td>24.462901</td>\n",
       "      <td>24.395795</td>\n",
       "    </tr>\n",
       "    <tr>\n",
       "      <th>279</th>\n",
       "      <td>ea2f12a1-4d2e-4b44-a5d3-06dc3af30f48</td>\n",
       "      <td>AirQualityModified</td>\n",
       "      <td>air_quality_sensor</td>\n",
       "      <td>pm25</td>\n",
       "      <td>9.474254</td>\n",
       "      <td>9.357874</td>\n",
       "      <td>9.426117</td>\n",
       "      <td>9.488540</td>\n",
       "      <td>9.367624</td>\n",
       "      <td>9.385309</td>\n",
       "      <td>...</td>\n",
       "      <td>9.407496</td>\n",
       "      <td>9.580007</td>\n",
       "      <td>9.670460</td>\n",
       "      <td>9.690777</td>\n",
       "      <td>9.470073</td>\n",
       "      <td>9.575662</td>\n",
       "      <td>9.703471</td>\n",
       "      <td>9.510222</td>\n",
       "      <td>9.690187</td>\n",
       "      <td>9.470027</td>\n",
       "    </tr>\n",
       "    <tr>\n",
       "      <th>280</th>\n",
       "      <td>ea2f12a1-4d2e-4b44-a5d3-06dc3af30f48</td>\n",
       "      <td>AirQualityModified</td>\n",
       "      <td>air_quality_sensor</td>\n",
       "      <td>pm10</td>\n",
       "      <td>17.370670</td>\n",
       "      <td>17.267140</td>\n",
       "      <td>17.294109</td>\n",
       "      <td>17.268684</td>\n",
       "      <td>17.293643</td>\n",
       "      <td>17.425802</td>\n",
       "      <td>...</td>\n",
       "      <td>17.242235</td>\n",
       "      <td>17.166704</td>\n",
       "      <td>17.267605</td>\n",
       "      <td>17.272301</td>\n",
       "      <td>17.388483</td>\n",
       "      <td>17.427488</td>\n",
       "      <td>17.352384</td>\n",
       "      <td>17.376899</td>\n",
       "      <td>17.284753</td>\n",
       "      <td>17.285690</td>\n",
       "    </tr>\n",
       "  </tbody>\n",
       "</table>\n",
       "<p>4 rows × 54 columns</p>\n",
       "</div>"
      ],
      "text/plain": [
       "                                     uuid                 dev  \\\n",
       "277  ea2f12a1-4d2e-4b44-a5d3-06dc3af30f48  AirQualityModified   \n",
       "278  ea2f12a1-4d2e-4b44-a5d3-06dc3af30f48  AirQualityModified   \n",
       "279  ea2f12a1-4d2e-4b44-a5d3-06dc3af30f48  AirQualityModified   \n",
       "280  ea2f12a1-4d2e-4b44-a5d3-06dc3af30f48  AirQualityModified   \n",
       "\n",
       "                             mod       attrib         v1         v2  \\\n",
       "277  temperature_humidity_sensor  temperature  20.051467  20.064545   \n",
       "278  temperature_humidity_sensor     humidity  25.499256  25.373659   \n",
       "279           air_quality_sensor         pm25   9.474254   9.357874   \n",
       "280           air_quality_sensor         pm10  17.370670  17.267140   \n",
       "\n",
       "            v3         v4         v5         v6  ...        v41        v42  \\\n",
       "277  20.240651  20.155447  20.083972  20.051102  ...  20.215958  20.364100   \n",
       "278  25.196123  25.216046  25.191259  25.023164  ...  24.650285  24.699842   \n",
       "279   9.426117   9.488540   9.367624   9.385309  ...   9.407496   9.580007   \n",
       "280  17.294109  17.268684  17.293643  17.425802  ...  17.242235  17.166704   \n",
       "\n",
       "           v43        v44        v45        v46        v47        v48  \\\n",
       "277  20.293053  20.260093  20.312733  20.439424  20.362026  20.461168   \n",
       "278  24.527381  24.504257  24.444911  24.562229  24.441737  24.421557   \n",
       "279   9.670460   9.690777   9.470073   9.575662   9.703471   9.510222   \n",
       "280  17.267605  17.272301  17.388483  17.427488  17.352384  17.376899   \n",
       "\n",
       "           v49        v50  \n",
       "277  20.283213  20.354656  \n",
       "278  24.462901  24.395795  \n",
       "279   9.690187   9.470027  \n",
       "280  17.284753  17.285690  \n",
       "\n",
       "[4 rows x 54 columns]"
      ]
     },
     "execution_count": 93,
     "metadata": {},
     "output_type": "execute_result"
    }
   ],
   "source": [
    "# Air Quality Modified DEVICES DATAFRAME\n",
    "devs_df[devs_df.dev=='AirQualityModified']"
   ]
  },
  {
   "cell_type": "code",
   "execution_count": 94,
   "metadata": {},
   "outputs": [],
   "source": [
    "# Unknown device\n",
    "unknown_dev_name = 'AirQualityModified'"
   ]
  },
  {
   "cell_type": "markdown",
   "metadata": {},
   "source": [
    "### Determine closest devices by SDF comparison\n",
    "\n",
    "String similarity of the fields:\n",
    "- Thing and its description\n",
    "- Object and its description\n",
    "- Property and its description"
   ]
  },
  {
   "cell_type": "code",
   "execution_count": 95,
   "metadata": {},
   "outputs": [],
   "source": [
    "unknown_sdf = sdfs_df[sdfs_df.thing==unknown_dev_name]\n",
    "known_sdfs = sdfs_df[sdfs_df.thing!=unknown_dev_name]"
   ]
  },
  {
   "cell_type": "code",
   "execution_count": 96,
   "metadata": {},
   "outputs": [],
   "source": [
    "# Define distance functions\n",
    "def calc_str_dist(descs, row):\n",
    "    return fuzz.ratio(descs,row['thing_desc'] + ' ' + row['obj'] + ' ' + row['obj_desc'] + ' ' + row['prop'] + ' ' + row['prop_desc'])\n",
    "\n",
    "# Compute closest devices by SDF\n",
    "def get_closest_devs_by_sdf(unknown_sdf,known_sdfs,i) :\n",
    "    unknown_row = unknown_sdf.iloc[i].copy()\n",
    "\n",
    "    # Build joint description \n",
    "    descs = unknown_row['thing'] + ' ' + unknown_row['thing_desc'] + ' ' + unknown_row['obj'] + ' ' + unknown_row['obj_desc'] + ' ' + unknown_row['prop'] + ' ' + unknown_row['prop_desc']\n",
    "\n",
    "    # Calc string distances\n",
    "    knowns_alike = known_sdfs[known_sdfs.prop_type==unknown_row['prop_type']].copy()\n",
    "    knowns_alike['str_dist'] = knowns_alike.apply(lambda x: calc_str_dist(descs,x), axis=1)\n",
    "    closest_things = knowns_alike[['thing','obj','prop','str_dist']].sort_values(by='str_dist',ascending=False)\n",
    "\n",
    "    # Give point based on closeness\n",
    "    score = 5\n",
    "    vote = {}\n",
    "    for row in closest_things.itertuples() :\n",
    "        candidate = row.thing+'/'+row.obj+'/'+row.prop\n",
    "        if candidate not in vote :\n",
    "            vote[candidate] = score\n",
    "            score -= 1\n",
    "\n",
    "        if score == 0 :\n",
    "            break\n",
    "        \n",
    "    return vote"
   ]
  },
  {
   "cell_type": "code",
   "execution_count": 97,
   "metadata": {},
   "outputs": [],
   "source": [
    "# Compute distance for each unknown module attribute\n",
    "votes = (Parallel(n_jobs=12)(delayed(get_closest_devs_by_sdf)(unknown_sdf,known_sdfs,i) for i in range(unknown_sdf.shape[0])))\n",
    "total_vote_sdf = {}\n",
    "for vote in votes:\n",
    "    for candidate, score in vote.items() :\n",
    "        if candidate not in total_vote_sdf :\n",
    "            total_vote_sdf[candidate] = score\n",
    "        else :\n",
    "            total_vote_sdf[candidate] += score"
   ]
  },
  {
   "cell_type": "code",
   "execution_count": 98,
   "metadata": {},
   "outputs": [
    {
     "data": {
      "text/plain": [
       "{'AirQuality/temperature_sensor/temperature': 9,\n",
       " 'AirQuality/humidity_sensor/humidity': 13,\n",
       " 'AirQuality/pressure_sensor/pressure': 8,\n",
       " 'AirQuality/air_quality_sensor/pm10': 13,\n",
       " 'AirQuality/air_quality_sensor/pm1': 11,\n",
       " 'AirQuality/air_quality_sensor/pm25': 6}"
      ]
     },
     "execution_count": 98,
     "metadata": {},
     "output_type": "execute_result"
    }
   ],
   "source": [
    "total_vote_sdf"
   ]
  },
  {
   "cell_type": "markdown",
   "metadata": {},
   "source": [
    "### Compare attributes time series"
   ]
  },
  {
   "cell_type": "code",
   "execution_count": 99,
   "metadata": {},
   "outputs": [
    {
     "data": {
      "image/png": "[encoded data removed]",
      "text/plain": [
       "<Figure size 1200x500 with 1 Axes>"
      ]
     },
     "metadata": {},
     "output_type": "display_data"
    }
   ],
   "source": [
    "devs_df_slice = devs_df[\n",
    "    ((devs_df.dev == 'AirQuality') | \\\n",
    "    (devs_df.dev == 'AirQualityModified')) & \\\n",
    "    ((devs_df.attrib == 'temperature'))]\n",
    "plt.figure(figsize=(12,5))\n",
    "\n",
    "names = []\n",
    "for i,row in devs_df_slice.iterrows():\n",
    "    dev_uuid = row.uuid\n",
    "    dev_name, mod_name, attrib_name = row['dev'], row['mod'], row['attrib']\n",
    "    ax1 = plt.plot(row[val_cols].to_list())\n",
    "    names.append(dev_name + '/' + mod_name + '/' + attrib_name) \n",
    "\n",
    "plt.legend(names)\n",
    "plt.show()"
   ]
  },
  {
   "cell_type": "markdown",
   "metadata": {},
   "source": [
    "### Determine closest device UUID by buffered values comparison\n",
    "\n",
    "Get the attribute with the closest values (euclidean distance) to each of the unknown device module attributes"
   ]
  },
  {
   "cell_type": "code",
   "execution_count": 40,
   "metadata": {},
   "outputs": [],
   "source": [
    "unknown_uuid = '' # UUID of the unknown device\n",
    "unknown_dev = devs_df[devs_df.dev==unknown_dev_name]\n",
    "known_devs = devs_df[devs_df.dev!=unknown_dev_name]"
   ]
  },
  {
   "cell_type": "code",
   "execution_count": 41,
   "metadata": {},
   "outputs": [],
   "source": [
    "# Compute closest devices by values comparison\n",
    "def get_closest_devs_by_values(unknown_dev,known_devs,i) :\n",
    "    unknown_row = unknown_dev.iloc[i].copy()\n",
    "\n",
    "    # Calc string distances\n",
    "    knowns_alike = known_devs.copy()\n",
    "    knowns_alike['dist'] = ((knowns_alike[val_cols] - unknown_row[val_cols])**2).sum(axis=1)**0.5\n",
    "    closest_things = knowns_alike[['uuid','dev','mod','attrib','dist']].sort_values(by='dist',ascending=True)\n",
    "\n",
    "    # Give points based on closeness\n",
    "    score = 5\n",
    "    vote = {}\n",
    "    for row in closest_things.itertuples() :\n",
    "        candidate = row.uuid+'/'+row.dev+'/'+row.mod+'/'+row.attrib\n",
    "        if candidate not in vote :\n",
    "            vote[candidate] = score\n",
    "            score -= 1\n",
    "\n",
    "        if score == 0 :\n",
    "            break\n",
    "        \n",
    "    return vote"
   ]
  },
  {
   "cell_type": "code",
   "execution_count": 42,
   "metadata": {},
   "outputs": [],
   "source": [
    "# Compute distance for each unknown module attribute\n",
    "votes = (Parallel(n_jobs=12)(delayed(get_closest_devs_by_values)(unknown_dev,known_devs,i) for i in range(unknown_dev.shape[0])))\n",
    "total_vote_dev = {}\n",
    "for vote in votes:\n",
    "    for candidate in vote :\n",
    "        if candidate not in total_vote_dev :\n",
    "            total_vote_dev[candidate] = vote[candidate]\n",
    "        else :\n",
    "            total_vote_dev[candidate] += vote[candidate]"
   ]
  },
  {
   "cell_type": "code",
   "execution_count": 43,
   "metadata": {},
   "outputs": [
    {
     "data": {
      "text/plain": [
       "{'5362cb80-381d-4d21-87ba-af283640fa98/AirQuality/temperature_sensor/temperature': 6,\n",
       " '98247600-c4fe-4728-bda6-ed8fadf81af2/DrillingRobot/joint1/roll_orientation': 6,\n",
       " 'c11c3f56-0f26-415f-a00d-3bb929f5ca20/AirQuality/air_quality_sensor/pm10': 4,\n",
       " '5362cb80-381d-4d21-87ba-af283640fa98/AirQuality/air_quality_sensor/pm10': 7,\n",
       " '5ce94c31-3004-431e-97b3-c8f779fb180d/MillingRobot/joint1/yaw_orientation': 3,\n",
       " '5362cb80-381d-4d21-87ba-af283640fa98/AirQuality/humidity_sensor/humidity': 5,\n",
       " '5ce94c31-3004-431e-97b3-c8f779fb180d/MillingRobot/joint1/pitch_orientation': 4,\n",
       " 'fbeaa5f3-e532-4e02-8429-c77301f46470/ConveyorBelt/conveyor_belt/rotational_speed': 3,\n",
       " '5362cb80-381d-4d21-87ba-af283640fa98/AirQuality/air_quality_sensor/pm25': 5,\n",
       " '8a40d136-8401-41bd-9845-7dc8f28ea582/TagScanner/rfid_scanner/product_id': 4,\n",
       " '8a40d136-8401-41bd-9845-7dc8f28ea582/TagScanner/rfid_scanner/process_id': 3,\n",
       " 'fbeaa5f3-e532-4e02-8429-c77301f46470/ConveyorBelt/conveyor_belt/weight': 2,\n",
       " '4525aa12-06fb-484f-be38-58afb33e1558/RepairControl/repair_control/repair_status': 1,\n",
       " '98247600-c4fe-4728-bda6-ed8fadf81af2/DrillingRobot/joint1/pitch_orientation': 4,\n",
       " '98247600-c4fe-4728-bda6-ed8fadf81af2/DrillingRobot/joint1/yaw_orientation': 3}"
      ]
     },
     "execution_count": 43,
     "metadata": {},
     "output_type": "execute_result"
    }
   ],
   "source": [
    "total_vote_dev"
   ]
  },
  {
   "cell_type": "code",
   "execution_count": null,
   "metadata": {},
   "outputs": [],
   "source": []
  }
 ],
 "metadata": {
  "kernelspec": {
   "display_name": "Python 3.10.4 64-bit",
   "language": "python",
   "name": "python3"
  },
  "language_info": {
   "codemirror_mode": {
    "name": "ipython",
    "version": 3
   },
   "file_extension": ".py",
   "mimetype": "text/x-python",
   "name": "python",
   "nbconvert_exporter": "python",
   "pygments_lexer": "ipython3",
   "version": "3.10.6"
  },
  "orig_nbformat": 4,
  "vscode": {
   "interpreter": {
    "hash": "31f2aee4e71d21fbe5cf8b01ff0e069b9275f58929596ceb00d14d90e3e16cd6"
   }
  }
 },
 "nbformat": 4,
 "nbformat_minor": 2
}

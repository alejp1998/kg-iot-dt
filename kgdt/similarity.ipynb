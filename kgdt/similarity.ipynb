{
 "cells": [
  {
   "cell_type": "markdown",
   "metadata": {},
   "source": [
    "# Similarity / Distance between Devices"
   ]
  },
  {
   "cell_type": "code",
   "execution_count": 24,
   "metadata": {},
   "outputs": [],
   "source": [
    "from aux import *\n",
    "import pandas as pd"
   ]
  },
  {
   "cell_type": "markdown",
   "metadata": {},
   "source": [
    "## Devices SDF definitions"
   ]
  },
  {
   "cell_type": "markdown",
   "metadata": {},
   "source": [
    "### Adapt SDF definition data for analysis"
   ]
  },
  {
   "cell_type": "code",
   "execution_count": 25,
   "metadata": {},
   "outputs": [],
   "source": [
    "# Load SDF files to compare\n",
    "sdf_manager = SDFManager()\n",
    "sdfs = sdf_manager.get_all_sdfs()"
   ]
  },
  {
   "cell_type": "code",
   "execution_count": 26,
   "metadata": {},
   "outputs": [],
   "source": [
    "# Turn the SDF files into dataframes - Avoid redundant data\n",
    "sdfs_trans = {}\n",
    "columns = ['thing','thing_desc','obj','obj_desc','prop','prop_desc','prop_type','prop_unit']\n",
    "rows = []\n",
    "for name in sdfs :\n",
    "    if name == 'Auxiliary':\n",
    "        continue\n",
    "    for sdfThing in sdfs[name]['sdfThing']:\n",
    "        thing_dic = sdfs[name]['sdfThing'][sdfThing]\n",
    "        thing_desc = thing_dic['description']\n",
    "        for sdfObject in thing_dic['sdfObject']:\n",
    "            object_dic = thing_dic['sdfObject'][sdfObject]\n",
    "            object_desc = object_dic['description']\n",
    "            for sdfProperty in object_dic['sdfProperty']:\n",
    "                if sdfProperty == 'uuid':\n",
    "                    continue\n",
    "                prop_dic = object_dic['sdfProperty'][sdfProperty]\n",
    "                prop_desc = prop_dic['description']\n",
    "                prop_type = prop_dic['type']\n",
    "                prop_unit = prop_dic['unit'] if 'unit' in prop_dic else None\n",
    "                rows.append((sdfThing,thing_desc,sdfObject,object_desc,sdfProperty,prop_desc,prop_type,prop_unit))\n",
    "\n",
    "sdfs_df = pd.DataFrame(columns=columns,data=rows)"
   ]
  },
  {
   "cell_type": "code",
   "execution_count": 39,
   "metadata": {},
   "outputs": [
    {
     "data": {
      "text/html": [
       "<div>\n",
       "<style scoped>\n",
       "    .dataframe tbody tr th:only-of-type {\n",
       "        vertical-align: middle;\n",
       "    }\n",
       "\n",
       "    .dataframe tbody tr th {\n",
       "        vertical-align: top;\n",
       "    }\n",
       "\n",
       "    .dataframe thead th {\n",
       "        text-align: right;\n",
       "    }\n",
       "</style>\n",
       "<table border=\"1\" class=\"dataframe\">\n",
       "  <thead>\n",
       "    <tr style=\"text-align: right;\">\n",
       "      <th></th>\n",
       "      <th>obj</th>\n",
       "      <th>obj_desc</th>\n",
       "      <th>prop</th>\n",
       "      <th>prop_desc</th>\n",
       "      <th>prop_type</th>\n",
       "      <th>prop_unit</th>\n",
       "    </tr>\n",
       "  </thead>\n",
       "  <tbody>\n",
       "    <tr>\n",
       "      <th>29</th>\n",
       "      <td>temperature_sensor</td>\n",
       "      <td>Measures environmental temperature.</td>\n",
       "      <td>temperature</td>\n",
       "      <td>Temperature value</td>\n",
       "      <td>number</td>\n",
       "      <td>Cel</td>\n",
       "    </tr>\n",
       "    <tr>\n",
       "      <th>30</th>\n",
       "      <td>humidity_sensor</td>\n",
       "      <td>Measures environmental humidity.</td>\n",
       "      <td>humidity</td>\n",
       "      <td>Humidity value</td>\n",
       "      <td>number</td>\n",
       "      <td>%</td>\n",
       "    </tr>\n",
       "    <tr>\n",
       "      <th>31</th>\n",
       "      <td>pressure_sensor</td>\n",
       "      <td>Measures environmental pressure.</td>\n",
       "      <td>pressure</td>\n",
       "      <td>Pressure value</td>\n",
       "      <td>number</td>\n",
       "      <td>Pa</td>\n",
       "    </tr>\n",
       "    <tr>\n",
       "      <th>32</th>\n",
       "      <td>air_quality_sensor</td>\n",
       "      <td>Measures pollutants in the air.</td>\n",
       "      <td>pm1</td>\n",
       "      <td>PM1 (viruses, exhaust gases...) value</td>\n",
       "      <td>number</td>\n",
       "      <td>ug/m3</td>\n",
       "    </tr>\n",
       "    <tr>\n",
       "      <th>33</th>\n",
       "      <td>air_quality_sensor</td>\n",
       "      <td>Measures pollutants in the air.</td>\n",
       "      <td>pm25</td>\n",
       "      <td>PM2.5 (bacteria, spores, pollen, toner dust......</td>\n",
       "      <td>number</td>\n",
       "      <td>ug/m3</td>\n",
       "    </tr>\n",
       "    <tr>\n",
       "      <th>34</th>\n",
       "      <td>air_quality_sensor</td>\n",
       "      <td>Measures pollutants in the air.</td>\n",
       "      <td>pm10</td>\n",
       "      <td>PM10 (pollen, desert dust...) value</td>\n",
       "      <td>number</td>\n",
       "      <td>ug/m3</td>\n",
       "    </tr>\n",
       "  </tbody>\n",
       "</table>\n",
       "</div>"
      ],
      "text/plain": [
       "                   obj                             obj_desc         prop  \\\n",
       "29  temperature_sensor  Measures environmental temperature.  temperature   \n",
       "30     humidity_sensor     Measures environmental humidity.     humidity   \n",
       "31     pressure_sensor     Measures environmental pressure.     pressure   \n",
       "32  air_quality_sensor      Measures pollutants in the air.          pm1   \n",
       "33  air_quality_sensor      Measures pollutants in the air.         pm25   \n",
       "34  air_quality_sensor      Measures pollutants in the air.         pm10   \n",
       "\n",
       "                                            prop_desc prop_type prop_unit  \n",
       "29                                  Temperature value    number       Cel  \n",
       "30                                     Humidity value    number         %  \n",
       "31                                     Pressure value    number        Pa  \n",
       "32              PM1 (viruses, exhaust gases...) value    number     ug/m3  \n",
       "33  PM2.5 (bacteria, spores, pollen, toner dust......    number     ug/m3  \n",
       "34                PM10 (pollen, desert dust...) value    number     ug/m3  "
      ]
     },
     "execution_count": 39,
     "metadata": {},
     "output_type": "execute_result"
    }
   ],
   "source": [
    "# Air Quality SDF DATAFRAME\n",
    "sdfs_df[sdfs_df.thing=='AirQuality'].iloc[:,2:]"
   ]
  },
  {
   "cell_type": "code",
   "execution_count": 40,
   "metadata": {},
   "outputs": [
    {
     "data": {
      "text/html": [
       "<div>\n",
       "<style scoped>\n",
       "    .dataframe tbody tr th:only-of-type {\n",
       "        vertical-align: middle;\n",
       "    }\n",
       "\n",
       "    .dataframe tbody tr th {\n",
       "        vertical-align: top;\n",
       "    }\n",
       "\n",
       "    .dataframe thead th {\n",
       "        text-align: right;\n",
       "    }\n",
       "</style>\n",
       "<table border=\"1\" class=\"dataframe\">\n",
       "  <thead>\n",
       "    <tr style=\"text-align: right;\">\n",
       "      <th></th>\n",
       "      <th>obj</th>\n",
       "      <th>obj_desc</th>\n",
       "      <th>prop</th>\n",
       "      <th>prop_desc</th>\n",
       "      <th>prop_type</th>\n",
       "      <th>prop_unit</th>\n",
       "    </tr>\n",
       "  </thead>\n",
       "  <tbody>\n",
       "    <tr>\n",
       "      <th>0</th>\n",
       "      <td>temperature_humidity_sensor</td>\n",
       "      <td>Measures environmental temperature and humidity.</td>\n",
       "      <td>temperature</td>\n",
       "      <td>Temperature value</td>\n",
       "      <td>number</td>\n",
       "      <td>Cel</td>\n",
       "    </tr>\n",
       "    <tr>\n",
       "      <th>1</th>\n",
       "      <td>temperature_humidity_sensor</td>\n",
       "      <td>Measures environmental temperature and humidity.</td>\n",
       "      <td>humidity</td>\n",
       "      <td>Humidity value</td>\n",
       "      <td>number</td>\n",
       "      <td>%</td>\n",
       "    </tr>\n",
       "    <tr>\n",
       "      <th>2</th>\n",
       "      <td>air_quality_sensor</td>\n",
       "      <td>Measures air pollutants.</td>\n",
       "      <td>pm25</td>\n",
       "      <td>PM2.5 value</td>\n",
       "      <td>number</td>\n",
       "      <td>ug/m3</td>\n",
       "    </tr>\n",
       "    <tr>\n",
       "      <th>3</th>\n",
       "      <td>air_quality_sensor</td>\n",
       "      <td>Measures air pollutants.</td>\n",
       "      <td>pm10</td>\n",
       "      <td>PM10 value</td>\n",
       "      <td>number</td>\n",
       "      <td>ug/m3</td>\n",
       "    </tr>\n",
       "  </tbody>\n",
       "</table>\n",
       "</div>"
      ],
      "text/plain": [
       "                           obj  \\\n",
       "0  temperature_humidity_sensor   \n",
       "1  temperature_humidity_sensor   \n",
       "2           air_quality_sensor   \n",
       "3           air_quality_sensor   \n",
       "\n",
       "                                           obj_desc         prop  \\\n",
       "0  Measures environmental temperature and humidity.  temperature   \n",
       "1  Measures environmental temperature and humidity.     humidity   \n",
       "2                          Measures air pollutants.         pm25   \n",
       "3                          Measures air pollutants.         pm10   \n",
       "\n",
       "           prop_desc prop_type prop_unit  \n",
       "0  Temperature value    number       Cel  \n",
       "1     Humidity value    number         %  \n",
       "2        PM2.5 value    number     ug/m3  \n",
       "3         PM10 value    number     ug/m3  "
      ]
     },
     "execution_count": 40,
     "metadata": {},
     "output_type": "execute_result"
    }
   ],
   "source": [
    "# Air Quality Modified SDF DATAFRAME\n",
    "sdfs_df[sdfs_df.thing=='AirQualityModified'].iloc[:,2:]"
   ]
  },
  {
   "cell_type": "markdown",
   "metadata": {},
   "source": [
    "### Append buffered data for each property to its corresponding row"
   ]
  },
  {
   "cell_type": "code",
   "execution_count": null,
   "metadata": {},
   "outputs": [],
   "source": [
    "# Gather buffered data and append it to the dataframe rows"
   ]
  },
  {
   "cell_type": "code",
   "execution_count": null,
   "metadata": {},
   "outputs": [],
   "source": []
  },
  {
   "cell_type": "code",
   "execution_count": null,
   "metadata": {},
   "outputs": [],
   "source": []
  },
  {
   "cell_type": "markdown",
   "metadata": {},
   "source": [
    "### Compare device dataframes"
   ]
  },
  {
   "cell_type": "code",
   "execution_count": 41,
   "metadata": {},
   "outputs": [],
   "source": [
    "# Given an unknown device with its SDF definition dataframe, \n",
    "# compute a distance metric to other SDF definitions"
   ]
  },
  {
   "cell_type": "code",
   "execution_count": null,
   "metadata": {},
   "outputs": [],
   "source": []
  },
  {
   "cell_type": "code",
   "execution_count": null,
   "metadata": {},
   "outputs": [],
   "source": []
  },
  {
   "cell_type": "markdown",
   "metadata": {},
   "source": [
    "## Between devices buffered data"
   ]
  },
  {
   "cell_type": "code",
   "execution_count": 30,
   "metadata": {},
   "outputs": [
    {
     "data": {
      "text/html": [
       "<div>\n",
       "<style scoped>\n",
       "    .dataframe tbody tr th:only-of-type {\n",
       "        vertical-align: middle;\n",
       "    }\n",
       "\n",
       "    .dataframe tbody tr th {\n",
       "        vertical-align: top;\n",
       "    }\n",
       "\n",
       "    .dataframe thead th {\n",
       "        text-align: right;\n",
       "    }\n",
       "</style>\n",
       "<table border=\"1\" class=\"dataframe\">\n",
       "  <thead>\n",
       "    <tr style=\"text-align: right;\">\n",
       "      <th></th>\n",
       "      <th>thing</th>\n",
       "      <th>thing_desc</th>\n",
       "      <th>obj</th>\n",
       "      <th>obj_desc</th>\n",
       "      <th>prop</th>\n",
       "      <th>prop_desc</th>\n",
       "      <th>prop_type</th>\n",
       "      <th>prop_unit</th>\n",
       "    </tr>\n",
       "  </thead>\n",
       "  <tbody>\n",
       "    <tr>\n",
       "      <th>29</th>\n",
       "      <td>AirQuality</td>\n",
       "      <td>Monitors air quality through a set of sensors</td>\n",
       "      <td>temperature_sensor</td>\n",
       "      <td>Measures environmental temperature.</td>\n",
       "      <td>temperature</td>\n",
       "      <td>Temperature value</td>\n",
       "      <td>number</td>\n",
       "      <td>Cel</td>\n",
       "    </tr>\n",
       "    <tr>\n",
       "      <th>30</th>\n",
       "      <td>AirQuality</td>\n",
       "      <td>Monitors air quality through a set of sensors</td>\n",
       "      <td>humidity_sensor</td>\n",
       "      <td>Measures environmental humidity.</td>\n",
       "      <td>humidity</td>\n",
       "      <td>Humidity value</td>\n",
       "      <td>number</td>\n",
       "      <td>%</td>\n",
       "    </tr>\n",
       "    <tr>\n",
       "      <th>31</th>\n",
       "      <td>AirQuality</td>\n",
       "      <td>Monitors air quality through a set of sensors</td>\n",
       "      <td>pressure_sensor</td>\n",
       "      <td>Measures environmental pressure.</td>\n",
       "      <td>pressure</td>\n",
       "      <td>Pressure value</td>\n",
       "      <td>number</td>\n",
       "      <td>Pa</td>\n",
       "    </tr>\n",
       "    <tr>\n",
       "      <th>32</th>\n",
       "      <td>AirQuality</td>\n",
       "      <td>Monitors air quality through a set of sensors</td>\n",
       "      <td>air_quality_sensor</td>\n",
       "      <td>Measures pollutants in the air.</td>\n",
       "      <td>pm1</td>\n",
       "      <td>PM1 (viruses, exhaust gases...) value</td>\n",
       "      <td>number</td>\n",
       "      <td>ug/m3</td>\n",
       "    </tr>\n",
       "    <tr>\n",
       "      <th>33</th>\n",
       "      <td>AirQuality</td>\n",
       "      <td>Monitors air quality through a set of sensors</td>\n",
       "      <td>air_quality_sensor</td>\n",
       "      <td>Measures pollutants in the air.</td>\n",
       "      <td>pm25</td>\n",
       "      <td>PM2.5 (bacteria, spores, pollen, toner dust......</td>\n",
       "      <td>number</td>\n",
       "      <td>ug/m3</td>\n",
       "    </tr>\n",
       "    <tr>\n",
       "      <th>34</th>\n",
       "      <td>AirQuality</td>\n",
       "      <td>Monitors air quality through a set of sensors</td>\n",
       "      <td>air_quality_sensor</td>\n",
       "      <td>Measures pollutants in the air.</td>\n",
       "      <td>pm10</td>\n",
       "      <td>PM10 (pollen, desert dust...) value</td>\n",
       "      <td>number</td>\n",
       "      <td>ug/m3</td>\n",
       "    </tr>\n",
       "  </tbody>\n",
       "</table>\n",
       "</div>"
      ],
      "text/plain": [
       "         thing                                     thing_desc  \\\n",
       "29  AirQuality  Monitors air quality through a set of sensors   \n",
       "30  AirQuality  Monitors air quality through a set of sensors   \n",
       "31  AirQuality  Monitors air quality through a set of sensors   \n",
       "32  AirQuality  Monitors air quality through a set of sensors   \n",
       "33  AirQuality  Monitors air quality through a set of sensors   \n",
       "34  AirQuality  Monitors air quality through a set of sensors   \n",
       "\n",
       "                   obj                             obj_desc         prop  \\\n",
       "29  temperature_sensor  Measures environmental temperature.  temperature   \n",
       "30     humidity_sensor     Measures environmental humidity.     humidity   \n",
       "31     pressure_sensor     Measures environmental pressure.     pressure   \n",
       "32  air_quality_sensor      Measures pollutants in the air.          pm1   \n",
       "33  air_quality_sensor      Measures pollutants in the air.         pm25   \n",
       "34  air_quality_sensor      Measures pollutants in the air.         pm10   \n",
       "\n",
       "                                            prop_desc prop_type prop_unit  \n",
       "29                                  Temperature value    number       Cel  \n",
       "30                                     Humidity value    number         %  \n",
       "31                                     Pressure value    number        Pa  \n",
       "32              PM1 (viruses, exhaust gases...) value    number     ug/m3  \n",
       "33  PM2.5 (bacteria, spores, pollen, toner dust......    number     ug/m3  \n",
       "34                PM10 (pollen, desert dust...) value    number     ug/m3  "
      ]
     },
     "execution_count": 30,
     "metadata": {},
     "output_type": "execute_result"
    }
   ],
   "source": [
    "# Load buffered data of several devices\n"
   ]
  },
  {
   "cell_type": "code",
   "execution_count": null,
   "metadata": {},
   "outputs": [],
   "source": []
  }
 ],
 "metadata": {
  "kernelspec": {
   "display_name": "Python 3.10.4 64-bit",
   "language": "python",
   "name": "python3"
  },
  "language_info": {
   "codemirror_mode": {
    "name": "ipython",
    "version": 3
   },
   "file_extension": ".py",
   "mimetype": "text/x-python",
   "name": "python",
   "nbconvert_exporter": "python",
   "pygments_lexer": "ipython3",
   "version": "3.10.4"
  },
  "orig_nbformat": 4,
  "vscode": {
   "interpreter": {
    "hash": "31f2aee4e71d21fbe5cf8b01ff0e069b9275f58929596ceb00d14d90e3e16cd6"
   }
  }
 },
 "nbformat": 4,
 "nbformat_minor": 2
}
